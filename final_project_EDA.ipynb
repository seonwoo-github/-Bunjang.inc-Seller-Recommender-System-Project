{
  "nbformat": 4,
  "nbformat_minor": 0,
  "metadata": {
    "colab": {
      "name": "final project EDA.ipynb",
      "provenance": [],
      "collapsed_sections": [],
      "mount_file_id": "1-rAvVaDOSIeHhhhvOOBIlLMOC20SEwzp",
      "authorship_tag": "ABX9TyPA3cAl707EP45iIzmGT9sJ",
      "include_colab_link": true
    },
    "kernelspec": {
      "name": "python3",
      "display_name": "Python 3"
    },
    "language_info": {
      "name": "python"
    },
    "accelerator": "GPU"
  },
  "cells": [
    {
      "cell_type": "markdown",
      "metadata": {
        "id": "view-in-github",
        "colab_type": "text"
      },
      "source": [
        "<a href=\"https://colab.research.google.com/github/seonwoo-github/Bunjang.inc-Seller-Recommender-System-Project/blob/main/final_project_EDA.ipynb\" target=\"_parent\"><img src=\"https://colab.research.google.com/assets/colab-badge.svg\" alt=\"Open In Colab\"/></a>"
      ]
    },
    {
      "cell_type": "code",
      "metadata": {
        "colab": {
          "base_uri": "https://localhost:8080/"
        },
        "id": "QC5bPfIRbB5N",
        "outputId": "8b3e58fc-156e-4d04-bfba-ee96a6fe64f2"
      },
      "source": [
        "from google.colab import drive\n",
        "drive.mount('/content/drive')"
      ],
      "execution_count": null,
      "outputs": [
        {
          "output_type": "stream",
          "name": "stdout",
          "text": [
            "Drive already mounted at /content/drive; to attempt to forcibly remount, call drive.mount(\"/content/drive\", force_remount=True).\n"
          ]
        }
      ]
    },
    {
      "cell_type": "code",
      "metadata": {
        "id": "B4BqN_TEbHEG"
      },
      "source": [
        "import pandas as pd\n",
        "import numpy as np\n",
        "import matplotlib.pyplot as plt\n",
        "import seaborn as sns\n",
        "\n",
        "import warnings\n",
        "warnings.filterwarnings('ignore')"
      ],
      "execution_count": null,
      "outputs": []
    },
    {
      "cell_type": "code",
      "metadata": {
        "id": "cOBuldzabHGW"
      },
      "source": [
        "data_path = '/content/drive/MyDrive/Colab Notebooks/data/ad.zip (Unzipped Files)/data/'\n",
        "ad = pd.read_csv(data_path + 'ad.csv')\n",
        "advertiser = pd.read_csv(data_path + 'advertiser.csv')\n",
        "dataset = pd.read_csv(data_path + 'dataset.csv')\n",
        "impression_log = pd.read_csv(data_path + 'impression_log.csv')\n",
        "view_log = pd.read_csv(data_path + 'view_log.csv')\n",
        "viewer = pd.read_csv(data_path + 'viewer.csv')"
      ],
      "execution_count": null,
      "outputs": []
    },
    {
      "cell_type": "markdown",
      "metadata": {
        "id": "MxBr_ijr3ycs"
      },
      "source": [
        "# AD (data/ad.csv)\n",
        "- content_id: 광고 상품 아이디\n",
        "- name: 광고 상품 이름\n",
        "- keyword: 광고 상품 태그\n",
        "- price: 광고 상품 가격\n",
        "- flag_used: 광고 상품 중고 여부\n",
        "- category_id_1: 광고 상품 1차 카테고리\n",
        "- category_id_2: 광고 상품 2차 카테고리\n",
        "- category_id_3: 광고 상품 카테고리\n",
        "- emergency_cnt: 광고 상품 신고수\n",
        "- comment_cnt: 광고 상품에 달린 코멘트수\n",
        "- interest: 광고 상품 클릭수\n",
        "- pfavcnt: 광고 상품 좋아요 수\n",
        "- user_id : advertizer id  (추가)"
      ]
    },
    {
      "cell_type": "markdown",
      "metadata": {
        "id": "EoHx7Dmg5tzJ"
      },
      "source": [
        "## EDA"
      ]
    },
    {
      "cell_type": "code",
      "metadata": {
        "colab": {
          "base_uri": "https://localhost:8080/"
        },
        "id": "xoJqNLAs3310",
        "outputId": "551acd36-54ee-4037-9919-62e763122bf6"
      },
      "source": [
        "ad.info()"
      ],
      "execution_count": null,
      "outputs": [
        {
          "output_type": "stream",
          "name": "stdout",
          "text": [
            "<class 'pandas.core.frame.DataFrame'>\n",
            "RangeIndex: 1427 entries, 0 to 1426\n",
            "Data columns (total 13 columns):\n",
            " #   Column         Non-Null Count  Dtype \n",
            "---  ------         --------------  ----- \n",
            " 0   content_id     1427 non-null   int64 \n",
            " 1   user_id        1427 non-null   int64 \n",
            " 2   name           1427 non-null   object\n",
            " 3   keyword        1342 non-null   object\n",
            " 4   price          1427 non-null   int64 \n",
            " 5   flag_used      1427 non-null   int64 \n",
            " 6   category_id_1  1427 non-null   int64 \n",
            " 7   category_id_2  1427 non-null   int64 \n",
            " 8   category_id_3  1427 non-null   int64 \n",
            " 9   emergency_cnt  1427 non-null   int64 \n",
            " 10  comment_cnt    1427 non-null   int64 \n",
            " 11  interest       1427 non-null   int64 \n",
            " 12  pfavcnt        1427 non-null   int64 \n",
            "dtypes: int64(11), object(2)\n",
            "memory usage: 145.1+ KB\n"
          ]
        }
      ]
    },
    {
      "cell_type": "code",
      "metadata": {
        "colab": {
          "base_uri": "https://localhost:8080/",
          "height": 300
        },
        "id": "KtpkzozO4q87",
        "outputId": "3e6e7ef8-81c1-40c6-fbe5-362dd88c1456"
      },
      "source": [
        "ad.describe()"
      ],
      "execution_count": null,
      "outputs": [
        {
          "output_type": "execute_result",
          "data": {
            "text/html": [
              "<div>\n",
              "<style scoped>\n",
              "    .dataframe tbody tr th:only-of-type {\n",
              "        vertical-align: middle;\n",
              "    }\n",
              "\n",
              "    .dataframe tbody tr th {\n",
              "        vertical-align: top;\n",
              "    }\n",
              "\n",
              "    .dataframe thead th {\n",
              "        text-align: right;\n",
              "    }\n",
              "</style>\n",
              "<table border=\"1\" class=\"dataframe\">\n",
              "  <thead>\n",
              "    <tr style=\"text-align: right;\">\n",
              "      <th></th>\n",
              "      <th>content_id</th>\n",
              "      <th>user_id</th>\n",
              "      <th>price</th>\n",
              "      <th>flag_used</th>\n",
              "      <th>category_id_1</th>\n",
              "      <th>category_id_2</th>\n",
              "      <th>category_id_3</th>\n",
              "      <th>emergency_cnt</th>\n",
              "      <th>comment_cnt</th>\n",
              "      <th>interest</th>\n",
              "      <th>pfavcnt</th>\n",
              "    </tr>\n",
              "  </thead>\n",
              "  <tbody>\n",
              "    <tr>\n",
              "      <th>count</th>\n",
              "      <td>1.427000e+03</td>\n",
              "      <td>1.427000e+03</td>\n",
              "      <td>1.427000e+03</td>\n",
              "      <td>1427.000000</td>\n",
              "      <td>1427.000000</td>\n",
              "      <td>1427.000000</td>\n",
              "      <td>1.427000e+03</td>\n",
              "      <td>1427.000000</td>\n",
              "      <td>1427.000000</td>\n",
              "      <td>1.427000e+03</td>\n",
              "      <td>1427.000000</td>\n",
              "    </tr>\n",
              "    <tr>\n",
              "      <th>mean</th>\n",
              "      <td>1.507383e+08</td>\n",
              "      <td>1.264119e+07</td>\n",
              "      <td>4.858902e+05</td>\n",
              "      <td>1.507358</td>\n",
              "      <td>577.733006</td>\n",
              "      <td>571764.733006</td>\n",
              "      <td>5.486859e+08</td>\n",
              "      <td>1.100911</td>\n",
              "      <td>3.704975</td>\n",
              "      <td>9.879053e+03</td>\n",
              "      <td>167.454800</td>\n",
              "    </tr>\n",
              "    <tr>\n",
              "      <th>std</th>\n",
              "      <td>2.265078e+07</td>\n",
              "      <td>2.057324e+07</td>\n",
              "      <td>9.559031e+05</td>\n",
              "      <td>1.280086</td>\n",
              "      <td>143.875119</td>\n",
              "      <td>151494.937899</td>\n",
              "      <td>1.835431e+08</td>\n",
              "      <td>10.804247</td>\n",
              "      <td>38.945396</td>\n",
              "      <td>1.067729e+05</td>\n",
              "      <td>1331.045728</td>\n",
              "    </tr>\n",
              "    <tr>\n",
              "      <th>min</th>\n",
              "      <td>2.282554e+07</td>\n",
              "      <td>1.317000e+04</td>\n",
              "      <td>1.000000e+04</td>\n",
              "      <td>1.000000</td>\n",
              "      <td>220.000000</td>\n",
              "      <td>310.000000</td>\n",
              "      <td>3.100000e+02</td>\n",
              "      <td>0.000000</td>\n",
              "      <td>0.000000</td>\n",
              "      <td>6.000000e+00</td>\n",
              "      <td>0.000000</td>\n",
              "    </tr>\n",
              "    <tr>\n",
              "      <th>25%</th>\n",
              "      <td>1.517148e+08</td>\n",
              "      <td>2.378665e+06</td>\n",
              "      <td>8.000000e+04</td>\n",
              "      <td>1.000000</td>\n",
              "      <td>600.000000</td>\n",
              "      <td>600100.000000</td>\n",
              "      <td>4.302007e+08</td>\n",
              "      <td>0.000000</td>\n",
              "      <td>0.000000</td>\n",
              "      <td>1.485000e+02</td>\n",
              "      <td>4.000000</td>\n",
              "    </tr>\n",
              "    <tr>\n",
              "      <th>50%</th>\n",
              "      <td>1.613935e+08</td>\n",
              "      <td>6.965817e+06</td>\n",
              "      <td>2.550000e+05</td>\n",
              "      <td>1.000000</td>\n",
              "      <td>600.000000</td>\n",
              "      <td>600700.000000</td>\n",
              "      <td>6.007000e+08</td>\n",
              "      <td>0.000000</td>\n",
              "      <td>0.000000</td>\n",
              "      <td>4.940000e+02</td>\n",
              "      <td>12.000000</td>\n",
              "    </tr>\n",
              "    <tr>\n",
              "      <th>75%</th>\n",
              "      <td>1.627922e+08</td>\n",
              "      <td>1.089563e+07</td>\n",
              "      <td>5.750000e+05</td>\n",
              "      <td>2.000000</td>\n",
              "      <td>600.000000</td>\n",
              "      <td>600700.000000</td>\n",
              "      <td>6.007000e+08</td>\n",
              "      <td>0.000000</td>\n",
              "      <td>0.000000</td>\n",
              "      <td>2.677500e+03</td>\n",
              "      <td>52.000000</td>\n",
              "    </tr>\n",
              "    <tr>\n",
              "      <th>max</th>\n",
              "      <td>1.632739e+08</td>\n",
              "      <td>7.730665e+07</td>\n",
              "      <td>1.000000e+07</td>\n",
              "      <td>13.000000</td>\n",
              "      <td>999.000000</td>\n",
              "      <td>990200.000000</td>\n",
              "      <td>9.202002e+08</td>\n",
              "      <td>273.000000</td>\n",
              "      <td>1209.000000</td>\n",
              "      <td>3.511826e+06</td>\n",
              "      <td>36484.000000</td>\n",
              "    </tr>\n",
              "  </tbody>\n",
              "</table>\n",
              "</div>"
            ],
            "text/plain": [
              "         content_id       user_id  ...      interest       pfavcnt\n",
              "count  1.427000e+03  1.427000e+03  ...  1.427000e+03   1427.000000\n",
              "mean   1.507383e+08  1.264119e+07  ...  9.879053e+03    167.454800\n",
              "std    2.265078e+07  2.057324e+07  ...  1.067729e+05   1331.045728\n",
              "min    2.282554e+07  1.317000e+04  ...  6.000000e+00      0.000000\n",
              "25%    1.517148e+08  2.378665e+06  ...  1.485000e+02      4.000000\n",
              "50%    1.613935e+08  6.965817e+06  ...  4.940000e+02     12.000000\n",
              "75%    1.627922e+08  1.089563e+07  ...  2.677500e+03     52.000000\n",
              "max    1.632739e+08  7.730665e+07  ...  3.511826e+06  36484.000000\n",
              "\n",
              "[8 rows x 11 columns]"
            ]
          },
          "metadata": {},
          "execution_count": 5
        }
      ]
    },
    {
      "cell_type": "code",
      "metadata": {
        "colab": {
          "base_uri": "https://localhost:8080/",
          "height": 382
        },
        "id": "guKy4dM9bHKh",
        "outputId": "886c2971-fce6-48a1-aedd-46f3a6f3d371"
      },
      "source": [
        "print(ad.shape)\n",
        "ad.head()"
      ],
      "execution_count": null,
      "outputs": [
        {
          "output_type": "stream",
          "name": "stdout",
          "text": [
            "(1427, 13)\n"
          ]
        },
        {
          "output_type": "execute_result",
          "data": {
            "text/html": [
              "<div>\n",
              "<style scoped>\n",
              "    .dataframe tbody tr th:only-of-type {\n",
              "        vertical-align: middle;\n",
              "    }\n",
              "\n",
              "    .dataframe tbody tr th {\n",
              "        vertical-align: top;\n",
              "    }\n",
              "\n",
              "    .dataframe thead th {\n",
              "        text-align: right;\n",
              "    }\n",
              "</style>\n",
              "<table border=\"1\" class=\"dataframe\">\n",
              "  <thead>\n",
              "    <tr style=\"text-align: right;\">\n",
              "      <th></th>\n",
              "      <th>content_id</th>\n",
              "      <th>user_id</th>\n",
              "      <th>name</th>\n",
              "      <th>keyword</th>\n",
              "      <th>price</th>\n",
              "      <th>flag_used</th>\n",
              "      <th>category_id_1</th>\n",
              "      <th>category_id_2</th>\n",
              "      <th>category_id_3</th>\n",
              "      <th>emergency_cnt</th>\n",
              "      <th>comment_cnt</th>\n",
              "      <th>interest</th>\n",
              "      <th>pfavcnt</th>\n",
              "    </tr>\n",
              "  </thead>\n",
              "  <tbody>\n",
              "    <tr>\n",
              "      <th>0</th>\n",
              "      <td>157826057</td>\n",
              "      <td>114088</td>\n",
              "      <td>인텔 4세대 i5-4670 사무용 컴퓨터 팝니다.</td>\n",
              "      <td>사무용컴퓨터,사무용PC,중고사무용컴퓨터,중고사무용PC,사무용중고컴퓨터</td>\n",
              "      <td>250000</td>\n",
              "      <td>1</td>\n",
              "      <td>600</td>\n",
              "      <td>600100</td>\n",
              "      <td>600100006</td>\n",
              "      <td>0</td>\n",
              "      <td>0</td>\n",
              "      <td>714</td>\n",
              "      <td>4</td>\n",
              "    </tr>\n",
              "    <tr>\n",
              "      <th>1</th>\n",
              "      <td>162431268</td>\n",
              "      <td>3247363</td>\n",
              "      <td>갤럭시노트10+ 512GB 글로우 (무잔상) ! 0821</td>\n",
              "      <td>갤럭시노트10,노트10플러스,노트10플러스중고,노트10플러스공기,노트10플러스글로</td>\n",
              "      <td>439000</td>\n",
              "      <td>1</td>\n",
              "      <td>600</td>\n",
              "      <td>600700</td>\n",
              "      <td>600700001</td>\n",
              "      <td>0</td>\n",
              "      <td>0</td>\n",
              "      <td>39</td>\n",
              "      <td>2</td>\n",
              "    </tr>\n",
              "    <tr>\n",
              "      <th>2</th>\n",
              "      <td>162806215</td>\n",
              "      <td>12851816</td>\n",
              "      <td>#한정판매#갤럭시S21 256GB 화이트 SS급 중고폰공기계[75333]</td>\n",
              "      <td>갤럭시S21,갤럭시S21화이트,S21화이트</td>\n",
              "      <td>620000</td>\n",
              "      <td>1</td>\n",
              "      <td>600</td>\n",
              "      <td>600700</td>\n",
              "      <td>600700001</td>\n",
              "      <td>0</td>\n",
              "      <td>0</td>\n",
              "      <td>145</td>\n",
              "      <td>5</td>\n",
              "    </tr>\n",
              "    <tr>\n",
              "      <th>3</th>\n",
              "      <td>152625380</td>\n",
              "      <td>2347538</td>\n",
              "      <td>#당일발송#갤럭시S9플러스 64G 대량판매 등급별초특가!</td>\n",
              "      <td>S9플러스,S9플러스중고,갤럭시S9플러스</td>\n",
              "      <td>195000</td>\n",
              "      <td>1</td>\n",
              "      <td>600</td>\n",
              "      <td>600700</td>\n",
              "      <td>600700001</td>\n",
              "      <td>0</td>\n",
              "      <td>0</td>\n",
              "      <td>234</td>\n",
              "      <td>8</td>\n",
              "    </tr>\n",
              "    <tr>\n",
              "      <th>4</th>\n",
              "      <td>161572473</td>\n",
              "      <td>12927760</td>\n",
              "      <td>포터2카고 중고화물차 팝니다.</td>\n",
              "      <td>포터2,포터중고차,포터2카고,포터2중고,포터2카고중고</td>\n",
              "      <td>9800000</td>\n",
              "      <td>1</td>\n",
              "      <td>750</td>\n",
              "      <td>750200</td>\n",
              "      <td>750200700</td>\n",
              "      <td>0</td>\n",
              "      <td>0</td>\n",
              "      <td>388</td>\n",
              "      <td>4</td>\n",
              "    </tr>\n",
              "  </tbody>\n",
              "</table>\n",
              "</div>"
            ],
            "text/plain": [
              "   content_id   user_id  ... interest pfavcnt\n",
              "0   157826057    114088  ...      714       4\n",
              "1   162431268   3247363  ...       39       2\n",
              "2   162806215  12851816  ...      145       5\n",
              "3   152625380   2347538  ...      234       8\n",
              "4   161572473  12927760  ...      388       4\n",
              "\n",
              "[5 rows x 13 columns]"
            ]
          },
          "metadata": {},
          "execution_count": 6
        }
      ]
    },
    {
      "cell_type": "code",
      "metadata": {
        "colab": {
          "base_uri": "https://localhost:8080/"
        },
        "id": "OYuCMFahthUC",
        "outputId": "9d99e78a-ab8c-4814-c4ec-fc4934466a05"
      },
      "source": [
        "ad.isnull().sum()"
      ],
      "execution_count": null,
      "outputs": [
        {
          "output_type": "execute_result",
          "data": {
            "text/plain": [
              "content_id        0\n",
              "user_id           0\n",
              "name              0\n",
              "keyword          85\n",
              "price             0\n",
              "flag_used         0\n",
              "category_id_1     0\n",
              "category_id_2     0\n",
              "category_id_3     0\n",
              "emergency_cnt     0\n",
              "comment_cnt       0\n",
              "interest          0\n",
              "pfavcnt           0\n",
              "dtype: int64"
            ]
          },
          "metadata": {},
          "execution_count": 7
        }
      ]
    },
    {
      "cell_type": "code",
      "metadata": {
        "colab": {
          "base_uri": "https://localhost:8080/"
        },
        "id": "NNaVh1uStnu5",
        "outputId": "ae18267a-fbdd-4f5c-d284-bcc5351d3150"
      },
      "source": [
        "keword_isnull = ad[ad['keyword'].isnull() == True]\n",
        "keword_isnull.category_id_1.value_counts()"
      ],
      "execution_count": null,
      "outputs": [
        {
          "output_type": "execute_result",
          "data": {
            "text/plain": [
              "600    66\n",
              "750    11\n",
              "410     2\n",
              "999     1\n",
              "990     1\n",
              "700     1\n",
              "810     1\n",
              "400     1\n",
              "910     1\n",
              "Name: category_id_1, dtype: int64"
            ]
          },
          "metadata": {},
          "execution_count": 8
        }
      ]
    },
    {
      "cell_type": "code",
      "metadata": {
        "colab": {
          "base_uri": "https://localhost:8080/"
        },
        "id": "rPxpuj0N686i",
        "outputId": "4fb80314-de7e-41b9-adf1-18e62634c9d4"
      },
      "source": [
        "print(f'ad shape : {ad.shape}')\n",
        "print('\\n')\n",
        "for feat in ad:\n",
        "    print({feat : ad[feat].nunique()})\n",
        "\n",
        "# name 개수가 1427이 아닌 이유 => nunique()이기 때문에 같은 제목으로 올린 중복 글은 카운트x"
      ],
      "execution_count": null,
      "outputs": [
        {
          "output_type": "stream",
          "name": "stdout",
          "text": [
            "ad shape : (1427, 13)\n",
            "\n",
            "\n",
            "{'content_id': 1427}\n",
            "{'user_id': 308}\n",
            "{'name': 1396}\n",
            "{'keyword': 1204}\n",
            "{'price': 405}\n",
            "{'flag_used': 3}\n",
            "{'category_id_1': 21}\n",
            "{'category_id_2': 95}\n",
            "{'category_id_3': 187}\n",
            "{'emergency_cnt': 23}\n",
            "{'comment_cnt': 52}\n",
            "{'interest': 1021}\n",
            "{'pfavcnt': 307}\n"
          ]
        }
      ]
    },
    {
      "cell_type": "code",
      "metadata": {
        "colab": {
          "base_uri": "https://localhost:8080/"
        },
        "id": "3fVBOTT7Esux",
        "outputId": "7f8bc350-e803-4b41-e773-3d79bf7ef5af"
      },
      "source": [
        "# user_id\n",
        "ad.user_id.value_counts().head(20)"
      ],
      "execution_count": null,
      "outputs": [
        {
          "output_type": "execute_result",
          "data": {
            "text/plain": [
              "12851816    146\n",
              "10255755    104\n",
              "10197556     92\n",
              "3947717      73\n",
              "2347538      52\n",
              "87148        51\n",
              "1266155      50\n",
              "6972746      46\n",
              "3682152      45\n",
              "1462217      28\n",
              "6965817      27\n",
              "2723062      23\n",
              "9592612      22\n",
              "948674       20\n",
              "9698825      17\n",
              "4183835      15\n",
              "1358510      13\n",
              "1909021      12\n",
              "178506       12\n",
              "4776936      11\n",
              "Name: user_id, dtype: int64"
            ]
          },
          "metadata": {},
          "execution_count": 10
        }
      ]
    },
    {
      "cell_type": "code",
      "metadata": {
        "colab": {
          "base_uri": "https://localhost:8080/",
          "height": 299
        },
        "id": "S6UJs5X7FT7o",
        "outputId": "e1cf64e3-3956-4411-c9bb-fac588aa34c3"
      },
      "source": [
        "sns.distplot(ad.user_id.value_counts())"
      ],
      "execution_count": null,
      "outputs": [
        {
          "output_type": "execute_result",
          "data": {
            "text/plain": [
              "<matplotlib.axes._subplots.AxesSubplot at 0x7f8e65e9ef10>"
            ]
          },
          "metadata": {},
          "execution_count": 11
        },
        {
          "output_type": "display_data",
          "data": {
            "image/png": "[encoded data removed]",
            "text/plain": [
              "<Figure size 432x288 with 1 Axes>"
            ]
          },
          "metadata": {
            "needs_background": "light"
          }
        }
      ]
    },
    {
      "cell_type": "code",
      "metadata": {
        "colab": {
          "base_uri": "https://localhost:8080/",
          "height": 771
        },
        "id": "J9GbcFvzGq0h",
        "outputId": "7b926a4f-1ae2-44e6-9aa2-6981076675be"
      },
      "source": [
        "ad[ad['user_id'] == 12851816]"
      ],
      "execution_count": null,
      "outputs": [
        {
          "output_type": "execute_result",
          "data": {
            "text/html": [
              "<div>\n",
              "<style scoped>\n",
              "    .dataframe tbody tr th:only-of-type {\n",
              "        vertical-align: middle;\n",
              "    }\n",
              "\n",
              "    .dataframe tbody tr th {\n",
              "        vertical-align: top;\n",
              "    }\n",
              "\n",
              "    .dataframe thead th {\n",
              "        text-align: right;\n",
              "    }\n",
              "</style>\n",
              "<table border=\"1\" class=\"dataframe\">\n",
              "  <thead>\n",
              "    <tr style=\"text-align: right;\">\n",
              "      <th></th>\n",
              "      <th>content_id</th>\n",
              "      <th>user_id</th>\n",
              "      <th>name</th>\n",
              "      <th>keyword</th>\n",
              "      <th>price</th>\n",
              "      <th>flag_used</th>\n",
              "      <th>category_id_1</th>\n",
              "      <th>category_id_2</th>\n",
              "      <th>category_id_3</th>\n",
              "      <th>emergency_cnt</th>\n",
              "      <th>comment_cnt</th>\n",
              "      <th>interest</th>\n",
              "      <th>pfavcnt</th>\n",
              "    </tr>\n",
              "  </thead>\n",
              "  <tbody>\n",
              "    <tr>\n",
              "      <th>2</th>\n",
              "      <td>162806215</td>\n",
              "      <td>12851816</td>\n",
              "      <td>#한정판매#갤럭시S21 256GB 화이트 SS급 중고폰공기계[75333]</td>\n",
              "      <td>갤럭시S21,갤럭시S21화이트,S21화이트</td>\n",
              "      <td>620000</td>\n",
              "      <td>1</td>\n",
              "      <td>600</td>\n",
              "      <td>600700</td>\n",
              "      <td>600700001</td>\n",
              "      <td>0</td>\n",
              "      <td>0</td>\n",
              "      <td>145</td>\n",
              "      <td>5</td>\n",
              "    </tr>\n",
              "    <tr>\n",
              "      <th>7</th>\n",
              "      <td>137118036</td>\n",
              "      <td>12851816</td>\n",
              "      <td>#특별가격이벤트#갤럭시S10플러스 128G 대량판매 등급별초특가!</td>\n",
              "      <td>s10플러스공기계,갤럭시s10플러스,s10플러스,s10플러스중고</td>\n",
              "      <td>295000</td>\n",
              "      <td>1</td>\n",
              "      <td>600</td>\n",
              "      <td>600700</td>\n",
              "      <td>600700001</td>\n",
              "      <td>0</td>\n",
              "      <td>1</td>\n",
              "      <td>4802</td>\n",
              "      <td>87</td>\n",
              "    </tr>\n",
              "    <tr>\n",
              "      <th>14</th>\n",
              "      <td>161384763</td>\n",
              "      <td>12851816</td>\n",
              "      <td>#한정판매# 갤럭시S10 A급 화이트 128G 중고폰공기계[99996]</td>\n",
              "      <td>갤럭시S10,S10중고,S10중고폰,S10공기계,직거래</td>\n",
              "      <td>275000</td>\n",
              "      <td>1</td>\n",
              "      <td>600</td>\n",
              "      <td>600700</td>\n",
              "      <td>600700001</td>\n",
              "      <td>0</td>\n",
              "      <td>0</td>\n",
              "      <td>520</td>\n",
              "      <td>10</td>\n",
              "    </tr>\n",
              "    <tr>\n",
              "      <th>21</th>\n",
              "      <td>137078818</td>\n",
              "      <td>12851816</td>\n",
              "      <td>#당일발송#아이폰SE2 64G/128G 대량판매 등급별초특가!</td>\n",
              "      <td>아이폰SE2중고,아이폰se2공기계,SE2중고,SE2,아이폰SE2</td>\n",
              "      <td>250000</td>\n",
              "      <td>1</td>\n",
              "      <td>600</td>\n",
              "      <td>600700</td>\n",
              "      <td>600700001</td>\n",
              "      <td>1</td>\n",
              "      <td>4</td>\n",
              "      <td>25583</td>\n",
              "      <td>817</td>\n",
              "    </tr>\n",
              "    <tr>\n",
              "      <th>22</th>\n",
              "      <td>149152299</td>\n",
              "      <td>12851816</td>\n",
              "      <td>#대량판매#갤럭시S21플러스 256G  대량판매 등급별초특가</td>\n",
              "      <td>S21플러스,S21플러스중고,S21플러스중고폰,갤럭시S21플러스</td>\n",
              "      <td>649000</td>\n",
              "      <td>1</td>\n",
              "      <td>600</td>\n",
              "      <td>600700</td>\n",
              "      <td>600700001</td>\n",
              "      <td>0</td>\n",
              "      <td>1</td>\n",
              "      <td>7358</td>\n",
              "      <td>165</td>\n",
              "    </tr>\n",
              "    <tr>\n",
              "      <th>...</th>\n",
              "      <td>...</td>\n",
              "      <td>...</td>\n",
              "      <td>...</td>\n",
              "      <td>...</td>\n",
              "      <td>...</td>\n",
              "      <td>...</td>\n",
              "      <td>...</td>\n",
              "      <td>...</td>\n",
              "      <td>...</td>\n",
              "      <td>...</td>\n",
              "      <td>...</td>\n",
              "      <td>...</td>\n",
              "      <td>...</td>\n",
              "    </tr>\n",
              "    <tr>\n",
              "      <th>1373</th>\n",
              "      <td>137118198</td>\n",
              "      <td>12851816</td>\n",
              "      <td>#당일발송#갤럭시S20 128G 대량판매 등급별초특가!</td>\n",
              "      <td>중고갤럭시s20,s20중고폰,s20공기계,갤럭시s20,s20</td>\n",
              "      <td>419000</td>\n",
              "      <td>1</td>\n",
              "      <td>600</td>\n",
              "      <td>600700</td>\n",
              "      <td>600700001</td>\n",
              "      <td>0</td>\n",
              "      <td>4</td>\n",
              "      <td>15581</td>\n",
              "      <td>387</td>\n",
              "    </tr>\n",
              "    <tr>\n",
              "      <th>1388</th>\n",
              "      <td>162629569</td>\n",
              "      <td>12851816</td>\n",
              "      <td>#한정판매#아이폰11 A급 화이트 64G 중고폰공기계 [86349]</td>\n",
              "      <td>아이폰11,아이폰11중고,아이폰11중고폰,아이폰11공기계,직거래</td>\n",
              "      <td>555000</td>\n",
              "      <td>1</td>\n",
              "      <td>600</td>\n",
              "      <td>600700</td>\n",
              "      <td>600700001</td>\n",
              "      <td>0</td>\n",
              "      <td>0</td>\n",
              "      <td>207</td>\n",
              "      <td>3</td>\n",
              "    </tr>\n",
              "    <tr>\n",
              "      <th>1397</th>\n",
              "      <td>138443500</td>\n",
              "      <td>12851816</td>\n",
              "      <td>#당일발송#S10 5G 256G  대량판매 등급별 초특가!!</td>\n",
              "      <td>갤럭시s10중고,s105g중고폰,s105g공기계,갤럭시s105g</td>\n",
              "      <td>255000</td>\n",
              "      <td>1</td>\n",
              "      <td>600</td>\n",
              "      <td>600700</td>\n",
              "      <td>600700001</td>\n",
              "      <td>0</td>\n",
              "      <td>0</td>\n",
              "      <td>5252</td>\n",
              "      <td>94</td>\n",
              "    </tr>\n",
              "    <tr>\n",
              "      <th>1412</th>\n",
              "      <td>155571548</td>\n",
              "      <td>12851816</td>\n",
              "      <td>중고폰매입 노트10플러스 노트20 노트20울트라 s8 s9 s10</td>\n",
              "      <td>저가폰매입,파손폰매입,아이폰매입,갤럭시매입</td>\n",
              "      <td>1000000</td>\n",
              "      <td>1</td>\n",
              "      <td>600</td>\n",
              "      <td>600700</td>\n",
              "      <td>600700001</td>\n",
              "      <td>0</td>\n",
              "      <td>0</td>\n",
              "      <td>391</td>\n",
              "      <td>7</td>\n",
              "    </tr>\n",
              "    <tr>\n",
              "      <th>1416</th>\n",
              "      <td>162169975</td>\n",
              "      <td>12851816</td>\n",
              "      <td>#한정판매#아이폰11 S급 그린 64G 중고폰공기계[86874]</td>\n",
              "      <td>아이폰11,아이폰11중고,아이폰11중고폰,아이폰11공기계,직거래</td>\n",
              "      <td>515000</td>\n",
              "      <td>1</td>\n",
              "      <td>600</td>\n",
              "      <td>600700</td>\n",
              "      <td>600700001</td>\n",
              "      <td>0</td>\n",
              "      <td>0</td>\n",
              "      <td>730</td>\n",
              "      <td>23</td>\n",
              "    </tr>\n",
              "  </tbody>\n",
              "</table>\n",
              "<p>146 rows × 13 columns</p>\n",
              "</div>"
            ],
            "text/plain": [
              "      content_id   user_id  ... interest pfavcnt\n",
              "2      162806215  12851816  ...      145       5\n",
              "7      137118036  12851816  ...     4802      87\n",
              "14     161384763  12851816  ...      520      10\n",
              "21     137078818  12851816  ...    25583     817\n",
              "22     149152299  12851816  ...     7358     165\n",
              "...          ...       ...  ...      ...     ...\n",
              "1373   137118198  12851816  ...    15581     387\n",
              "1388   162629569  12851816  ...      207       3\n",
              "1397   138443500  12851816  ...     5252      94\n",
              "1412   155571548  12851816  ...      391       7\n",
              "1416   162169975  12851816  ...      730      23\n",
              "\n",
              "[146 rows x 13 columns]"
            ]
          },
          "metadata": {},
          "execution_count": 12
        }
      ]
    },
    {
      "cell_type": "code",
      "metadata": {
        "colab": {
          "base_uri": "https://localhost:8080/",
          "height": 287
        },
        "id": "VJgbRkEeB7ym",
        "outputId": "357a97c0-f91a-4ad2-e4d7-aa73d0efaa14"
      },
      "source": [
        "# flag_used\n",
        "ad.flag_used.value_counts().plot.bar()  # 13??????"
      ],
      "execution_count": null,
      "outputs": [
        {
          "output_type": "execute_result",
          "data": {
            "text/plain": [
              "<matplotlib.axes._subplots.AxesSubplot at 0x7f8e62645290>"
            ]
          },
          "metadata": {},
          "execution_count": 13
        },
        {
          "output_type": "display_data",
          "data": {
            "image/png": "[encoded data removed]",
            "text/plain": [
              "<Figure size 432x288 with 1 Axes>"
            ]
          },
          "metadata": {
            "needs_background": "light"
          }
        }
      ]
    },
    {
      "cell_type": "code",
      "metadata": {
        "colab": {
          "base_uri": "https://localhost:8080/",
          "height": 730
        },
        "id": "mqZSxAi3ClbS",
        "outputId": "249dfb59-a2f5-48a7-8c5e-f594124581ea"
      },
      "source": [
        "flag_used13 = ad[ad['flag_used'] == 13][['flag_used', 'name', 'user_id', 'emergency_cnt']]\n",
        "print(f'flag_used 13 유저 \\n{flag_used13.user_id.value_counts()}')\n",
        "flag_used13"
      ],
      "execution_count": null,
      "outputs": [
        {
          "output_type": "stream",
          "name": "stdout",
          "text": [
            "flag_used 13 유저 \n",
            "87148       4\n",
            "12851816    3\n",
            "9592612     2\n",
            "8105166     1\n",
            "3636411     1\n",
            "11264364    1\n",
            "8094755     1\n",
            "3876881     1\n",
            "3745504     1\n",
            "Name: user_id, dtype: int64\n"
          ]
        },
        {
          "output_type": "execute_result",
          "data": {
            "text/html": [
              "<div>\n",
              "<style scoped>\n",
              "    .dataframe tbody tr th:only-of-type {\n",
              "        vertical-align: middle;\n",
              "    }\n",
              "\n",
              "    .dataframe tbody tr th {\n",
              "        vertical-align: top;\n",
              "    }\n",
              "\n",
              "    .dataframe thead th {\n",
              "        text-align: right;\n",
              "    }\n",
              "</style>\n",
              "<table border=\"1\" class=\"dataframe\">\n",
              "  <thead>\n",
              "    <tr style=\"text-align: right;\">\n",
              "      <th></th>\n",
              "      <th>flag_used</th>\n",
              "      <th>name</th>\n",
              "      <th>user_id</th>\n",
              "      <th>emergency_cnt</th>\n",
              "    </tr>\n",
              "  </thead>\n",
              "  <tbody>\n",
              "    <tr>\n",
              "      <th>217</th>\n",
              "      <td>13</td>\n",
              "      <td>럭키슈에뜨 허리선이쁜 니트 F  n2717  애슐리상점</td>\n",
              "      <td>87148</td>\n",
              "      <td>0</td>\n",
              "    </tr>\n",
              "    <tr>\n",
              "      <th>498</th>\n",
              "      <td>13</td>\n",
              "      <td>(미필,저신용OK)만19세부터 중고차 전액할부가능!!</td>\n",
              "      <td>11264364</td>\n",
              "      <td>2</td>\n",
              "    </tr>\n",
              "    <tr>\n",
              "      <th>518</th>\n",
              "      <td>13</td>\n",
              "      <td>#당일발송#노트8 64G 대량판매 등급별초특가!</td>\n",
              "      <td>12851816</td>\n",
              "      <td>2</td>\n",
              "    </tr>\n",
              "    <tr>\n",
              "      <th>723</th>\n",
              "      <td>13</td>\n",
              "      <td>#당일발송# 갤럭시 A90  5G 전등급 전용량 등급별초특가!!</td>\n",
              "      <td>12851816</td>\n",
              "      <td>0</td>\n",
              "    </tr>\n",
              "    <tr>\n",
              "      <th>736</th>\n",
              "      <td>13</td>\n",
              "      <td>대구 개인용달 소형이사 원룸이사 저렴히 이용해보세요</td>\n",
              "      <td>3636411</td>\n",
              "      <td>0</td>\n",
              "    </tr>\n",
              "    <tr>\n",
              "      <th>827</th>\n",
              "      <td>13</td>\n",
              "      <td>오즈세컨 배기 청바지 n5165 애슐리상점</td>\n",
              "      <td>87148</td>\n",
              "      <td>0</td>\n",
              "    </tr>\n",
              "    <tr>\n",
              "      <th>828</th>\n",
              "      <td>13</td>\n",
              "      <td>럭키슈에뜨 밑단포인트 바지 36 n5163 애슐리상점</td>\n",
              "      <td>87148</td>\n",
              "      <td>0</td>\n",
              "    </tr>\n",
              "    <tr>\n",
              "      <th>915</th>\n",
              "      <td>13</td>\n",
              "      <td>24시간)문상91%모바일교환권94%백화점98%</td>\n",
              "      <td>3745504</td>\n",
              "      <td>22</td>\n",
              "    </tr>\n",
              "    <tr>\n",
              "      <th>934</th>\n",
              "      <td>13</td>\n",
              "      <td>중국도자기 골동품</td>\n",
              "      <td>8094755</td>\n",
              "      <td>0</td>\n",
              "    </tr>\n",
              "    <tr>\n",
              "      <th>1131</th>\n",
              "      <td>13</td>\n",
              "      <td>#당일발송#노트9 128G  대량판매 등급별초특가!</td>\n",
              "      <td>12851816</td>\n",
              "      <td>1</td>\n",
              "    </tr>\n",
              "    <tr>\n",
              "      <th>1166</th>\n",
              "      <td>13</td>\n",
              "      <td>빈티지 투피스(울100)</td>\n",
              "      <td>3876881</td>\n",
              "      <td>0</td>\n",
              "    </tr>\n",
              "    <tr>\n",
              "      <th>1168</th>\n",
              "      <td>13</td>\n",
              "      <td>LG/일체형PC/i3/24인치/SSD250/램8&lt;054&gt;</td>\n",
              "      <td>9592612</td>\n",
              "      <td>0</td>\n",
              "    </tr>\n",
              "    <tr>\n",
              "      <th>1195</th>\n",
              "      <td>13</td>\n",
              "      <td>(미사용)brooks brothers 브룩스브라더스 퓨어울 정장 세트</td>\n",
              "      <td>8105166</td>\n",
              "      <td>0</td>\n",
              "    </tr>\n",
              "    <tr>\n",
              "      <th>1196</th>\n",
              "      <td>13</td>\n",
              "      <td>HP/신품배터리/사무용/엑셀/인강용/SSD128/15.6인치&lt;056&gt;</td>\n",
              "      <td>9592612</td>\n",
              "      <td>0</td>\n",
              "    </tr>\n",
              "    <tr>\n",
              "      <th>1359</th>\n",
              "      <td>13</td>\n",
              "      <td>아크네스튜디오 정품 롱코트 34  n4500  애슐리상점</td>\n",
              "      <td>87148</td>\n",
              "      <td>0</td>\n",
              "    </tr>\n",
              "  </tbody>\n",
              "</table>\n",
              "</div>"
            ],
            "text/plain": [
              "      flag_used  ... emergency_cnt\n",
              "217          13  ...             0\n",
              "498          13  ...             2\n",
              "518          13  ...             2\n",
              "723          13  ...             0\n",
              "736          13  ...             0\n",
              "827          13  ...             0\n",
              "828          13  ...             0\n",
              "915          13  ...            22\n",
              "934          13  ...             0\n",
              "1131         13  ...             1\n",
              "1166         13  ...             0\n",
              "1168         13  ...             0\n",
              "1195         13  ...             0\n",
              "1196         13  ...             0\n",
              "1359         13  ...             0\n",
              "\n",
              "[15 rows x 4 columns]"
            ]
          },
          "metadata": {},
          "execution_count": 14
        }
      ]
    },
    {
      "cell_type": "markdown",
      "metadata": {
        "id": "xAjQKxbrxbHK"
      },
      "source": [
        "어플에서 거래 게시글을 올릴 때 중고/새상품 여부를 필히 체크해야함.\n",
        "=> 고로 13은 미선택이 아님\n",
        "- 가능성 1 : 중고 유무를 판단할 수 없는 것 (ex 용달, 중고차 할부 등)\n",
        "- 가능성 2 : 가품/사기 의심 게시물"
      ]
    },
    {
      "cell_type": "code",
      "metadata": {
        "colab": {
          "base_uri": "https://localhost:8080/"
        },
        "id": "pwg1OSJMJFvt",
        "outputId": "715cfb3e-8a9f-41c1-bbd9-d83874fbe924"
      },
      "source": [
        "ad.emergency_cnt.values"
      ],
      "execution_count": null,
      "outputs": [
        {
          "output_type": "execute_result",
          "data": {
            "text/plain": [
              "array([0, 0, 0, ..., 0, 0, 0])"
            ]
          },
          "metadata": {},
          "execution_count": 15
        }
      ]
    },
    {
      "cell_type": "code",
      "metadata": {
        "colab": {
          "base_uri": "https://localhost:8080/",
          "height": 164
        },
        "id": "2ne_71WM_p4p",
        "outputId": "d1a9f25e-e5f5-4475-d8e0-da5f69e00f7a"
      },
      "source": [
        "# emergency_count\n",
        "ad[ad['emergency_cnt'] > 100]"
      ],
      "execution_count": null,
      "outputs": [
        {
          "output_type": "execute_result",
          "data": {
            "text/html": [
              "<div>\n",
              "<style scoped>\n",
              "    .dataframe tbody tr th:only-of-type {\n",
              "        vertical-align: middle;\n",
              "    }\n",
              "\n",
              "    .dataframe tbody tr th {\n",
              "        vertical-align: top;\n",
              "    }\n",
              "\n",
              "    .dataframe thead th {\n",
              "        text-align: right;\n",
              "    }\n",
              "</style>\n",
              "<table border=\"1\" class=\"dataframe\">\n",
              "  <thead>\n",
              "    <tr style=\"text-align: right;\">\n",
              "      <th></th>\n",
              "      <th>content_id</th>\n",
              "      <th>user_id</th>\n",
              "      <th>name</th>\n",
              "      <th>keyword</th>\n",
              "      <th>price</th>\n",
              "      <th>flag_used</th>\n",
              "      <th>category_id_1</th>\n",
              "      <th>category_id_2</th>\n",
              "      <th>category_id_3</th>\n",
              "      <th>emergency_cnt</th>\n",
              "      <th>comment_cnt</th>\n",
              "      <th>interest</th>\n",
              "      <th>pfavcnt</th>\n",
              "    </tr>\n",
              "  </thead>\n",
              "  <tbody>\n",
              "    <tr>\n",
              "      <th>1075</th>\n",
              "      <td>31537985</td>\n",
              "      <td>2617066</td>\n",
              "      <td>미백/여드름 마스크 트러블 불만족 환불! 후기 1400개</td>\n",
              "      <td>폼클렌징,여드름,천연비누,여드름비누,모공축소</td>\n",
              "      <td>11000</td>\n",
              "      <td>2</td>\n",
              "      <td>410</td>\n",
              "      <td>410100</td>\n",
              "      <td>410100400</td>\n",
              "      <td>272</td>\n",
              "      <td>649</td>\n",
              "      <td>3511826</td>\n",
              "      <td>36484</td>\n",
              "    </tr>\n",
              "    <tr>\n",
              "      <th>1180</th>\n",
              "      <td>75221723</td>\n",
              "      <td>96166</td>\n",
              "      <td>-16kg 감량후기 다이어트 선슬 차전자피!</td>\n",
              "      <td>다이어트,차전자피,다이어트약,다이어트식품</td>\n",
              "      <td>19900</td>\n",
              "      <td>2</td>\n",
              "      <td>410</td>\n",
              "      <td>410900</td>\n",
              "      <td>410900</td>\n",
              "      <td>273</td>\n",
              "      <td>1209</td>\n",
              "      <td>1646378</td>\n",
              "      <td>31058</td>\n",
              "    </tr>\n",
              "  </tbody>\n",
              "</table>\n",
              "</div>"
            ],
            "text/plain": [
              "      content_id  user_id  ... interest pfavcnt\n",
              "1075    31537985  2617066  ...  3511826   36484\n",
              "1180    75221723    96166  ...  1646378   31058\n",
              "\n",
              "[2 rows x 13 columns]"
            ]
          },
          "metadata": {},
          "execution_count": 16
        }
      ]
    },
    {
      "cell_type": "code",
      "metadata": {
        "colab": {
          "base_uri": "https://localhost:8080/",
          "height": 293
        },
        "id": "NPvPR9kv69As",
        "outputId": "fdef6956-e0f1-4d98-8d14-aa966a23f1fc"
      },
      "source": [
        "# category\n",
        "ad.category_id_1.value_counts().plot.bar()"
      ],
      "execution_count": null,
      "outputs": [
        {
          "output_type": "execute_result",
          "data": {
            "text/plain": [
              "<matplotlib.axes._subplots.AxesSubplot at 0x7f8e62597510>"
            ]
          },
          "metadata": {},
          "execution_count": 17
        },
        {
          "output_type": "display_data",
          "data": {
            "image/png": "[encoded data removed]",
            "text/plain": [
              "<Figure size 432x288 with 1 Axes>"
            ]
          },
          "metadata": {
            "needs_background": "light"
          }
        }
      ]
    },
    {
      "cell_type": "code",
      "metadata": {
        "colab": {
          "base_uri": "https://localhost:8080/",
          "height": 735
        },
        "id": "yUCOppxp69EK",
        "outputId": "f3ef3aed-4106-45a6-c9b8-f5a172a67a15"
      },
      "source": [
        "ad[ad['category_id_1'] == 600]  # 600 = 전자 제품"
      ],
      "execution_count": null,
      "outputs": [
        {
          "output_type": "execute_result",
          "data": {
            "text/html": [
              "<div>\n",
              "<style scoped>\n",
              "    .dataframe tbody tr th:only-of-type {\n",
              "        vertical-align: middle;\n",
              "    }\n",
              "\n",
              "    .dataframe tbody tr th {\n",
              "        vertical-align: top;\n",
              "    }\n",
              "\n",
              "    .dataframe thead th {\n",
              "        text-align: right;\n",
              "    }\n",
              "</style>\n",
              "<table border=\"1\" class=\"dataframe\">\n",
              "  <thead>\n",
              "    <tr style=\"text-align: right;\">\n",
              "      <th></th>\n",
              "      <th>content_id</th>\n",
              "      <th>user_id</th>\n",
              "      <th>name</th>\n",
              "      <th>keyword</th>\n",
              "      <th>price</th>\n",
              "      <th>flag_used</th>\n",
              "      <th>category_id_1</th>\n",
              "      <th>category_id_2</th>\n",
              "      <th>category_id_3</th>\n",
              "      <th>emergency_cnt</th>\n",
              "      <th>comment_cnt</th>\n",
              "      <th>interest</th>\n",
              "      <th>pfavcnt</th>\n",
              "    </tr>\n",
              "  </thead>\n",
              "  <tbody>\n",
              "    <tr>\n",
              "      <th>0</th>\n",
              "      <td>157826057</td>\n",
              "      <td>114088</td>\n",
              "      <td>인텔 4세대 i5-4670 사무용 컴퓨터 팝니다.</td>\n",
              "      <td>사무용컴퓨터,사무용PC,중고사무용컴퓨터,중고사무용PC,사무용중고컴퓨터</td>\n",
              "      <td>250000</td>\n",
              "      <td>1</td>\n",
              "      <td>600</td>\n",
              "      <td>600100</td>\n",
              "      <td>600100006</td>\n",
              "      <td>0</td>\n",
              "      <td>0</td>\n",
              "      <td>714</td>\n",
              "      <td>4</td>\n",
              "    </tr>\n",
              "    <tr>\n",
              "      <th>1</th>\n",
              "      <td>162431268</td>\n",
              "      <td>3247363</td>\n",
              "      <td>갤럭시노트10+ 512GB 글로우 (무잔상) ! 0821</td>\n",
              "      <td>갤럭시노트10,노트10플러스,노트10플러스중고,노트10플러스공기,노트10플러스글로</td>\n",
              "      <td>439000</td>\n",
              "      <td>1</td>\n",
              "      <td>600</td>\n",
              "      <td>600700</td>\n",
              "      <td>600700001</td>\n",
              "      <td>0</td>\n",
              "      <td>0</td>\n",
              "      <td>39</td>\n",
              "      <td>2</td>\n",
              "    </tr>\n",
              "    <tr>\n",
              "      <th>2</th>\n",
              "      <td>162806215</td>\n",
              "      <td>12851816</td>\n",
              "      <td>#한정판매#갤럭시S21 256GB 화이트 SS급 중고폰공기계[75333]</td>\n",
              "      <td>갤럭시S21,갤럭시S21화이트,S21화이트</td>\n",
              "      <td>620000</td>\n",
              "      <td>1</td>\n",
              "      <td>600</td>\n",
              "      <td>600700</td>\n",
              "      <td>600700001</td>\n",
              "      <td>0</td>\n",
              "      <td>0</td>\n",
              "      <td>145</td>\n",
              "      <td>5</td>\n",
              "    </tr>\n",
              "    <tr>\n",
              "      <th>3</th>\n",
              "      <td>152625380</td>\n",
              "      <td>2347538</td>\n",
              "      <td>#당일발송#갤럭시S9플러스 64G 대량판매 등급별초특가!</td>\n",
              "      <td>S9플러스,S9플러스중고,갤럭시S9플러스</td>\n",
              "      <td>195000</td>\n",
              "      <td>1</td>\n",
              "      <td>600</td>\n",
              "      <td>600700</td>\n",
              "      <td>600700001</td>\n",
              "      <td>0</td>\n",
              "      <td>0</td>\n",
              "      <td>234</td>\n",
              "      <td>8</td>\n",
              "    </tr>\n",
              "    <tr>\n",
              "      <th>5</th>\n",
              "      <td>159624182</td>\n",
              "      <td>12563307</td>\n",
              "      <td>[화인]최저가!!! SSD중고컴퓨터 배틀그라운드 오버워치 게이밍PC !!</td>\n",
              "      <td>SSD컴퓨터,게이밍PC본체,사무용컴퓨터중고,최저가PC,조립PC데스크탑</td>\n",
              "      <td>180000</td>\n",
              "      <td>1</td>\n",
              "      <td>600</td>\n",
              "      <td>600100</td>\n",
              "      <td>600100006</td>\n",
              "      <td>0</td>\n",
              "      <td>0</td>\n",
              "      <td>2394</td>\n",
              "      <td>49</td>\n",
              "    </tr>\n",
              "    <tr>\n",
              "      <th>...</th>\n",
              "      <td>...</td>\n",
              "      <td>...</td>\n",
              "      <td>...</td>\n",
              "      <td>...</td>\n",
              "      <td>...</td>\n",
              "      <td>...</td>\n",
              "      <td>...</td>\n",
              "      <td>...</td>\n",
              "      <td>...</td>\n",
              "      <td>...</td>\n",
              "      <td>...</td>\n",
              "      <td>...</td>\n",
              "      <td>...</td>\n",
              "    </tr>\n",
              "    <tr>\n",
              "      <th>1422</th>\n",
              "      <td>130344977</td>\n",
              "      <td>948674</td>\n",
              "      <td>*당일발송*아이폰6s 최저가 판매</td>\n",
              "      <td>NaN</td>\n",
              "      <td>109000</td>\n",
              "      <td>2</td>\n",
              "      <td>600</td>\n",
              "      <td>600700</td>\n",
              "      <td>600700001</td>\n",
              "      <td>0</td>\n",
              "      <td>0</td>\n",
              "      <td>15612</td>\n",
              "      <td>290</td>\n",
              "    </tr>\n",
              "    <tr>\n",
              "      <th>1423</th>\n",
              "      <td>156423859</td>\n",
              "      <td>10255755</td>\n",
              "      <td>노트10플러스  [블랙]  45301  (S급)</td>\n",
              "      <td>노트10+,갤럭시노트10+,노트10플러스,갤럭시노트10플러스,노트10plus</td>\n",
              "      <td>450000</td>\n",
              "      <td>1</td>\n",
              "      <td>600</td>\n",
              "      <td>600700</td>\n",
              "      <td>600700001</td>\n",
              "      <td>0</td>\n",
              "      <td>0</td>\n",
              "      <td>1207</td>\n",
              "      <td>18</td>\n",
              "    </tr>\n",
              "    <tr>\n",
              "      <th>1424</th>\n",
              "      <td>163149174</td>\n",
              "      <td>10197556</td>\n",
              "      <td>노트20 256기가 블랙 A급 48516</td>\n",
              "      <td>노트20,갤럭시노트20,note20</td>\n",
              "      <td>510000</td>\n",
              "      <td>1</td>\n",
              "      <td>600</td>\n",
              "      <td>600700</td>\n",
              "      <td>600700001</td>\n",
              "      <td>0</td>\n",
              "      <td>0</td>\n",
              "      <td>99</td>\n",
              "      <td>3</td>\n",
              "    </tr>\n",
              "    <tr>\n",
              "      <th>1425</th>\n",
              "      <td>160955756</td>\n",
              "      <td>10197556</td>\n",
              "      <td>노트20 256기가 브론즈 A급 48011</td>\n",
              "      <td>노트20,갤럭시노트20,note20</td>\n",
              "      <td>510000</td>\n",
              "      <td>1</td>\n",
              "      <td>600</td>\n",
              "      <td>600700</td>\n",
              "      <td>600700001</td>\n",
              "      <td>0</td>\n",
              "      <td>0</td>\n",
              "      <td>617</td>\n",
              "      <td>12</td>\n",
              "    </tr>\n",
              "    <tr>\n",
              "      <th>1426</th>\n",
              "      <td>162949964</td>\n",
              "      <td>10197556</td>\n",
              "      <td>S20울트라 그레이 256기가 S급 48536</td>\n",
              "      <td>s20,s20ultra,갤럭시s20,갤럭시s20울트라,s20울트라</td>\n",
              "      <td>600000</td>\n",
              "      <td>1</td>\n",
              "      <td>600</td>\n",
              "      <td>600700</td>\n",
              "      <td>600700001</td>\n",
              "      <td>0</td>\n",
              "      <td>0</td>\n",
              "      <td>147</td>\n",
              "      <td>1</td>\n",
              "    </tr>\n",
              "  </tbody>\n",
              "</table>\n",
              "<p>854 rows × 13 columns</p>\n",
              "</div>"
            ],
            "text/plain": [
              "      content_id   user_id  ... interest pfavcnt\n",
              "0      157826057    114088  ...      714       4\n",
              "1      162431268   3247363  ...       39       2\n",
              "2      162806215  12851816  ...      145       5\n",
              "3      152625380   2347538  ...      234       8\n",
              "5      159624182  12563307  ...     2394      49\n",
              "...          ...       ...  ...      ...     ...\n",
              "1422   130344977    948674  ...    15612     290\n",
              "1423   156423859  10255755  ...     1207      18\n",
              "1424   163149174  10197556  ...       99       3\n",
              "1425   160955756  10197556  ...      617      12\n",
              "1426   162949964  10197556  ...      147       1\n",
              "\n",
              "[854 rows x 13 columns]"
            ]
          },
          "metadata": {},
          "execution_count": 18
        }
      ]
    },
    {
      "cell_type": "code",
      "metadata": {
        "colab": {
          "base_uri": "https://localhost:8080/",
          "height": 309
        },
        "id": "OY7wEYW769Hd",
        "outputId": "183265a6-8e3f-4e3e-bef8-609caf232578"
      },
      "source": [
        "# price\n",
        "sns.distplot(ad['price'], bins = 100)  # 0.1 => 1,000,000만원"
      ],
      "execution_count": null,
      "outputs": [
        {
          "output_type": "execute_result",
          "data": {
            "text/plain": [
              "<matplotlib.axes._subplots.AxesSubplot at 0x7f8e625b3910>"
            ]
          },
          "metadata": {},
          "execution_count": 19
        },
        {
          "output_type": "display_data",
          "data": {
            "image/png": "[encoded data removed]",
            "text/plain": [
              "<Figure size 432x288 with 1 Axes>"
            ]
          },
          "metadata": {
            "needs_background": "light"
          }
        }
      ]
    },
    {
      "cell_type": "code",
      "metadata": {
        "colab": {
          "base_uri": "https://localhost:8080/",
          "height": 309
        },
        "id": "-qetj_HZ69N6",
        "outputId": "bada395e-520a-4932-c030-5e9fc2e1693d"
      },
      "source": [
        "# interest\n",
        "sns.distplot(ad['interest'])"
      ],
      "execution_count": null,
      "outputs": [
        {
          "output_type": "execute_result",
          "data": {
            "text/plain": [
              "<matplotlib.axes._subplots.AxesSubplot at 0x7f8e62308e50>"
            ]
          },
          "metadata": {},
          "execution_count": 20
        },
        {
          "output_type": "display_data",
          "data": {
            "image/png": "[encoded data removed]",
            "text/plain": [
              "<Figure size 432x288 with 1 Axes>"
            ]
          },
          "metadata": {
            "needs_background": "light"
          }
        }
      ]
    },
    {
      "cell_type": "code",
      "metadata": {
        "id": "qJ4D5W2T69kt"
      },
      "source": [
        ""
      ],
      "execution_count": null,
      "outputs": []
    },
    {
      "cell_type": "markdown",
      "metadata": {
        "id": "Wm1huNbm6V6o"
      },
      "source": [
        "# Advertiser (data/advertiser.csv)\n",
        "- user_id: 광고주 아이디\n",
        "- favorite_count: 광고주 선호수\n",
        "- grade: 광고주 등급\n",
        "- item_count: 광고주가 가지고 있는 상품수\n",
        "- interest: 광고주가 받은 클릭수\n",
        "- review_count: 광고주가 받은 리뷰수\n",
        "- comment_count: 광고주가 작성한 코멘트수\n",
        "- follower_count: 광고주의 팔로워수\n",
        "- pay_count: 광고주의 결제시스템 거래수\n",
        "- parcel_post_count: 광고주의 택배거래수\n",
        "- transfer_count: 광고주의 거래수\n",
        "- chat_count: 광고주의 채팅수"
      ]
    },
    {
      "cell_type": "markdown",
      "metadata": {
        "id": "_vS1qSk11FL_"
      },
      "source": [
        "## EDA"
      ]
    },
    {
      "cell_type": "code",
      "metadata": {
        "colab": {
          "base_uri": "https://localhost:8080/",
          "height": 225
        },
        "id": "EOsAAgL00f_G",
        "outputId": "781e891c-5c82-4d51-e0c0-48649172de02"
      },
      "source": [
        "print(advertiser.shape)\n",
        "advertiser.head()"
      ],
      "execution_count": null,
      "outputs": [
        {
          "output_type": "stream",
          "name": "stdout",
          "text": [
            "(1539, 12)\n"
          ]
        },
        {
          "output_type": "execute_result",
          "data": {
            "text/html": [
              "<div>\n",
              "<style scoped>\n",
              "    .dataframe tbody tr th:only-of-type {\n",
              "        vertical-align: middle;\n",
              "    }\n",
              "\n",
              "    .dataframe tbody tr th {\n",
              "        vertical-align: top;\n",
              "    }\n",
              "\n",
              "    .dataframe thead th {\n",
              "        text-align: right;\n",
              "    }\n",
              "</style>\n",
              "<table border=\"1\" class=\"dataframe\">\n",
              "  <thead>\n",
              "    <tr style=\"text-align: right;\">\n",
              "      <th></th>\n",
              "      <th>user_id</th>\n",
              "      <th>favorite_count</th>\n",
              "      <th>grade</th>\n",
              "      <th>item_count</th>\n",
              "      <th>interest</th>\n",
              "      <th>review_count</th>\n",
              "      <th>comment_count</th>\n",
              "      <th>follower_count</th>\n",
              "      <th>pay_count</th>\n",
              "      <th>parcel_post_count</th>\n",
              "      <th>transfer_count</th>\n",
              "      <th>chat_count</th>\n",
              "    </tr>\n",
              "  </thead>\n",
              "  <tbody>\n",
              "    <tr>\n",
              "      <th>0</th>\n",
              "      <td>2487730</td>\n",
              "      <td>1899</td>\n",
              "      <td>7673</td>\n",
              "      <td>431</td>\n",
              "      <td>31681</td>\n",
              "      <td>775</td>\n",
              "      <td>529</td>\n",
              "      <td>0</td>\n",
              "      <td>575</td>\n",
              "      <td>0</td>\n",
              "      <td>35</td>\n",
              "      <td>130</td>\n",
              "    </tr>\n",
              "    <tr>\n",
              "      <th>1</th>\n",
              "      <td>1462217</td>\n",
              "      <td>799</td>\n",
              "      <td>5520</td>\n",
              "      <td>433</td>\n",
              "      <td>16794</td>\n",
              "      <td>570</td>\n",
              "      <td>250</td>\n",
              "      <td>0</td>\n",
              "      <td>942</td>\n",
              "      <td>0</td>\n",
              "      <td>57</td>\n",
              "      <td>11</td>\n",
              "    </tr>\n",
              "    <tr>\n",
              "      <th>2</th>\n",
              "      <td>6972746</td>\n",
              "      <td>3692</td>\n",
              "      <td>7526</td>\n",
              "      <td>2530</td>\n",
              "      <td>36944</td>\n",
              "      <td>776</td>\n",
              "      <td>828</td>\n",
              "      <td>0</td>\n",
              "      <td>325</td>\n",
              "      <td>0</td>\n",
              "      <td>10</td>\n",
              "      <td>13</td>\n",
              "    </tr>\n",
              "    <tr>\n",
              "      <th>3</th>\n",
              "      <td>1358510</td>\n",
              "      <td>1228</td>\n",
              "      <td>2106</td>\n",
              "      <td>100</td>\n",
              "      <td>27142</td>\n",
              "      <td>223</td>\n",
              "      <td>431</td>\n",
              "      <td>0</td>\n",
              "      <td>232</td>\n",
              "      <td>9</td>\n",
              "      <td>1</td>\n",
              "      <td>4</td>\n",
              "    </tr>\n",
              "    <tr>\n",
              "      <th>4</th>\n",
              "      <td>1358510</td>\n",
              "      <td>1228</td>\n",
              "      <td>2106</td>\n",
              "      <td>100</td>\n",
              "      <td>27142</td>\n",
              "      <td>223</td>\n",
              "      <td>431</td>\n",
              "      <td>0</td>\n",
              "      <td>232</td>\n",
              "      <td>9</td>\n",
              "      <td>1</td>\n",
              "      <td>4</td>\n",
              "    </tr>\n",
              "  </tbody>\n",
              "</table>\n",
              "</div>"
            ],
            "text/plain": [
              "   user_id  favorite_count  ...  transfer_count  chat_count\n",
              "0  2487730            1899  ...              35         130\n",
              "1  1462217             799  ...              57          11\n",
              "2  6972746            3692  ...              10          13\n",
              "3  1358510            1228  ...               1           4\n",
              "4  1358510            1228  ...               1           4\n",
              "\n",
              "[5 rows x 12 columns]"
            ]
          },
          "metadata": {},
          "execution_count": 21
        }
      ]
    },
    {
      "cell_type": "markdown",
      "metadata": {
        "id": "TJC41DbE2HeS"
      },
      "source": [
        "# Impression Logs (data/impression_log.csv)\n",
        "- imp_id: 노출 아이디\n",
        "- content_id: 광고 상품 아이디\n",
        "- server_time_kst: 로그(노출)생성 시간\n",
        "- bid_price: 광고 상품 입찰가 (PPC)\n",
        "- user_id: 노출 대상 사용자 아이디 (해쉬)\n",
        "- device_type: 노출 대상 디바이스 타입"
      ]
    },
    {
      "cell_type": "code",
      "metadata": {
        "colab": {
          "base_uri": "https://localhost:8080/",
          "height": 225
        },
        "id": "XXiwTgef2Hh-",
        "outputId": "1c9253d2-2922-462f-fdf5-73d873d0b928"
      },
      "source": [
        "print(impression_log.shape)\n",
        "impression_log.head()"
      ],
      "execution_count": null,
      "outputs": [
        {
          "output_type": "stream",
          "name": "stdout",
          "text": [
            "(852587, 6)\n"
          ]
        },
        {
          "output_type": "execute_result",
          "data": {
            "text/html": [
              "<div>\n",
              "<style scoped>\n",
              "    .dataframe tbody tr th:only-of-type {\n",
              "        vertical-align: middle;\n",
              "    }\n",
              "\n",
              "    .dataframe tbody tr th {\n",
              "        vertical-align: top;\n",
              "    }\n",
              "\n",
              "    .dataframe thead th {\n",
              "        text-align: right;\n",
              "    }\n",
              "</style>\n",
              "<table border=\"1\" class=\"dataframe\">\n",
              "  <thead>\n",
              "    <tr style=\"text-align: right;\">\n",
              "      <th></th>\n",
              "      <th>imp_id</th>\n",
              "      <th>content_id</th>\n",
              "      <th>server_time_kst</th>\n",
              "      <th>bid_price</th>\n",
              "      <th>user_id</th>\n",
              "      <th>device_type</th>\n",
              "    </tr>\n",
              "  </thead>\n",
              "  <tbody>\n",
              "    <tr>\n",
              "      <th>0</th>\n",
              "      <td>97cf612d3a7008353958</td>\n",
              "      <td>161592430</td>\n",
              "      <td>2021-08-31T05:07:20.945+09:00</td>\n",
              "      <td>50</td>\n",
              "      <td>11555138</td>\n",
              "      <td>a</td>\n",
              "    </tr>\n",
              "    <tr>\n",
              "      <th>1</th>\n",
              "      <td>99d1612d39112085014f</td>\n",
              "      <td>162892746</td>\n",
              "      <td>2021-08-31T05:02:38.277+09:00</td>\n",
              "      <td>50</td>\n",
              "      <td>1310312</td>\n",
              "      <td>a</td>\n",
              "    </tr>\n",
              "    <tr>\n",
              "      <th>2</th>\n",
              "      <td>97ca612d461111487741</td>\n",
              "      <td>162806628</td>\n",
              "      <td>2021-08-31T05:57:03.384+09:00</td>\n",
              "      <td>55</td>\n",
              "      <td>76429349</td>\n",
              "      <td>a</td>\n",
              "    </tr>\n",
              "    <tr>\n",
              "      <th>3</th>\n",
              "      <td>97f9612d3995149e6b11</td>\n",
              "      <td>161593862</td>\n",
              "      <td>2021-08-31T05:03:49.145+09:00</td>\n",
              "      <td>270</td>\n",
              "      <td>74800572</td>\n",
              "      <td>a</td>\n",
              "    </tr>\n",
              "    <tr>\n",
              "      <th>4</th>\n",
              "      <td>97f9612d3a22149eef25</td>\n",
              "      <td>161587624</td>\n",
              "      <td>2021-08-31T05:06:26.494+09:00</td>\n",
              "      <td>50</td>\n",
              "      <td>4454345</td>\n",
              "      <td>a</td>\n",
              "    </tr>\n",
              "  </tbody>\n",
              "</table>\n",
              "</div>"
            ],
            "text/plain": [
              "                 imp_id  content_id  ...   user_id  device_type\n",
              "0  97cf612d3a7008353958   161592430  ...  11555138            a\n",
              "1  99d1612d39112085014f   162892746  ...   1310312            a\n",
              "2  97ca612d461111487741   162806628  ...  76429349            a\n",
              "3  97f9612d3995149e6b11   161593862  ...  74800572            a\n",
              "4  97f9612d3a22149eef25   161587624  ...   4454345            a\n",
              "\n",
              "[5 rows x 6 columns]"
            ]
          },
          "metadata": {},
          "execution_count": 22
        }
      ]
    },
    {
      "cell_type": "code",
      "metadata": {
        "colab": {
          "base_uri": "https://localhost:8080/"
        },
        "id": "r_ocPlTZig3c",
        "outputId": "6b633b57-89f2-4db8-ff52-8af5fed203f3"
      },
      "source": [
        "print(impression_log.user_id.nunique())\n",
        "print(impression_log.imp_id.nunique())"
      ],
      "execution_count": null,
      "outputs": [
        {
          "output_type": "stream",
          "name": "stdout",
          "text": [
            "56381\n",
            "851023\n"
          ]
        }
      ]
    },
    {
      "cell_type": "code",
      "metadata": {
        "colab": {
          "base_uri": "https://localhost:8080/",
          "height": 340
        },
        "id": "I_ftb0H6jngP",
        "outputId": "ff522041-2a81-420d-8c2f-d47d57efea42"
      },
      "source": [
        "# 광고주 한명 당 최대 광고 노출 수\n",
        "\n",
        "pd.DataFrame(impression_log.groupby('user_id')['imp_id'].count()).sort_values(by = ['imp_id']).tail(40).plot.bar()"
      ],
      "execution_count": null,
      "outputs": [
        {
          "output_type": "execute_result",
          "data": {
            "text/plain": [
              "<matplotlib.axes._subplots.AxesSubplot at 0x7f8e51b79690>"
            ]
          },
          "metadata": {},
          "execution_count": 58
        },
        {
          "output_type": "display_data",
          "data": {
            "image/png": "[encoded data removed]",
            "text/plain": [
              "<Figure size 432x288 with 1 Axes>"
            ]
          },
          "metadata": {
            "needs_background": "light"
          }
        }
      ]
    },
    {
      "cell_type": "code",
      "metadata": {
        "colab": {
          "base_uri": "https://localhost:8080/",
          "height": 455
        },
        "id": "2RrelhnVlw-v",
        "outputId": "2bee679a-b9c5-4887-c695-7eb3ac590688"
      },
      "source": [
        "pd.DataFrame(impression_log.groupby('imp_id')['user_id'].count()).sort_values(by = ['user_id'])"
      ],
      "execution_count": null,
      "outputs": [
        {
          "output_type": "execute_result",
          "data": {
            "text/html": [
              "<div>\n",
              "<style scoped>\n",
              "    .dataframe tbody tr th:only-of-type {\n",
              "        vertical-align: middle;\n",
              "    }\n",
              "\n",
              "    .dataframe tbody tr th {\n",
              "        vertical-align: top;\n",
              "    }\n",
              "\n",
              "    .dataframe thead th {\n",
              "        text-align: right;\n",
              "    }\n",
              "</style>\n",
              "<table border=\"1\" class=\"dataframe\">\n",
              "  <thead>\n",
              "    <tr style=\"text-align: right;\">\n",
              "      <th></th>\n",
              "      <th>user_id</th>\n",
              "    </tr>\n",
              "    <tr>\n",
              "      <th>imp_id</th>\n",
              "      <th></th>\n",
              "    </tr>\n",
              "  </thead>\n",
              "  <tbody>\n",
              "    <tr>\n",
              "      <th>971a612c3f2609363baa</th>\n",
              "      <td>1</td>\n",
              "    </tr>\n",
              "    <tr>\n",
              "      <th>9919612dd49b220ea8a9</th>\n",
              "      <td>1</td>\n",
              "    </tr>\n",
              "    <tr>\n",
              "      <th>9919612dd49b220ea8aa</th>\n",
              "      <td>1</td>\n",
              "    </tr>\n",
              "    <tr>\n",
              "      <th>9919612dd4a1220ebc91</th>\n",
              "      <td>1</td>\n",
              "    </tr>\n",
              "    <tr>\n",
              "      <th>9919612dd4a1220ebc92</th>\n",
              "      <td>1</td>\n",
              "    </tr>\n",
              "    <tr>\n",
              "      <th>...</th>\n",
              "      <td>...</td>\n",
              "    </tr>\n",
              "    <tr>\n",
              "      <th>9919612e11a023090e03</th>\n",
              "      <td>4</td>\n",
              "    </tr>\n",
              "    <tr>\n",
              "      <th>97cf612e11a10ac65b82</th>\n",
              "      <td>4</td>\n",
              "    </tr>\n",
              "    <tr>\n",
              "      <th>99d1612dcf5b2207a386</th>\n",
              "      <td>4</td>\n",
              "    </tr>\n",
              "    <tr>\n",
              "      <th>99d1612cf5bd1fd299ab</th>\n",
              "      <td>4</td>\n",
              "    </tr>\n",
              "    <tr>\n",
              "      <th>99d1612dcf5b2207a381</th>\n",
              "      <td>4</td>\n",
              "    </tr>\n",
              "  </tbody>\n",
              "</table>\n",
              "<p>851023 rows × 1 columns</p>\n",
              "</div>"
            ],
            "text/plain": [
              "                      user_id\n",
              "imp_id                       \n",
              "971a612c3f2609363baa        1\n",
              "9919612dd49b220ea8a9        1\n",
              "9919612dd49b220ea8aa        1\n",
              "9919612dd4a1220ebc91        1\n",
              "9919612dd4a1220ebc92        1\n",
              "...                       ...\n",
              "9919612e11a023090e03        4\n",
              "97cf612e11a10ac65b82        4\n",
              "99d1612dcf5b2207a386        4\n",
              "99d1612cf5bd1fd299ab        4\n",
              "99d1612dcf5b2207a381        4\n",
              "\n",
              "[851023 rows x 1 columns]"
            ]
          },
          "metadata": {},
          "execution_count": 62
        }
      ]
    },
    {
      "cell_type": "code",
      "metadata": {
        "colab": {
          "base_uri": "https://localhost:8080/"
        },
        "id": "yypkZW8h_I7V",
        "outputId": "e6a34437-b136-4b30-f7f9-014124165aa0"
      },
      "source": [
        "impression_log.imp_id.value_counts()"
      ],
      "execution_count": null,
      "outputs": [
        {
          "output_type": "execute_result",
          "data": {
            "text/plain": [
              "99d1612dcf5b2207a386    4\n",
              "9919612cf5dc1fc54c9f    4\n",
              "99d1612dcf5b2207a381    4\n",
              "99d1612cf5bd1fd299ab    4\n",
              "97f9612df2f516aee7b2    4\n",
              "                       ..\n",
              "9919612d952f2134baa3    1\n",
              "971a612e1e460fc01565    1\n",
              "97f9612e059316f92905    1\n",
              "97cf612db28809532424    1\n",
              "99d1612de0a2224d2901    1\n",
              "Name: imp_id, Length: 851023, dtype: int64"
            ]
          },
          "metadata": {},
          "execution_count": 23
        }
      ]
    },
    {
      "cell_type": "code",
      "metadata": {
        "colab": {
          "base_uri": "https://localhost:8080/",
          "height": 175
        },
        "id": "sLqJSn89-m36",
        "outputId": "c9717cfe-0e0d-4fef-ffc3-1b8f26ce7ab3"
      },
      "source": [
        "impression_log[impression_log['imp_id'] == '9919612e11a023090e02']"
      ],
      "execution_count": null,
      "outputs": [
        {
          "output_type": "execute_result",
          "data": {
            "text/html": [
              "<div>\n",
              "<style scoped>\n",
              "    .dataframe tbody tr th:only-of-type {\n",
              "        vertical-align: middle;\n",
              "    }\n",
              "\n",
              "    .dataframe tbody tr th {\n",
              "        vertical-align: top;\n",
              "    }\n",
              "\n",
              "    .dataframe thead th {\n",
              "        text-align: right;\n",
              "    }\n",
              "</style>\n",
              "<table border=\"1\" class=\"dataframe\">\n",
              "  <thead>\n",
              "    <tr style=\"text-align: right;\">\n",
              "      <th></th>\n",
              "      <th>imp_id</th>\n",
              "      <th>content_id</th>\n",
              "      <th>server_time_kst</th>\n",
              "      <th>bid_price</th>\n",
              "      <th>user_id</th>\n",
              "      <th>device_type</th>\n",
              "    </tr>\n",
              "  </thead>\n",
              "  <tbody>\n",
              "    <tr>\n",
              "      <th>260949</th>\n",
              "      <td>9919612e11a023090e02</td>\n",
              "      <td>161384072</td>\n",
              "      <td>2021-08-31T20:25:37.411+09:00</td>\n",
              "      <td>50</td>\n",
              "      <td>8000422</td>\n",
              "      <td>a</td>\n",
              "    </tr>\n",
              "    <tr>\n",
              "      <th>358166</th>\n",
              "      <td>9919612e11a023090e02</td>\n",
              "      <td>161384072</td>\n",
              "      <td>2021-08-31T20:25:34.395+09:00</td>\n",
              "      <td>50</td>\n",
              "      <td>8000422</td>\n",
              "      <td>a</td>\n",
              "    </tr>\n",
              "    <tr>\n",
              "      <th>362980</th>\n",
              "      <td>9919612e11a023090e02</td>\n",
              "      <td>161384072</td>\n",
              "      <td>2021-08-31T20:25:28.237+09:00</td>\n",
              "      <td>50</td>\n",
              "      <td>8000422</td>\n",
              "      <td>a</td>\n",
              "    </tr>\n",
              "    <tr>\n",
              "      <th>444786</th>\n",
              "      <td>9919612e11a023090e02</td>\n",
              "      <td>161384072</td>\n",
              "      <td>2021-08-31T20:25:38.939+09:00</td>\n",
              "      <td>50</td>\n",
              "      <td>8000422</td>\n",
              "      <td>a</td>\n",
              "    </tr>\n",
              "  </tbody>\n",
              "</table>\n",
              "</div>"
            ],
            "text/plain": [
              "                      imp_id  content_id  ...  user_id  device_type\n",
              "260949  9919612e11a023090e02   161384072  ...  8000422            a\n",
              "358166  9919612e11a023090e02   161384072  ...  8000422            a\n",
              "362980  9919612e11a023090e02   161384072  ...  8000422            a\n",
              "444786  9919612e11a023090e02   161384072  ...  8000422            a\n",
              "\n",
              "[4 rows x 6 columns]"
            ]
          },
          "metadata": {},
          "execution_count": 24
        }
      ]
    },
    {
      "cell_type": "markdown",
      "metadata": {
        "id": "gz3NtsVt_j44"
      },
      "source": [
        "- 동일 유저가 같은 광고를 반복 클릭하는 경우도 있음"
      ]
    },
    {
      "cell_type": "code",
      "metadata": {
        "colab": {
          "base_uri": "https://localhost:8080/"
        },
        "id": "Wuj709uz_14H",
        "outputId": "38e6b66b-c9d0-45eb-f3a6-67f1552b16e2"
      },
      "source": [
        "impression_log.device_type.value_counts()"
      ],
      "execution_count": null,
      "outputs": [
        {
          "output_type": "execute_result",
          "data": {
            "text/plain": [
              "a    852587\n",
              "Name: device_type, dtype: int64"
            ]
          },
          "metadata": {},
          "execution_count": 25
        }
      ]
    },
    {
      "cell_type": "markdown",
      "metadata": {
        "id": "1gOCwTCTADJr"
      },
      "source": [
        "<초미세먼지 인사이트>\n",
        "- device 종류를 나타내는 feature가 있는데 값이 1개다 => 웹, 모바일 앱 log가 각각 따로 관리 되고 있다.\n",
        "- 본 데이터는 모바일 앱의 log다.\n",
        "![image.png](data:image/png;base64,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)  \n",
        "=> 출처 : 번개장터 기술 블로그"
      ]
    },
    {
      "cell_type": "code",
      "metadata": {
        "colab": {
          "base_uri": "https://localhost:8080/",
          "height": 299
        },
        "id": "GMC3BxC_dXkQ",
        "outputId": "94eb8e76-a362-473d-8def-5b036b0c8d58"
      },
      "source": [
        "sns.distplot(impression_log['bid_price'])"
      ],
      "execution_count": null,
      "outputs": [
        {
          "output_type": "execute_result",
          "data": {
            "text/plain": [
              "<matplotlib.axes._subplots.AxesSubplot at 0x7f8e621cafd0>"
            ]
          },
          "metadata": {},
          "execution_count": 26
        },
        {
          "output_type": "display_data",
          "data": {
            "image/png": "[encoded data removed]",
            "text/plain": [
              "<Figure size 432x288 with 1 Axes>"
            ]
          },
          "metadata": {
            "needs_background": "light"
          }
        }
      ]
    },
    {
      "cell_type": "code",
      "metadata": {
        "colab": {
          "base_uri": "https://localhost:8080/",
          "height": 267
        },
        "id": "k1qatUaXfcr3",
        "outputId": "7f54c1ff-34a4-4128-996d-75e3db34cedc"
      },
      "source": [
        "impression_log['bid_price'].value_counts().plot.pie(autopct = '%1.1f%%')"
      ],
      "execution_count": null,
      "outputs": [
        {
          "output_type": "execute_result",
          "data": {
            "text/plain": [
              "<matplotlib.axes._subplots.AxesSubplot at 0x7f8e598dc250>"
            ]
          },
          "metadata": {},
          "execution_count": 27
        },
        {
          "output_type": "display_data",
          "data": {
            "image/png": "[encoded data removed]",
            "text/plain": [
              "<Figure size 432x288 with 1 Axes>"
            ]
          },
          "metadata": {}
        }
      ]
    },
    {
      "cell_type": "code",
      "metadata": {
        "id": "KNeaKlXxtmX-"
      },
      "source": [
        ""
      ],
      "execution_count": null,
      "outputs": []
    },
    {
      "cell_type": "markdown",
      "metadata": {
        "id": "VTRP61xg2HmD"
      },
      "source": [
        "# View (Click) Logs (data/view_log.csv)\n",
        "- imp_id: 노출 아이디\n",
        "- server_time_kst: 로그(뷰) 생성 시간\n",
        "- bid_price: 클릭된 광고 상품 입찰가 (PPC)\n",
        "- device_type: 클릭 대상 디바이스 타입"
      ]
    },
    {
      "cell_type": "markdown",
      "metadata": {
        "id": "Lt0yq9UNKgqa"
      },
      "source": [
        "## EDA"
      ]
    },
    {
      "cell_type": "code",
      "metadata": {
        "colab": {
          "base_uri": "https://localhost:8080/",
          "height": 245
        },
        "id": "6jVtlh6U2Ho2",
        "outputId": "ff8d998e-8fa4-40a0-fa45-1c876dfa79ed"
      },
      "source": [
        "print(f'impression_log shape : {impression_log.shape}')\n",
        "print(f'view_log shape : {view_log.shape}')\n",
        "view_log.head()"
      ],
      "execution_count": null,
      "outputs": [
        {
          "output_type": "stream",
          "name": "stdout",
          "text": [
            "impression_log shape : (852587, 6)\n",
            "view_log shape : (27006, 4)\n"
          ]
        },
        {
          "output_type": "execute_result",
          "data": {
            "text/html": [
              "<div>\n",
              "<style scoped>\n",
              "    .dataframe tbody tr th:only-of-type {\n",
              "        vertical-align: middle;\n",
              "    }\n",
              "\n",
              "    .dataframe tbody tr th {\n",
              "        vertical-align: top;\n",
              "    }\n",
              "\n",
              "    .dataframe thead th {\n",
              "        text-align: right;\n",
              "    }\n",
              "</style>\n",
              "<table border=\"1\" class=\"dataframe\">\n",
              "  <thead>\n",
              "    <tr style=\"text-align: right;\">\n",
              "      <th></th>\n",
              "      <th>imp_id</th>\n",
              "      <th>server_time_kst</th>\n",
              "      <th>bid_price</th>\n",
              "      <th>device_type</th>\n",
              "    </tr>\n",
              "  </thead>\n",
              "  <tbody>\n",
              "    <tr>\n",
              "      <th>0</th>\n",
              "      <td>99d1612dded122458e99</td>\n",
              "      <td>2021-08-31T16:56:46.013+09:00</td>\n",
              "      <td>50</td>\n",
              "      <td>a</td>\n",
              "    </tr>\n",
              "    <tr>\n",
              "      <th>1</th>\n",
              "      <td>998c612ddab9008cceee</td>\n",
              "      <td>2021-08-31T16:32:01.533+09:00</td>\n",
              "      <td>385</td>\n",
              "      <td>a</td>\n",
              "    </tr>\n",
              "    <tr>\n",
              "      <th>2</th>\n",
              "      <td>998c612dd77f007f2d67</td>\n",
              "      <td>2021-08-31T16:17:26.423+09:00</td>\n",
              "      <td>50</td>\n",
              "      <td>a</td>\n",
              "    </tr>\n",
              "    <tr>\n",
              "      <th>3</th>\n",
              "      <td>971a612ddff00eb50a47</td>\n",
              "      <td>2021-08-31T16:53:48.436+09:00</td>\n",
              "      <td>70</td>\n",
              "      <td>a</td>\n",
              "    </tr>\n",
              "    <tr>\n",
              "      <th>4</th>\n",
              "      <td>971a612ddd140ea93f30</td>\n",
              "      <td>2021-08-31T16:41:29.857+09:00</td>\n",
              "      <td>155</td>\n",
              "      <td>a</td>\n",
              "    </tr>\n",
              "  </tbody>\n",
              "</table>\n",
              "</div>"
            ],
            "text/plain": [
              "                 imp_id                server_time_kst  bid_price device_type\n",
              "0  99d1612dded122458e99  2021-08-31T16:56:46.013+09:00         50           a\n",
              "1  998c612ddab9008cceee  2021-08-31T16:32:01.533+09:00        385           a\n",
              "2  998c612dd77f007f2d67  2021-08-31T16:17:26.423+09:00         50           a\n",
              "3  971a612ddff00eb50a47  2021-08-31T16:53:48.436+09:00         70           a\n",
              "4  971a612ddd140ea93f30  2021-08-31T16:41:29.857+09:00        155           a"
            ]
          },
          "metadata": {},
          "execution_count": 39
        }
      ]
    },
    {
      "cell_type": "code",
      "metadata": {
        "colab": {
          "base_uri": "https://localhost:8080/"
        },
        "id": "FybjFL5-iZz1",
        "outputId": "8cb678d6-23a4-4b13-92fc-1460514bd5de"
      },
      "source": [
        "view_log.imp_id.nunique()"
      ],
      "execution_count": null,
      "outputs": [
        {
          "output_type": "execute_result",
          "data": {
            "text/plain": [
              "25303"
            ]
          },
          "metadata": {},
          "execution_count": 41
        }
      ]
    },
    {
      "cell_type": "markdown",
      "metadata": {
        "id": "52t6SsLwBoop"
      },
      "source": [
        "- impression_log에 비해 view_log의 size가 압도적으로 작음  \n",
        "  => 단순 노출 >>>>> 클릭이기 때문\n",
        "- 왜 view_id가 아니라 imp_id인가?"
      ]
    },
    {
      "cell_type": "code",
      "metadata": {
        "colab": {
          "base_uri": "https://localhost:8080/"
        },
        "id": "IchS8RdMCnMs",
        "outputId": "282223ae-3be2-494d-c598-7b9d9ad8d42e"
      },
      "source": [
        "# view_log와 impression_log 비교\n",
        "print(impression_log[impression_log['imp_id'] == '99d1612dded122458e99'][['server_time_kst', 'bid_price']])\n",
        "print(impression_log[impression_log['imp_id'] == '998c612ddab9008cceee'][['server_time_kst', 'bid_price']])\n",
        "print(impression_log[impression_log['imp_id'] == '998c612dd77f007f2d67'][['server_time_kst', 'bid_price']])\n",
        "print(impression_log[impression_log['imp_id'] == '971a612ddff00eb50a47'][['server_time_kst', 'bid_price']])\n",
        "print(impression_log[impression_log['imp_id'] == '971a612ddd140ea93f30'][['server_time_kst', 'bid_price']]) "
      ],
      "execution_count": null,
      "outputs": [
        {
          "output_type": "stream",
          "name": "stdout",
          "text": [
            "                      server_time_kst  bid_price\n",
            "617508  2021-08-31T16:48:41.780+09:00         50\n",
            "                      server_time_kst  bid_price\n",
            "601250  2021-08-31T16:31:14.431+09:00        385\n",
            "                      server_time_kst  bid_price\n",
            "660038  2021-08-31T16:17:21.879+09:00         50\n",
            "                      server_time_kst  bid_price\n",
            "595086  2021-08-31T16:53:43.847+09:00         70\n",
            "                      server_time_kst  bid_price\n",
            "602199  2021-08-31T16:41:10.127+09:00        155\n"
          ]
        }
      ]
    },
    {
      "cell_type": "markdown",
      "metadata": {
        "id": "u5bJc-fLCzSq"
      },
      "source": [
        "<초미세먼지 인사이트>\n",
        "\n",
        "- view_log에 존재하는 imp_id가 impreesion_log에도 존재함.\n",
        "- 서로 bid_price도 동일\n",
        "- server_time_kst를 보면 항상 impression_log가 view_log보다 빠름\n",
        "\n",
        "- view_log의 imp_id ∈ impression_log의 imp_id\n",
        "- impression과 view의 광고는 서로 같다.\n",
        "- 일단 광고가 노출이 되면 impression_log에 기록된다.  \n",
        "  => 그 뒤 해당 광고가 클릭으로 이어지면 별도로 view_log에 기록된다. (view_log size가 impression_log보다 작은 이유)\n",
        "- click으로 이어진다고 광고비를 더 받지는 않는다. (bid_price 동일)"
      ]
    },
    {
      "cell_type": "code",
      "metadata": {
        "colab": {
          "base_uri": "https://localhost:8080/",
          "height": 664
        },
        "id": "Ong_4hN7eOvj",
        "outputId": "998188f0-1ff2-41cf-f89d-81f3239244dd"
      },
      "source": [
        "# impression&view bid_price distribution 비교\n",
        "\n",
        "\n",
        "f, ax = plt.subplots(1, 2, figsize = (18,10))\n",
        "\n",
        "# impression_log bid_price distribution\n",
        "impression_log['bid_price'].value_counts().plot.pie(autopct = '%1.1f%%', ax = ax[0])\n",
        "ax[0].set_title(' impression_log bid_price distribution')\n",
        "ax[0].set_ylabel('bid_price')\n",
        "\n",
        "# view_log bid_price distribution\n",
        "view_log['bid_price'].value_counts().plot.pie(autopct = '%1.1f%%', ax = ax[1])\n",
        "ax[1].set_title('view_log bid_price distribution')\n",
        "ax[1].set_ylabel('bid_price')\n",
        "\n",
        "plt.tight_layout()\n",
        "plt.show()"
      ],
      "execution_count": null,
      "outputs": [
        {
          "output_type": "display_data",
          "data": {
            "image/png": "[encoded data removed]",
            "text/plain": [
              "<Figure size 1296x720 with 2 Axes>"
            ]
          },
          "metadata": {}
        }
      ]
    },
    {
      "cell_type": "markdown",
      "metadata": {
        "id": "Z8nz5ZIQfh8r"
      },
      "source": [
        "- bid_price distribution은 impression과 view 서로 (거의) 동일\n",
        "- 경매 입찰 시작가도 50으로 동일"
      ]
    },
    {
      "cell_type": "markdown",
      "metadata": {
        "id": "8xTf3FDM2Hqf"
      },
      "source": [
        "# User (data/viewer.csv)\n",
        "- user_id: 클릭한 사용자 아이디 (해쉬)\n",
        "- gender: 클릭한 사용자 성별\n",
        "- grade: 클릭한 사용자 나이\n",
        "- following_cnt: 상품 노출 대상의 팔로잉 수\n",
        "- pay_count: 상품 노출 대상의 거래수\n",
        "- parcel_post_count: 상품 노출 대상의 택배 거래수\n",
        "- transfer_count: 상품 노출 대상의 송금 거래수  "
      ]
    },
    {
      "cell_type": "code",
      "metadata": {
        "colab": {
          "base_uri": "https://localhost:8080/",
          "height": 225
        },
        "id": "L-sE317G2Hsq",
        "outputId": "589be675-8c96-4c17-d1cc-b9417f35a80c"
      },
      "source": [
        "print(viewer.shape)\n",
        "viewer.head()"
      ],
      "execution_count": null,
      "outputs": [
        {
          "output_type": "stream",
          "name": "stdout",
          "text": [
            "(56381, 8)\n"
          ]
        },
        {
          "output_type": "execute_result",
          "data": {
            "text/html": [
              "<div>\n",
              "<style scoped>\n",
              "    .dataframe tbody tr th:only-of-type {\n",
              "        vertical-align: middle;\n",
              "    }\n",
              "\n",
              "    .dataframe tbody tr th {\n",
              "        vertical-align: top;\n",
              "    }\n",
              "\n",
              "    .dataframe thead th {\n",
              "        text-align: right;\n",
              "    }\n",
              "</style>\n",
              "<table border=\"1\" class=\"dataframe\">\n",
              "  <thead>\n",
              "    <tr style=\"text-align: right;\">\n",
              "      <th></th>\n",
              "      <th>user_id</th>\n",
              "      <th>gender</th>\n",
              "      <th>age</th>\n",
              "      <th>following_cnt</th>\n",
              "      <th>pay_count</th>\n",
              "      <th>parcel_post_count</th>\n",
              "      <th>transfer_count</th>\n",
              "      <th>chat_count</th>\n",
              "    </tr>\n",
              "  </thead>\n",
              "  <tbody>\n",
              "    <tr>\n",
              "      <th>0</th>\n",
              "      <td>513808</td>\n",
              "      <td>2</td>\n",
              "      <td>48</td>\n",
              "      <td>0</td>\n",
              "      <td>0</td>\n",
              "      <td>0</td>\n",
              "      <td>0</td>\n",
              "      <td>0</td>\n",
              "    </tr>\n",
              "    <tr>\n",
              "      <th>1</th>\n",
              "      <td>10764680</td>\n",
              "      <td>1</td>\n",
              "      <td>25</td>\n",
              "      <td>0</td>\n",
              "      <td>0</td>\n",
              "      <td>0</td>\n",
              "      <td>0</td>\n",
              "      <td>0</td>\n",
              "    </tr>\n",
              "    <tr>\n",
              "      <th>2</th>\n",
              "      <td>516424</td>\n",
              "      <td>0</td>\n",
              "      <td>0</td>\n",
              "      <td>1</td>\n",
              "      <td>0</td>\n",
              "      <td>0</td>\n",
              "      <td>0</td>\n",
              "      <td>0</td>\n",
              "    </tr>\n",
              "    <tr>\n",
              "      <th>3</th>\n",
              "      <td>10248440</td>\n",
              "      <td>1</td>\n",
              "      <td>36</td>\n",
              "      <td>14</td>\n",
              "      <td>0</td>\n",
              "      <td>0</td>\n",
              "      <td>0</td>\n",
              "      <td>0</td>\n",
              "    </tr>\n",
              "    <tr>\n",
              "      <th>4</th>\n",
              "      <td>9741736</td>\n",
              "      <td>1</td>\n",
              "      <td>30</td>\n",
              "      <td>2</td>\n",
              "      <td>0</td>\n",
              "      <td>0</td>\n",
              "      <td>0</td>\n",
              "      <td>0</td>\n",
              "    </tr>\n",
              "  </tbody>\n",
              "</table>\n",
              "</div>"
            ],
            "text/plain": [
              "    user_id  gender  age  ...  parcel_post_count  transfer_count  chat_count\n",
              "0    513808       2   48  ...                  0               0           0\n",
              "1  10764680       1   25  ...                  0               0           0\n",
              "2    516424       0    0  ...                  0               0           0\n",
              "3  10248440       1   36  ...                  0               0           0\n",
              "4   9741736       1   30  ...                  0               0           0\n",
              "\n",
              "[5 rows x 8 columns]"
            ]
          },
          "metadata": {},
          "execution_count": 31
        }
      ]
    },
    {
      "cell_type": "markdown",
      "metadata": {
        "id": "r7twuUCnmFPT"
      },
      "source": [
        "- 팔로잉 수, 거래 수, 택배 거래 수, 송금 거래 수가 높은 유저에게 '관심 있을만 한' 광고를 '우선적으로' 보여준다면 광고 효율이 더 높지 않을까\n",
        "- 광고를 본 유저가 어떤 광고를 봤는지에 대한 정보가 없음\n",
        "  \n",
        "- 데이별로 user_id가 지칭하는 바가 다름\n",
        "  - AD, Advertiser의 user_id : 광고주\n",
        "  - impression_logs, user의 user_id : 광고를 본 사람  "
      ]
    },
    {
      "cell_type": "code",
      "metadata": {
        "id": "eLG-knE-1636",
        "colab": {
          "base_uri": "https://localhost:8080/"
        },
        "outputId": "40852b42-5994-425b-f4ec-f4c99e68e525"
      },
      "source": [
        "viewer.user_id.nunique()"
      ],
      "execution_count": null,
      "outputs": [
        {
          "output_type": "execute_result",
          "data": {
            "text/plain": [
              "56381"
            ]
          },
          "metadata": {},
          "execution_count": 32
        }
      ]
    },
    {
      "cell_type": "code",
      "metadata": {
        "colab": {
          "base_uri": "https://localhost:8080/",
          "height": 1000
        },
        "id": "HlPnRS7mhOR9",
        "outputId": "00df21fe-cd75-4f62-a1f2-2eafccf3446d"
      },
      "source": [
        "# viewer information distribution\n",
        "fig, axes = plt.subplots(nrows=2, ncols=4, figsize=(20, 16))\n",
        "fig.subplots_adjust(hspace=0.5)\n",
        "fig.suptitle('distributions of viewer')\n",
        "\n",
        "for ax, feature, name in zip(axes.flatten(), viewer.T.values.tolist(), list(viewer.columns)):\n",
        "    sns.distplot(feature, ax=ax, bins=20)\n",
        "    ax.set(title=name)"
      ],
      "execution_count": null,
      "outputs": [
        {
          "output_type": "display_data",
          "data": {
            "image/png": "[encoded data removed]",
            "text/plain": [
              "<Figure size 1440x1152 with 8 Axes>"
            ]
          },
          "metadata": {
            "needs_background": "light"
          }
        }
      ]
    },
    {
      "cell_type": "markdown",
      "metadata": {
        "id": "lS12Oy_DnPAC"
      },
      "source": [
        "- user_id  \n",
        "  - 중간에 분포가 비어있는 부분이 의미하는 것은?\n",
        "\n",
        "- 대부분 분포가 한쪽으로 편향되어 있음."
      ]
    },
    {
      "cell_type": "code",
      "metadata": {
        "colab": {
          "base_uri": "https://localhost:8080/",
          "height": 267
        },
        "id": "4TM589zSjgDf",
        "outputId": "3f83757c-585d-4213-db33-cdd14d60926a"
      },
      "source": [
        "viewer['parcel_post_count'].value_counts().plot.pie(autopct = '%1.1f%%')"
      ],
      "execution_count": null,
      "outputs": [
        {
          "output_type": "execute_result",
          "data": {
            "text/plain": [
              "<matplotlib.axes._subplots.AxesSubplot at 0x7f8e5753c090>"
            ]
          },
          "metadata": {},
          "execution_count": 34
        },
        {
          "output_type": "display_data",
          "data": {
            "image/png": "[encoded data removed]",
            "text/plain": [
              "<Figure size 432x288 with 1 Axes>"
            ]
          },
          "metadata": {}
        }
      ]
    },
    {
      "cell_type": "code",
      "metadata": {
        "colab": {
          "base_uri": "https://localhost:8080/"
        },
        "id": "wFoP6Swakonl",
        "outputId": "0c6b6193-13a8-487c-c6bb-dda795e8b670"
      },
      "source": [
        "viewer[viewer['pay_count'] > 100]['user_id']"
      ],
      "execution_count": null,
      "outputs": [
        {
          "output_type": "execute_result",
          "data": {
            "text/plain": [
              "2679     12395706\n",
              "4772       834713\n",
              "5191      2293309\n",
              "6510      2160519\n",
              "7458      3914238\n",
              "           ...   \n",
              "55927     4534322\n",
              "55996    12494584\n",
              "56208       11632\n",
              "56314     4853510\n",
              "56325     6286921\n",
              "Name: user_id, Length: 80, dtype: int64"
            ]
          },
          "metadata": {},
          "execution_count": 35
        }
      ]
    },
    {
      "cell_type": "markdown",
      "metadata": {
        "id": "DeSNun6-5Mqu"
      },
      "source": [
        "# Dataset"
      ]
    },
    {
      "cell_type": "code",
      "metadata": {
        "colab": {
          "base_uri": "https://localhost:8080/",
          "height": 332
        },
        "id": "px-9P12ocJuU",
        "outputId": "75991319-34a3-4849-9baa-641826dfa242"
      },
      "source": [
        "print(dataset.shape)\n",
        "dataset.head()"
      ],
      "execution_count": null,
      "outputs": [
        {
          "output_type": "stream",
          "name": "stdout",
          "text": [
            "(853868, 35)\n"
          ]
        },
        {
          "output_type": "execute_result",
          "data": {
            "text/html": [
              "<div>\n",
              "<style scoped>\n",
              "    .dataframe tbody tr th:only-of-type {\n",
              "        vertical-align: middle;\n",
              "    }\n",
              "\n",
              "    .dataframe tbody tr th {\n",
              "        vertical-align: top;\n",
              "    }\n",
              "\n",
              "    .dataframe thead th {\n",
              "        text-align: right;\n",
              "    }\n",
              "</style>\n",
              "<table border=\"1\" class=\"dataframe\">\n",
              "  <thead>\n",
              "    <tr style=\"text-align: right;\">\n",
              "      <th></th>\n",
              "      <th>label</th>\n",
              "      <th>day</th>\n",
              "      <th>hour</th>\n",
              "      <th>c_user_gender</th>\n",
              "      <th>c_user_age</th>\n",
              "      <th>user_following_count</th>\n",
              "      <th>user_pay_count</th>\n",
              "      <th>user_parcel_post_count</th>\n",
              "      <th>user_transfer_count</th>\n",
              "      <th>user_chat_count</th>\n",
              "      <th>advertiser_grade</th>\n",
              "      <th>advertiser_item_count</th>\n",
              "      <th>advertiser_interest_count</th>\n",
              "      <th>advertiser_follower_count</th>\n",
              "      <th>advertiser_pay_count</th>\n",
              "      <th>advertiser_review_count</th>\n",
              "      <th>advertiser_parcel_post_count</th>\n",
              "      <th>advertiser_transfer_count</th>\n",
              "      <th>advertiser_chat_count</th>\n",
              "      <th>advertiser_favorite_count</th>\n",
              "      <th>advertiser_comment_count</th>\n",
              "      <th>content_bid_price</th>\n",
              "      <th>content_price</th>\n",
              "      <th>c_content_flag_used</th>\n",
              "      <th>c_content_category_id_1</th>\n",
              "      <th>c_content_category_id_2</th>\n",
              "      <th>c_content_category_id_3</th>\n",
              "      <th>content_emergency_count</th>\n",
              "      <th>content_comment_count</th>\n",
              "      <th>content_interest_count</th>\n",
              "      <th>content_favorite_count</th>\n",
              "      <th>content_id</th>\n",
              "      <th>server_time_kst</th>\n",
              "      <th>m_time</th>\n",
              "      <th>content_img_url</th>\n",
              "    </tr>\n",
              "  </thead>\n",
              "  <tbody>\n",
              "    <tr>\n",
              "      <th>0</th>\n",
              "      <td>0</td>\n",
              "      <td>20210831</td>\n",
              "      <td>5</td>\n",
              "      <td>0</td>\n",
              "      <td>0</td>\n",
              "      <td>28</td>\n",
              "      <td>0</td>\n",
              "      <td>0</td>\n",
              "      <td>0</td>\n",
              "      <td>0</td>\n",
              "      <td>5285</td>\n",
              "      <td>246</td>\n",
              "      <td>4521</td>\n",
              "      <td>0</td>\n",
              "      <td>496</td>\n",
              "      <td>542</td>\n",
              "      <td>0</td>\n",
              "      <td>0</td>\n",
              "      <td>11</td>\n",
              "      <td>2131</td>\n",
              "      <td>738</td>\n",
              "      <td>70</td>\n",
              "      <td>310000.0</td>\n",
              "      <td>1.0</td>\n",
              "      <td>600.0</td>\n",
              "      <td>600700.0</td>\n",
              "      <td>600700001.0</td>\n",
              "      <td>1.0</td>\n",
              "      <td>6.0</td>\n",
              "      <td>28595.0</td>\n",
              "      <td>1067.0</td>\n",
              "      <td>137083455</td>\n",
              "      <td>2021-08-31T05:59:24.222+09:00</td>\n",
              "      <td>1629687449</td>\n",
              "      <td>https://media.bunjang.co.kr/product/137083455_...</td>\n",
              "    </tr>\n",
              "    <tr>\n",
              "      <th>1</th>\n",
              "      <td>0</td>\n",
              "      <td>20210831</td>\n",
              "      <td>5</td>\n",
              "      <td>1</td>\n",
              "      <td>46</td>\n",
              "      <td>0</td>\n",
              "      <td>0</td>\n",
              "      <td>0</td>\n",
              "      <td>0</td>\n",
              "      <td>0</td>\n",
              "      <td>0</td>\n",
              "      <td>3940</td>\n",
              "      <td>84</td>\n",
              "      <td>0</td>\n",
              "      <td>0</td>\n",
              "      <td>0</td>\n",
              "      <td>0</td>\n",
              "      <td>0</td>\n",
              "      <td>0</td>\n",
              "      <td>34</td>\n",
              "      <td>0</td>\n",
              "      <td>50</td>\n",
              "      <td>200000.0</td>\n",
              "      <td>1.0</td>\n",
              "      <td>750.0</td>\n",
              "      <td>750610.0</td>\n",
              "      <td>750610100.0</td>\n",
              "      <td>0.0</td>\n",
              "      <td>0.0</td>\n",
              "      <td>179.0</td>\n",
              "      <td>7.0</td>\n",
              "      <td>162622860</td>\n",
              "      <td>2021-08-31T05:05:20.388+09:00</td>\n",
              "      <td>1629786400</td>\n",
              "      <td>https://media.bunjang.co.kr/product/162622860_...</td>\n",
              "    </tr>\n",
              "    <tr>\n",
              "      <th>2</th>\n",
              "      <td>0</td>\n",
              "      <td>20210831</td>\n",
              "      <td>5</td>\n",
              "      <td>1</td>\n",
              "      <td>26</td>\n",
              "      <td>9</td>\n",
              "      <td>0</td>\n",
              "      <td>0</td>\n",
              "      <td>0</td>\n",
              "      <td>0</td>\n",
              "      <td>0</td>\n",
              "      <td>3940</td>\n",
              "      <td>84</td>\n",
              "      <td>0</td>\n",
              "      <td>0</td>\n",
              "      <td>0</td>\n",
              "      <td>0</td>\n",
              "      <td>0</td>\n",
              "      <td>0</td>\n",
              "      <td>34</td>\n",
              "      <td>0</td>\n",
              "      <td>50</td>\n",
              "      <td>200000.0</td>\n",
              "      <td>1.0</td>\n",
              "      <td>750.0</td>\n",
              "      <td>750610.0</td>\n",
              "      <td>750610100.0</td>\n",
              "      <td>0.0</td>\n",
              "      <td>0.0</td>\n",
              "      <td>179.0</td>\n",
              "      <td>7.0</td>\n",
              "      <td>162622860</td>\n",
              "      <td>2021-08-31T05:29:27.712+09:00</td>\n",
              "      <td>1629786400</td>\n",
              "      <td>https://media.bunjang.co.kr/product/162622860_...</td>\n",
              "    </tr>\n",
              "    <tr>\n",
              "      <th>3</th>\n",
              "      <td>0</td>\n",
              "      <td>20210831</td>\n",
              "      <td>5</td>\n",
              "      <td>2</td>\n",
              "      <td>45</td>\n",
              "      <td>3</td>\n",
              "      <td>0</td>\n",
              "      <td>0</td>\n",
              "      <td>0</td>\n",
              "      <td>0</td>\n",
              "      <td>323</td>\n",
              "      <td>557</td>\n",
              "      <td>185</td>\n",
              "      <td>0</td>\n",
              "      <td>20</td>\n",
              "      <td>33</td>\n",
              "      <td>0</td>\n",
              "      <td>0</td>\n",
              "      <td>0</td>\n",
              "      <td>177</td>\n",
              "      <td>1</td>\n",
              "      <td>55</td>\n",
              "      <td>32000.0</td>\n",
              "      <td>2.0</td>\n",
              "      <td>810.0</td>\n",
              "      <td>810200.0</td>\n",
              "      <td>810200300.0</td>\n",
              "      <td>0.0</td>\n",
              "      <td>0.0</td>\n",
              "      <td>1653.0</td>\n",
              "      <td>122.0</td>\n",
              "      <td>149111357</td>\n",
              "      <td>2021-08-31T05:30:35.883+09:00</td>\n",
              "      <td>1630373220</td>\n",
              "      <td>https://media.bunjang.co.kr/product/149111357_...</td>\n",
              "    </tr>\n",
              "    <tr>\n",
              "      <th>4</th>\n",
              "      <td>0</td>\n",
              "      <td>20210831</td>\n",
              "      <td>5</td>\n",
              "      <td>1</td>\n",
              "      <td>34</td>\n",
              "      <td>1</td>\n",
              "      <td>0</td>\n",
              "      <td>0</td>\n",
              "      <td>0</td>\n",
              "      <td>0</td>\n",
              "      <td>7673</td>\n",
              "      <td>431</td>\n",
              "      <td>31681</td>\n",
              "      <td>0</td>\n",
              "      <td>575</td>\n",
              "      <td>775</td>\n",
              "      <td>0</td>\n",
              "      <td>35</td>\n",
              "      <td>130</td>\n",
              "      <td>1900</td>\n",
              "      <td>529</td>\n",
              "      <td>80</td>\n",
              "      <td>699000.0</td>\n",
              "      <td>1.0</td>\n",
              "      <td>600.0</td>\n",
              "      <td>600100.0</td>\n",
              "      <td>600100006.0</td>\n",
              "      <td>8.0</td>\n",
              "      <td>2.0</td>\n",
              "      <td>40601.0</td>\n",
              "      <td>689.0</td>\n",
              "      <td>100010275</td>\n",
              "      <td>2021-08-31T05:15:15.906+09:00</td>\n",
              "      <td>1630518932</td>\n",
              "      <td>https://media.bunjang.co.kr/product/100010275_...</td>\n",
              "    </tr>\n",
              "  </tbody>\n",
              "</table>\n",
              "</div>"
            ],
            "text/plain": [
              "   label  ...                                    content_img_url\n",
              "0      0  ...  https://media.bunjang.co.kr/product/137083455_...\n",
              "1      0  ...  https://media.bunjang.co.kr/product/162622860_...\n",
              "2      0  ...  https://media.bunjang.co.kr/product/162622860_...\n",
              "3      0  ...  https://media.bunjang.co.kr/product/149111357_...\n",
              "4      0  ...  https://media.bunjang.co.kr/product/100010275_...\n",
              "\n",
              "[5 rows x 35 columns]"
            ]
          },
          "metadata": {},
          "execution_count": 36
        }
      ]
    },
    {
      "cell_type": "markdown",
      "metadata": {
        "id": "Y7H1VlmnqTgY"
      },
      "source": [
        "- 광고를 본 사람(viewer) 정보 -> 광고주(advertiser) 정보 -> 광고된 제품(content) 정보 순서로 컬럼이 진행되고 있음\n",
        "- label을 제외하면 이미 다른 data에 존재하는 값으로 구성  \n",
        "  => dataset은 ad, advertiser, imp/view log에서 취합하여 만든 data  \n",
        "  => dataset을 토대로 필요한 column이 있으면 추가해서 사용\n",
        "\n",
        "<고민해볼만한 점>\n",
        "1. user와 content 앞에 붙은 c의 의미\n",
        "2. dataset과 impression_log의 row는 같아야하지 않을까?  \n",
        "  => impresssion 이후 클릭했으면 label 1 아니면 0으로 기록되었을 것."
      ]
    },
    {
      "cell_type": "code",
      "metadata": {
        "colab": {
          "base_uri": "https://localhost:8080/"
        },
        "id": "uHsDNkw-ymob",
        "outputId": "5d295997-eff4-4320-8957-df53b853253e"
      },
      "source": [
        "dataset.columns"
      ],
      "execution_count": null,
      "outputs": [
        {
          "output_type": "execute_result",
          "data": {
            "text/plain": [
              "Index(['label', 'day', 'hour', 'c_user_gender', 'c_user_age',\n",
              "       'user_following_count', 'user_pay_count', 'user_parcel_post_count',\n",
              "       'user_transfer_count', 'user_chat_count', 'advertiser_grade',\n",
              "       'advertiser_item_count', 'advertiser_interest_count',\n",
              "       'advertiser_follower_count', 'advertiser_pay_count',\n",
              "       'advertiser_review_count', 'advertiser_parcel_post_count',\n",
              "       'advertiser_transfer_count', 'advertiser_chat_count',\n",
              "       'advertiser_favorite_count', 'advertiser_comment_count',\n",
              "       'content_bid_price', 'content_price', 'c_content_flag_used',\n",
              "       'c_content_category_id_1', 'c_content_category_id_2',\n",
              "       'c_content_category_id_3', 'content_emergency_count',\n",
              "       'content_comment_count', 'content_interest_count',\n",
              "       'content_favorite_count', 'content_id', 'server_time_kst', 'm_time',\n",
              "       'content_img_url'],\n",
              "      dtype='object')"
            ]
          },
          "metadata": {},
          "execution_count": 37
        }
      ]
    },
    {
      "cell_type": "code",
      "metadata": {
        "id": "wGSZ2nHt36j_",
        "colab": {
          "base_uri": "https://localhost:8080/",
          "height": 267
        },
        "outputId": "a5c3d1d2-2831-45ab-832a-828af072a576"
      },
      "source": [
        "dataset['label'].value_counts().plot.pie(autopct = '%1.1f%%')"
      ],
      "execution_count": null,
      "outputs": [
        {
          "output_type": "execute_result",
          "data": {
            "text/plain": [
              "<matplotlib.axes._subplots.AxesSubplot at 0x7f8e56efc510>"
            ]
          },
          "metadata": {},
          "execution_count": 38
        },
        {
          "output_type": "display_data",
          "data": {
            "image/png": "[encoded data removed]",
            "text/plain": [
              "<Figure size 432x288 with 1 Axes>"
            ]
          },
          "metadata": {}
        }
      ]
    },
    {
      "cell_type": "markdown",
      "metadata": {
        "id": "1RsyUd1Gq2NR"
      },
      "source": [
        "- class imbalance가 심함.  \n",
        "  => 평가 지표로 accuracy, recall 사용이 힘듬.  \n",
        "  => 대신 AUC, log_loss 사용\n",
        "\n",
        "- class의 비중을 맞춰주어야할까?  \n",
        "![image.png](data:image/png;base64,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)  \n",
        "=> 출처 : 번개장터 기술블로그"
      ]
    },
    {
      "cell_type": "code",
      "metadata": {
        "id": "uVohLfEogKGC"
      },
      "source": [
        ""
      ],
      "execution_count": null,
      "outputs": []
    }
  ]
}