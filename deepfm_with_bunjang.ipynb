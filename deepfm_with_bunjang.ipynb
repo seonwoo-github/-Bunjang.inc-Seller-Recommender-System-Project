{
  "nbformat": 4,
  "nbformat_minor": 0,
  "metadata": {
    "colab": {
      "name": "deepfm with bunjang.ipynb",
      "provenance": [],
      "collapsed_sections": []
    },
    "kernelspec": {
      "name": "python3",
      "display_name": "Python 3"
    },
    "language_info": {
      "name": "python"
    },
    "accelerator": "GPU"
  },
  "cells": [
    {
      "cell_type": "code",
      "metadata": {
        "colab": {
          "base_uri": "https://localhost:8080/"
        },
        "id": "2PgsC5KrzscL",
        "outputId": "ddad62d6-0607-4c00-8891-5d7aa70664c8"
      },
      "source": [
        "from google.colab import drive\n",
        "drive.mount('/content/drive')"
      ],
      "execution_count": null,
      "outputs": [
        {
          "output_type": "stream",
          "name": "stdout",
          "text": [
            "Mounted at /content/drive\n"
          ]
        }
      ]
    },
    {
      "cell_type": "code",
      "metadata": {
        "colab": {
          "base_uri": "https://localhost:8080/"
        },
        "id": "S8PYrSku4pYd",
        "outputId": "c63782e2-0ed6-4874-ce3f-f3a84d2b5ed9"
      },
      "source": [
        "!nvidia-smi"
      ],
      "execution_count": null,
      "outputs": [
        {
          "output_type": "stream",
          "name": "stdout",
          "text": [
            "Sun Dec 12 13:40:51 2021       \n",
            "+-----------------------------------------------------------------------------+\n",
            "| NVIDIA-SMI 495.44       Driver Version: 460.32.03    CUDA Version: 11.2     |\n",
            "|-------------------------------+----------------------+----------------------+\n",
            "| GPU  Name        Persistence-M| Bus-Id        Disp.A | Volatile Uncorr. ECC |\n",
            "| Fan  Temp  Perf  Pwr:Usage/Cap|         Memory-Usage | GPU-Util  Compute M. |\n",
            "|                               |                      |               MIG M. |\n",
            "|===============================+======================+======================|\n",
            "|   0  Tesla K80           Off  | 00000000:00:04.0 Off |                    0 |\n",
            "| N/A   35C    P8    29W / 149W |      0MiB / 11441MiB |      0%      Default |\n",
            "|                               |                      |                  N/A |\n",
            "+-------------------------------+----------------------+----------------------+\n",
            "                                                                               \n",
            "+-----------------------------------------------------------------------------+\n",
            "| Processes:                                                                  |\n",
            "|  GPU   GI   CI        PID   Type   Process name                  GPU Memory |\n",
            "|        ID   ID                                                   Usage      |\n",
            "|=============================================================================|\n",
            "|  No running processes found                                                 |\n",
            "+-----------------------------------------------------------------------------+\n"
          ]
        }
      ]
    },
    {
      "cell_type": "code",
      "metadata": {
        "id": "ldaBMqAv1vTt",
        "colab": {
          "base_uri": "https://localhost:8080/"
        },
        "outputId": "2b4092ff-2a20-4226-df62-3a05ca233e78"
      },
      "source": [
        "!pip install deepctr-torch"
      ],
      "execution_count": null,
      "outputs": [
        {
          "output_type": "stream",
          "name": "stdout",
          "text": [
            "Collecting deepctr-torch\n",
            "  Downloading deepctr_torch-0.2.7-py3-none-any.whl (70 kB)\n",
            "\u001b[?25l\r\u001b[K     |████▊                           | 10 kB 23.9 MB/s eta 0:00:01\r\u001b[K     |█████████▍                      | 20 kB 28.2 MB/s eta 0:00:01\r\u001b[K     |██████████████                  | 30 kB 26.1 MB/s eta 0:00:01\r\u001b[K     |██████████████████▊             | 40 kB 19.7 MB/s eta 0:00:01\r\u001b[K     |███████████████████████▍        | 51 kB 15.3 MB/s eta 0:00:01\r\u001b[K     |████████████████████████████    | 61 kB 11.4 MB/s eta 0:00:01\r\u001b[K     |████████████████████████████████| 70 kB 4.8 MB/s \n",
            "\u001b[?25hRequirement already satisfied: sklearn in /usr/local/lib/python3.7/dist-packages (from deepctr-torch) (0.0)\n",
            "Requirement already satisfied: torch>=1.1.0 in /usr/local/lib/python3.7/dist-packages (from deepctr-torch) (1.10.0+cu111)\n",
            "Requirement already satisfied: tensorflow in /usr/local/lib/python3.7/dist-packages (from deepctr-torch) (2.7.0)\n",
            "Requirement already satisfied: tqdm in /usr/local/lib/python3.7/dist-packages (from deepctr-torch) (4.62.3)\n",
            "Requirement already satisfied: typing-extensions in /usr/local/lib/python3.7/dist-packages (from torch>=1.1.0->deepctr-torch) (3.10.0.2)\n",
            "Requirement already satisfied: scikit-learn in /usr/local/lib/python3.7/dist-packages (from sklearn->deepctr-torch) (1.0.1)\n",
            "Requirement already satisfied: scipy>=1.1.0 in /usr/local/lib/python3.7/dist-packages (from scikit-learn->sklearn->deepctr-torch) (1.4.1)\n",
            "Requirement already satisfied: numpy>=1.14.6 in /usr/local/lib/python3.7/dist-packages (from scikit-learn->sklearn->deepctr-torch) (1.19.5)\n",
            "Requirement already satisfied: threadpoolctl>=2.0.0 in /usr/local/lib/python3.7/dist-packages (from scikit-learn->sklearn->deepctr-torch) (3.0.0)\n",
            "Requirement already satisfied: joblib>=0.11 in /usr/local/lib/python3.7/dist-packages (from scikit-learn->sklearn->deepctr-torch) (1.1.0)\n",
            "Requirement already satisfied: tensorflow-io-gcs-filesystem>=0.21.0 in /usr/local/lib/python3.7/dist-packages (from tensorflow->deepctr-torch) (0.22.0)\n",
            "Requirement already satisfied: six>=1.12.0 in /usr/local/lib/python3.7/dist-packages (from tensorflow->deepctr-torch) (1.15.0)\n",
            "Requirement already satisfied: absl-py>=0.4.0 in /usr/local/lib/python3.7/dist-packages (from tensorflow->deepctr-torch) (0.12.0)\n",
            "Requirement already satisfied: keras<2.8,>=2.7.0rc0 in /usr/local/lib/python3.7/dist-packages (from tensorflow->deepctr-torch) (2.7.0)\n",
            "Requirement already satisfied: opt-einsum>=2.3.2 in /usr/local/lib/python3.7/dist-packages (from tensorflow->deepctr-torch) (3.3.0)\n",
            "Requirement already satisfied: protobuf>=3.9.2 in /usr/local/lib/python3.7/dist-packages (from tensorflow->deepctr-torch) (3.17.3)\n",
            "Requirement already satisfied: flatbuffers<3.0,>=1.12 in /usr/local/lib/python3.7/dist-packages (from tensorflow->deepctr-torch) (2.0)\n",
            "Requirement already satisfied: astunparse>=1.6.0 in /usr/local/lib/python3.7/dist-packages (from tensorflow->deepctr-torch) (1.6.3)\n",
            "Requirement already satisfied: gast<0.5.0,>=0.2.1 in /usr/local/lib/python3.7/dist-packages (from tensorflow->deepctr-torch) (0.4.0)\n",
            "Requirement already satisfied: tensorboard~=2.6 in /usr/local/lib/python3.7/dist-packages (from tensorflow->deepctr-torch) (2.7.0)\n",
            "Requirement already satisfied: libclang>=9.0.1 in /usr/local/lib/python3.7/dist-packages (from tensorflow->deepctr-torch) (12.0.0)\n",
            "Requirement already satisfied: grpcio<2.0,>=1.24.3 in /usr/local/lib/python3.7/dist-packages (from tensorflow->deepctr-torch) (1.42.0)\n",
            "Requirement already satisfied: keras-preprocessing>=1.1.1 in /usr/local/lib/python3.7/dist-packages (from tensorflow->deepctr-torch) (1.1.2)\n",
            "Requirement already satisfied: wheel<1.0,>=0.32.0 in /usr/local/lib/python3.7/dist-packages (from tensorflow->deepctr-torch) (0.37.0)\n",
            "Requirement already satisfied: wrapt>=1.11.0 in /usr/local/lib/python3.7/dist-packages (from tensorflow->deepctr-torch) (1.13.3)\n",
            "Requirement already satisfied: google-pasta>=0.1.1 in /usr/local/lib/python3.7/dist-packages (from tensorflow->deepctr-torch) (0.2.0)\n",
            "Requirement already satisfied: h5py>=2.9.0 in /usr/local/lib/python3.7/dist-packages (from tensorflow->deepctr-torch) (3.1.0)\n",
            "Requirement already satisfied: termcolor>=1.1.0 in /usr/local/lib/python3.7/dist-packages (from tensorflow->deepctr-torch) (1.1.0)\n",
            "Requirement already satisfied: tensorflow-estimator<2.8,~=2.7.0rc0 in /usr/local/lib/python3.7/dist-packages (from tensorflow->deepctr-torch) (2.7.0)\n",
            "Requirement already satisfied: cached-property in /usr/local/lib/python3.7/dist-packages (from h5py>=2.9.0->tensorflow->deepctr-torch) (1.5.2)\n",
            "Requirement already satisfied: google-auth-oauthlib<0.5,>=0.4.1 in /usr/local/lib/python3.7/dist-packages (from tensorboard~=2.6->tensorflow->deepctr-torch) (0.4.6)\n",
            "Requirement already satisfied: tensorboard-data-server<0.7.0,>=0.6.0 in /usr/local/lib/python3.7/dist-packages (from tensorboard~=2.6->tensorflow->deepctr-torch) (0.6.1)\n",
            "Requirement already satisfied: tensorboard-plugin-wit>=1.6.0 in /usr/local/lib/python3.7/dist-packages (from tensorboard~=2.6->tensorflow->deepctr-torch) (1.8.0)\n",
            "Requirement already satisfied: google-auth<3,>=1.6.3 in /usr/local/lib/python3.7/dist-packages (from tensorboard~=2.6->tensorflow->deepctr-torch) (1.35.0)\n",
            "Requirement already satisfied: setuptools>=41.0.0 in /usr/local/lib/python3.7/dist-packages (from tensorboard~=2.6->tensorflow->deepctr-torch) (57.4.0)\n",
            "Requirement already satisfied: markdown>=2.6.8 in /usr/local/lib/python3.7/dist-packages (from tensorboard~=2.6->tensorflow->deepctr-torch) (3.3.6)\n",
            "Requirement already satisfied: requests<3,>=2.21.0 in /usr/local/lib/python3.7/dist-packages (from tensorboard~=2.6->tensorflow->deepctr-torch) (2.23.0)\n",
            "Requirement already satisfied: werkzeug>=0.11.15 in /usr/local/lib/python3.7/dist-packages (from tensorboard~=2.6->tensorflow->deepctr-torch) (1.0.1)\n",
            "Requirement already satisfied: cachetools<5.0,>=2.0.0 in /usr/local/lib/python3.7/dist-packages (from google-auth<3,>=1.6.3->tensorboard~=2.6->tensorflow->deepctr-torch) (4.2.4)\n",
            "Requirement already satisfied: pyasn1-modules>=0.2.1 in /usr/local/lib/python3.7/dist-packages (from google-auth<3,>=1.6.3->tensorboard~=2.6->tensorflow->deepctr-torch) (0.2.8)\n",
            "Requirement already satisfied: rsa<5,>=3.1.4 in /usr/local/lib/python3.7/dist-packages (from google-auth<3,>=1.6.3->tensorboard~=2.6->tensorflow->deepctr-torch) (4.8)\n",
            "Requirement already satisfied: requests-oauthlib>=0.7.0 in /usr/local/lib/python3.7/dist-packages (from google-auth-oauthlib<0.5,>=0.4.1->tensorboard~=2.6->tensorflow->deepctr-torch) (1.3.0)\n",
            "Requirement already satisfied: importlib-metadata>=4.4 in /usr/local/lib/python3.7/dist-packages (from markdown>=2.6.8->tensorboard~=2.6->tensorflow->deepctr-torch) (4.8.2)\n",
            "Requirement already satisfied: zipp>=0.5 in /usr/local/lib/python3.7/dist-packages (from importlib-metadata>=4.4->markdown>=2.6.8->tensorboard~=2.6->tensorflow->deepctr-torch) (3.6.0)\n",
            "Requirement already satisfied: pyasn1<0.5.0,>=0.4.6 in /usr/local/lib/python3.7/dist-packages (from pyasn1-modules>=0.2.1->google-auth<3,>=1.6.3->tensorboard~=2.6->tensorflow->deepctr-torch) (0.4.8)\n",
            "Requirement already satisfied: urllib3!=1.25.0,!=1.25.1,<1.26,>=1.21.1 in /usr/local/lib/python3.7/dist-packages (from requests<3,>=2.21.0->tensorboard~=2.6->tensorflow->deepctr-torch) (1.24.3)\n",
            "Requirement already satisfied: chardet<4,>=3.0.2 in /usr/local/lib/python3.7/dist-packages (from requests<3,>=2.21.0->tensorboard~=2.6->tensorflow->deepctr-torch) (3.0.4)\n",
            "Requirement already satisfied: certifi>=2017.4.17 in /usr/local/lib/python3.7/dist-packages (from requests<3,>=2.21.0->tensorboard~=2.6->tensorflow->deepctr-torch) (2021.10.8)\n",
            "Requirement already satisfied: idna<3,>=2.5 in /usr/local/lib/python3.7/dist-packages (from requests<3,>=2.21.0->tensorboard~=2.6->tensorflow->deepctr-torch) (2.10)\n",
            "Requirement already satisfied: oauthlib>=3.0.0 in /usr/local/lib/python3.7/dist-packages (from requests-oauthlib>=0.7.0->google-auth-oauthlib<0.5,>=0.4.1->tensorboard~=2.6->tensorflow->deepctr-torch) (3.1.1)\n",
            "Installing collected packages: deepctr-torch\n",
            "Successfully installed deepctr-torch-0.2.7\n"
          ]
        }
      ]
    },
    {
      "cell_type": "code",
      "metadata": {
        "id": "ChgDgs3Lzxp0"
      },
      "source": [
        "# lib\n",
        "import pandas as pd\n",
        "import numpy as np\n",
        "import matplotlib.pyplot as plt\n",
        "import seaborn as sns\n",
        "\n",
        "# training\n",
        "from sklearn.metrics.pairwise import cosine_similarity\n",
        "from sklearn.model_selection import KFold\n",
        "from sklearn.model_selection import GridSearchCV\n",
        "\n",
        "from sklearn import preprocessing\n",
        "from sklearn.preprocessing import LabelEncoder\n",
        "from sklearn.metrics import log_loss, roc_auc_score\n",
        "from sklearn.model_selection import train_test_split\n",
        "\n",
        "# deepfm\n",
        "import torch\n",
        "from deepctr_torch.inputs import SparseFeat, DenseFeat, get_feature_names\n",
        "from deepctr_torch.models import DeepFM\n",
        "\n",
        "\n",
        "from tensorflow.python.keras.models import  save_model,load_model\n",
        "import joblib # model save & load\n",
        "import warnings\n",
        "warnings.filterwarnings('ignore')"
      ],
      "execution_count": null,
      "outputs": []
    },
    {
      "cell_type": "code",
      "metadata": {
        "id": "msGppc3AzxtJ"
      },
      "source": [
        "# dataset load\n",
        "data_path = '/content/drive/MyDrive/Colab Notebooks/data/ad.zip (Unzipped Files)/data/'\n",
        "\n",
        "dataset = pd.read_csv(data_path + 'dataset.csv')\n",
        "SW_dataset = pd.read_csv(data_path + 'SW_data.csv')\n",
        "ad = pd.read_csv(data_path + 'ad.csv')"
      ],
      "execution_count": null,
      "outputs": []
    },
    {
      "cell_type": "code",
      "metadata": {
        "id": "Leeg_xTM3SMn"
      },
      "source": [
        "# reduce memory\n",
        "def reduce_mem_usage(df, verbose=True):\n",
        "    numerics = ['int16', 'int32', 'int64', 'float16', 'float32', 'float64']\n",
        "    start_mem = df.memory_usage().sum() / 1024**2\n",
        "    for col in df.columns:\n",
        "        col_type = df[col].dtypes\n",
        "        if col_type in numerics:\n",
        "            c_min = df[col].min()\n",
        "            c_max = df[col].max()\n",
        "            if str(col_type)[:3] == 'int':\n",
        "                if c_min > np.iinfo(np.int8).min and c_max < np.iinfo(np.int8).max:\n",
        "                    df[col] = df[col].astype(np.int8)\n",
        "                elif c_min > np.iinfo(np.int16).min and c_max < np.iinfo(np.int16).max:\n",
        "                    df[col] = df[col].astype(np.int16)\n",
        "                elif c_min > np.iinfo(np.int32).min and c_max < np.iinfo(np.int32).max:\n",
        "                    df[col] = df[col].astype(np.int32)\n",
        "                elif c_min > np.iinfo(np.int64).min and c_max < np.iinfo(np.int64).max:\n",
        "                    df[col] = df[col].astype(np.int64)\n",
        "            else:\n",
        "                if c_min > np.finfo(np.float16).min and c_max < np.finfo(np.float16).max:\n",
        "                    df[col] = df[col].astype(np.float16)\n",
        "                elif c_min > np.finfo(np.float32).min and c_max < np.finfo(np.float32).max:\n",
        "                    df[col] = df[col].astype(np.float32)\n",
        "                else:\n",
        "                    df[col] = df[col].astype(np.float64)\n",
        "\n",
        "    end_mem = df.memory_usage().sum() / 1024**2\n",
        "    print('Memory usage after optimization is: {:.2f} MB'.format(end_mem))\n",
        "    print('Decreased by {:.1f}%'.format(100 * (start_mem - end_mem) / start_mem))\n",
        "\n",
        "    return df"
      ],
      "execution_count": null,
      "outputs": []
    },
    {
      "cell_type": "code",
      "metadata": {
        "colab": {
          "base_uri": "https://localhost:8080/"
        },
        "id": "Kr8SdNgn3TPv",
        "outputId": "5814b2a1-efee-4d60-a273-c62d5ceb78b3"
      },
      "source": [
        "ad = reduce_mem_usage(ad)\n",
        "dataset = reduce_mem_usage(dataset)\n",
        "SW_dataset = reduce_mem_usage(SW_dataset)"
      ],
      "execution_count": null,
      "outputs": [
        {
          "output_type": "stream",
          "name": "stdout",
          "text": [
            "Memory usage after optimization is: 0.07 MB\n",
            "Decreased by 50.9%\n",
            "Memory usage after optimization is: 77.36 MB\n",
            "Decreased by 66.1%\n",
            "Memory usage after optimization is: 82.25 MB\n",
            "Decreased by 65.9%\n"
          ]
        }
      ]
    },
    {
      "cell_type": "code",
      "metadata": {
        "colab": {
          "base_uri": "https://localhost:8080/"
        },
        "id": "je8oA9mVtcxn",
        "outputId": "e1729d81-c0de-4ba7-a594-002fcb217992"
      },
      "source": [
        "SW_dataset.isnull().sum()"
      ],
      "execution_count": null,
      "outputs": [
        {
          "output_type": "execute_result",
          "data": {
            "text/plain": [
              "Unnamed: 0                      0\n",
              "label                           0\n",
              "day                             0\n",
              "hour                            0\n",
              "c_user_gender                   0\n",
              "c_user_age                      0\n",
              "user_following_count            0\n",
              "user_pay_count                  0\n",
              "user_parcel_post_count          0\n",
              "user_transfer_count             0\n",
              "user_chat_count                 0\n",
              "advertiser_grade                0\n",
              "advertiser_item_count           0\n",
              "advertiser_interest_count       0\n",
              "advertiser_follower_count       0\n",
              "advertiser_pay_count            0\n",
              "advertiser_review_count         0\n",
              "advertiser_parcel_post_count    0\n",
              "advertiser_transfer_count       0\n",
              "advertiser_chat_count           0\n",
              "advertiser_favorite_count       0\n",
              "advertiser_comment_count        0\n",
              "content_bid_price               0\n",
              "content_price                   0\n",
              "c_content_flag_used             0\n",
              "c_content_category_id_1         0\n",
              "c_content_category_id_2         0\n",
              "c_content_category_id_3         0\n",
              "content_emergency_count         0\n",
              "content_comment_count           0\n",
              "content_interest_count          0\n",
              "content_favorite_count          0\n",
              "content_id                      0\n",
              "server_time_kst                 0\n",
              "m_time                          0\n",
              "content_img_url                 0\n",
              "content_count                   0\n",
              "dtype: int64"
            ]
          },
          "metadata": {},
          "execution_count": 8
        }
      ]
    },
    {
      "cell_type": "code",
      "metadata": {
        "colab": {
          "base_uri": "https://localhost:8080/"
        },
        "id": "uE0lRjWOi8C-",
        "outputId": "0f288cbb-f991-4727-f31d-5d816d255f4d"
      },
      "source": [
        "SW_dataset.content_count.unique()"
      ],
      "execution_count": null,
      "outputs": [
        {
          "output_type": "execute_result",
          "data": {
            "text/plain": [
              "array([-0.2222,  0.1111,  2.334 ,  0.    ,  0.3333,  0.6665, -0.1111,\n",
              "        0.2222,  4.11  ,  3.223 ,  1.556 ,  1.    ,  1.223 ,  0.8887,\n",
              "        4.777 ,  5.89  ,  3.    , -0.3333,  2.445 ,  0.5557,  2.    ,\n",
              "        3.334 ,  1.667 ,  2.223 , 11.22  ,  0.778 ,  2.555 ,  3.889 ,\n",
              "        0.4443,  5.    ,  2.666 ,  3.111 ,  2.111 ,  2.889 ,  1.444 ,\n",
              "        1.889 ,  1.111 ,  5.332 ,  1.333 ,  2.777 ,  6.332 ,  6.555 ,\n",
              "        3.445 ,  1.777 ,  4.89  , 19.89  ,  6.445 ,  4.332 ,  4.555 ,\n",
              "        7.11  ,  6.    ,  6.11  ,  9.11  , 10.336 ,  3.777 , 10.445 ,\n",
              "        4.223 , 10.11  ,  7.    ,  5.777 ,  7.332 ,  7.555 ,  7.223 ,\n",
              "        7.668 ,  5.11  ,  4.445 ,  7.777 ,  4.    ,  8.89  ,  4.668 ,\n",
              "        8.22  ,  3.666 , 12.22  ,  9.    ,  6.777 ,  6.223 ,  8.664 ,\n",
              "        9.22  , 20.11  ,  9.445 ,  7.89  ,  6.89  ,  5.668 ,  6.668 ,\n",
              "       11.89  ,  3.555 ,  9.336 ,  5.555 , 11.    , 14.336 , 10.    ,\n",
              "       14.    ,  7.445 ,  8.11  ,  8.    ,  5.445 , 22.89  ,  8.445 ,\n",
              "       14.664 , 14.89  ,  8.336 ,  5.223 , 13.664 , 17.44  , 17.56  ,\n",
              "       16.56  , 12.555 , 15.11  , 11.336 , 17.33  ,  9.78  , 25.78  ,\n",
              "       11.664 , 13.22  , 11.555 , 11.11  , 12.11  , 12.445 , 12.664 ,\n",
              "       13.78  , 12.89  , 13.555 , 11.445 , 10.78  , 12.    ,  8.78  ,\n",
              "       19.11  , 15.664 , 18.89  , 15.22  ,  8.555 , 11.78  , 13.89  ,\n",
              "       20.22  , 13.445 , 16.    , 20.33  , 13.336 , 12.78  , 14.22  ,\n",
              "       15.336 , 21.    ], dtype=float16)"
            ]
          },
          "metadata": {},
          "execution_count": 9
        }
      ]
    },
    {
      "cell_type": "code",
      "metadata": {
        "colab": {
          "base_uri": "https://localhost:8080/",
          "height": 443
        },
        "id": "hgBmGMcjmOmR",
        "outputId": "6b21f48f-dc07-4f2c-cf2a-acb0a9d25bbc"
      },
      "source": [
        "SW_dataset.drop(['Unnamed: 0', 'server_time_kst', 'm_time', 'content_img_url'], axis = 1, inplace=True)\n",
        "SW_dataset"
      ],
      "execution_count": null,
      "outputs": [
        {
          "output_type": "execute_result",
          "data": {
            "text/html": [
              "<div>\n",
              "<style scoped>\n",
              "    .dataframe tbody tr th:only-of-type {\n",
              "        vertical-align: middle;\n",
              "    }\n",
              "\n",
              "    .dataframe tbody tr th {\n",
              "        vertical-align: top;\n",
              "    }\n",
              "\n",
              "    .dataframe thead th {\n",
              "        text-align: right;\n",
              "    }\n",
              "</style>\n",
              "<table border=\"1\" class=\"dataframe\">\n",
              "  <thead>\n",
              "    <tr style=\"text-align: right;\">\n",
              "      <th></th>\n",
              "      <th>label</th>\n",
              "      <th>day</th>\n",
              "      <th>hour</th>\n",
              "      <th>c_user_gender</th>\n",
              "      <th>c_user_age</th>\n",
              "      <th>user_following_count</th>\n",
              "      <th>user_pay_count</th>\n",
              "      <th>user_parcel_post_count</th>\n",
              "      <th>user_transfer_count</th>\n",
              "      <th>user_chat_count</th>\n",
              "      <th>advertiser_grade</th>\n",
              "      <th>advertiser_item_count</th>\n",
              "      <th>advertiser_interest_count</th>\n",
              "      <th>advertiser_follower_count</th>\n",
              "      <th>advertiser_pay_count</th>\n",
              "      <th>advertiser_review_count</th>\n",
              "      <th>advertiser_parcel_post_count</th>\n",
              "      <th>advertiser_transfer_count</th>\n",
              "      <th>advertiser_chat_count</th>\n",
              "      <th>advertiser_favorite_count</th>\n",
              "      <th>advertiser_comment_count</th>\n",
              "      <th>content_bid_price</th>\n",
              "      <th>content_price</th>\n",
              "      <th>c_content_flag_used</th>\n",
              "      <th>c_content_category_id_1</th>\n",
              "      <th>c_content_category_id_2</th>\n",
              "      <th>c_content_category_id_3</th>\n",
              "      <th>content_emergency_count</th>\n",
              "      <th>content_comment_count</th>\n",
              "      <th>content_interest_count</th>\n",
              "      <th>content_favorite_count</th>\n",
              "      <th>content_id</th>\n",
              "      <th>content_count</th>\n",
              "    </tr>\n",
              "  </thead>\n",
              "  <tbody>\n",
              "    <tr>\n",
              "      <th>0</th>\n",
              "      <td>0</td>\n",
              "      <td>20210831</td>\n",
              "      <td>5</td>\n",
              "      <td>0</td>\n",
              "      <td>0</td>\n",
              "      <td>28</td>\n",
              "      <td>0</td>\n",
              "      <td>0</td>\n",
              "      <td>0</td>\n",
              "      <td>0</td>\n",
              "      <td>5285</td>\n",
              "      <td>246</td>\n",
              "      <td>4521</td>\n",
              "      <td>0</td>\n",
              "      <td>496</td>\n",
              "      <td>542</td>\n",
              "      <td>0</td>\n",
              "      <td>0</td>\n",
              "      <td>11</td>\n",
              "      <td>2131</td>\n",
              "      <td>738</td>\n",
              "      <td>70</td>\n",
              "      <td>310000.0</td>\n",
              "      <td>1.0</td>\n",
              "      <td>600.0</td>\n",
              "      <td>600700.0</td>\n",
              "      <td>600700032.0</td>\n",
              "      <td>1.0</td>\n",
              "      <td>6.0</td>\n",
              "      <td>28595.0</td>\n",
              "      <td>1067.0</td>\n",
              "      <td>137083455</td>\n",
              "      <td>-0.222168</td>\n",
              "    </tr>\n",
              "    <tr>\n",
              "      <th>1</th>\n",
              "      <td>0</td>\n",
              "      <td>20210831</td>\n",
              "      <td>5</td>\n",
              "      <td>1</td>\n",
              "      <td>46</td>\n",
              "      <td>0</td>\n",
              "      <td>0</td>\n",
              "      <td>0</td>\n",
              "      <td>0</td>\n",
              "      <td>0</td>\n",
              "      <td>0</td>\n",
              "      <td>3940</td>\n",
              "      <td>84</td>\n",
              "      <td>0</td>\n",
              "      <td>0</td>\n",
              "      <td>0</td>\n",
              "      <td>0</td>\n",
              "      <td>0</td>\n",
              "      <td>0</td>\n",
              "      <td>34</td>\n",
              "      <td>0</td>\n",
              "      <td>50</td>\n",
              "      <td>200000.0</td>\n",
              "      <td>1.0</td>\n",
              "      <td>750.0</td>\n",
              "      <td>750610.0</td>\n",
              "      <td>750610112.0</td>\n",
              "      <td>0.0</td>\n",
              "      <td>0.0</td>\n",
              "      <td>179.0</td>\n",
              "      <td>7.0</td>\n",
              "      <td>162622860</td>\n",
              "      <td>0.111084</td>\n",
              "    </tr>\n",
              "    <tr>\n",
              "      <th>2</th>\n",
              "      <td>0</td>\n",
              "      <td>20210831</td>\n",
              "      <td>5</td>\n",
              "      <td>1</td>\n",
              "      <td>26</td>\n",
              "      <td>9</td>\n",
              "      <td>0</td>\n",
              "      <td>0</td>\n",
              "      <td>0</td>\n",
              "      <td>0</td>\n",
              "      <td>0</td>\n",
              "      <td>3940</td>\n",
              "      <td>84</td>\n",
              "      <td>0</td>\n",
              "      <td>0</td>\n",
              "      <td>0</td>\n",
              "      <td>0</td>\n",
              "      <td>0</td>\n",
              "      <td>0</td>\n",
              "      <td>34</td>\n",
              "      <td>0</td>\n",
              "      <td>50</td>\n",
              "      <td>200000.0</td>\n",
              "      <td>1.0</td>\n",
              "      <td>750.0</td>\n",
              "      <td>750610.0</td>\n",
              "      <td>750610112.0</td>\n",
              "      <td>0.0</td>\n",
              "      <td>0.0</td>\n",
              "      <td>179.0</td>\n",
              "      <td>7.0</td>\n",
              "      <td>162622860</td>\n",
              "      <td>-0.222168</td>\n",
              "    </tr>\n",
              "    <tr>\n",
              "      <th>3</th>\n",
              "      <td>0</td>\n",
              "      <td>20210831</td>\n",
              "      <td>5</td>\n",
              "      <td>2</td>\n",
              "      <td>45</td>\n",
              "      <td>3</td>\n",
              "      <td>0</td>\n",
              "      <td>0</td>\n",
              "      <td>0</td>\n",
              "      <td>0</td>\n",
              "      <td>323</td>\n",
              "      <td>557</td>\n",
              "      <td>185</td>\n",
              "      <td>0</td>\n",
              "      <td>20</td>\n",
              "      <td>33</td>\n",
              "      <td>0</td>\n",
              "      <td>0</td>\n",
              "      <td>0</td>\n",
              "      <td>177</td>\n",
              "      <td>1</td>\n",
              "      <td>55</td>\n",
              "      <td>32000.0</td>\n",
              "      <td>2.0</td>\n",
              "      <td>810.0</td>\n",
              "      <td>810200.0</td>\n",
              "      <td>810200320.0</td>\n",
              "      <td>0.0</td>\n",
              "      <td>0.0</td>\n",
              "      <td>1653.0</td>\n",
              "      <td>122.0</td>\n",
              "      <td>149111357</td>\n",
              "      <td>2.333984</td>\n",
              "    </tr>\n",
              "    <tr>\n",
              "      <th>4</th>\n",
              "      <td>0</td>\n",
              "      <td>20210831</td>\n",
              "      <td>5</td>\n",
              "      <td>1</td>\n",
              "      <td>34</td>\n",
              "      <td>1</td>\n",
              "      <td>0</td>\n",
              "      <td>0</td>\n",
              "      <td>0</td>\n",
              "      <td>0</td>\n",
              "      <td>7673</td>\n",
              "      <td>431</td>\n",
              "      <td>31681</td>\n",
              "      <td>0</td>\n",
              "      <td>575</td>\n",
              "      <td>775</td>\n",
              "      <td>0</td>\n",
              "      <td>35</td>\n",
              "      <td>130</td>\n",
              "      <td>1900</td>\n",
              "      <td>529</td>\n",
              "      <td>80</td>\n",
              "      <td>699000.0</td>\n",
              "      <td>1.0</td>\n",
              "      <td>600.0</td>\n",
              "      <td>600100.0</td>\n",
              "      <td>600100032.0</td>\n",
              "      <td>8.0</td>\n",
              "      <td>2.0</td>\n",
              "      <td>40601.0</td>\n",
              "      <td>689.0</td>\n",
              "      <td>100010275</td>\n",
              "      <td>0.000000</td>\n",
              "    </tr>\n",
              "    <tr>\n",
              "      <th>...</th>\n",
              "      <td>...</td>\n",
              "      <td>...</td>\n",
              "      <td>...</td>\n",
              "      <td>...</td>\n",
              "      <td>...</td>\n",
              "      <td>...</td>\n",
              "      <td>...</td>\n",
              "      <td>...</td>\n",
              "      <td>...</td>\n",
              "      <td>...</td>\n",
              "      <td>...</td>\n",
              "      <td>...</td>\n",
              "      <td>...</td>\n",
              "      <td>...</td>\n",
              "      <td>...</td>\n",
              "      <td>...</td>\n",
              "      <td>...</td>\n",
              "      <td>...</td>\n",
              "      <td>...</td>\n",
              "      <td>...</td>\n",
              "      <td>...</td>\n",
              "      <td>...</td>\n",
              "      <td>...</td>\n",
              "      <td>...</td>\n",
              "      <td>...</td>\n",
              "      <td>...</td>\n",
              "      <td>...</td>\n",
              "      <td>...</td>\n",
              "      <td>...</td>\n",
              "      <td>...</td>\n",
              "      <td>...</td>\n",
              "      <td>...</td>\n",
              "      <td>...</td>\n",
              "    </tr>\n",
              "    <tr>\n",
              "      <th>853863</th>\n",
              "      <td>0</td>\n",
              "      <td>20210831</td>\n",
              "      <td>9</td>\n",
              "      <td>1</td>\n",
              "      <td>18</td>\n",
              "      <td>0</td>\n",
              "      <td>1</td>\n",
              "      <td>0</td>\n",
              "      <td>1</td>\n",
              "      <td>1</td>\n",
              "      <td>7673</td>\n",
              "      <td>431</td>\n",
              "      <td>31681</td>\n",
              "      <td>0</td>\n",
              "      <td>575</td>\n",
              "      <td>775</td>\n",
              "      <td>0</td>\n",
              "      <td>35</td>\n",
              "      <td>130</td>\n",
              "      <td>1900</td>\n",
              "      <td>529</td>\n",
              "      <td>75</td>\n",
              "      <td>250000.0</td>\n",
              "      <td>1.0</td>\n",
              "      <td>600.0</td>\n",
              "      <td>600100.0</td>\n",
              "      <td>600100032.0</td>\n",
              "      <td>9.0</td>\n",
              "      <td>3.0</td>\n",
              "      <td>58750.0</td>\n",
              "      <td>863.0</td>\n",
              "      <td>104223605</td>\n",
              "      <td>-0.222168</td>\n",
              "    </tr>\n",
              "    <tr>\n",
              "      <th>853864</th>\n",
              "      <td>0</td>\n",
              "      <td>20210831</td>\n",
              "      <td>9</td>\n",
              "      <td>2</td>\n",
              "      <td>40</td>\n",
              "      <td>11</td>\n",
              "      <td>0</td>\n",
              "      <td>0</td>\n",
              "      <td>0</td>\n",
              "      <td>1</td>\n",
              "      <td>59</td>\n",
              "      <td>2</td>\n",
              "      <td>3</td>\n",
              "      <td>0</td>\n",
              "      <td>5</td>\n",
              "      <td>6</td>\n",
              "      <td>0</td>\n",
              "      <td>0</td>\n",
              "      <td>3</td>\n",
              "      <td>2</td>\n",
              "      <td>0</td>\n",
              "      <td>55</td>\n",
              "      <td>70000.0</td>\n",
              "      <td>1.0</td>\n",
              "      <td>430.0</td>\n",
              "      <td>430300.0</td>\n",
              "      <td>430300992.0</td>\n",
              "      <td>1.0</td>\n",
              "      <td>2.0</td>\n",
              "      <td>65.0</td>\n",
              "      <td>9.0</td>\n",
              "      <td>163090225</td>\n",
              "      <td>5.445312</td>\n",
              "    </tr>\n",
              "    <tr>\n",
              "      <th>853865</th>\n",
              "      <td>0</td>\n",
              "      <td>20210831</td>\n",
              "      <td>9</td>\n",
              "      <td>2</td>\n",
              "      <td>36</td>\n",
              "      <td>1</td>\n",
              "      <td>0</td>\n",
              "      <td>0</td>\n",
              "      <td>0</td>\n",
              "      <td>0</td>\n",
              "      <td>511</td>\n",
              "      <td>9</td>\n",
              "      <td>320</td>\n",
              "      <td>0</td>\n",
              "      <td>0</td>\n",
              "      <td>52</td>\n",
              "      <td>0</td>\n",
              "      <td>0</td>\n",
              "      <td>5</td>\n",
              "      <td>29</td>\n",
              "      <td>2</td>\n",
              "      <td>75</td>\n",
              "      <td>1000000.0</td>\n",
              "      <td>2.0</td>\n",
              "      <td>320.0</td>\n",
              "      <td>320080.0</td>\n",
              "      <td>320080992.0</td>\n",
              "      <td>6.0</td>\n",
              "      <td>0.0</td>\n",
              "      <td>24520.0</td>\n",
              "      <td>133.0</td>\n",
              "      <td>146485304</td>\n",
              "      <td>0.666504</td>\n",
              "    </tr>\n",
              "    <tr>\n",
              "      <th>853866</th>\n",
              "      <td>0</td>\n",
              "      <td>20210831</td>\n",
              "      <td>9</td>\n",
              "      <td>1</td>\n",
              "      <td>54</td>\n",
              "      <td>0</td>\n",
              "      <td>0</td>\n",
              "      <td>0</td>\n",
              "      <td>0</td>\n",
              "      <td>0</td>\n",
              "      <td>20847</td>\n",
              "      <td>702</td>\n",
              "      <td>472261</td>\n",
              "      <td>0</td>\n",
              "      <td>438</td>\n",
              "      <td>2172</td>\n",
              "      <td>0</td>\n",
              "      <td>19</td>\n",
              "      <td>21</td>\n",
              "      <td>13291</td>\n",
              "      <td>1908</td>\n",
              "      <td>50</td>\n",
              "      <td>50000.0</td>\n",
              "      <td>2.0</td>\n",
              "      <td>420.0</td>\n",
              "      <td>420200.0</td>\n",
              "      <td>420200992.0</td>\n",
              "      <td>3.0</td>\n",
              "      <td>1.0</td>\n",
              "      <td>6229.0</td>\n",
              "      <td>71.0</td>\n",
              "      <td>135412901</td>\n",
              "      <td>0.111084</td>\n",
              "    </tr>\n",
              "    <tr>\n",
              "      <th>853867</th>\n",
              "      <td>0</td>\n",
              "      <td>20210831</td>\n",
              "      <td>9</td>\n",
              "      <td>1</td>\n",
              "      <td>18</td>\n",
              "      <td>0</td>\n",
              "      <td>1</td>\n",
              "      <td>0</td>\n",
              "      <td>0</td>\n",
              "      <td>0</td>\n",
              "      <td>8165</td>\n",
              "      <td>4208</td>\n",
              "      <td>47892</td>\n",
              "      <td>0</td>\n",
              "      <td>1088</td>\n",
              "      <td>883</td>\n",
              "      <td>231</td>\n",
              "      <td>298</td>\n",
              "      <td>41</td>\n",
              "      <td>3722</td>\n",
              "      <td>1049</td>\n",
              "      <td>50</td>\n",
              "      <td>110000.0</td>\n",
              "      <td>1.0</td>\n",
              "      <td>600.0</td>\n",
              "      <td>600700.0</td>\n",
              "      <td>600700032.0</td>\n",
              "      <td>0.0</td>\n",
              "      <td>0.0</td>\n",
              "      <td>134.0</td>\n",
              "      <td>6.0</td>\n",
              "      <td>162680260</td>\n",
              "      <td>0.111084</td>\n",
              "    </tr>\n",
              "  </tbody>\n",
              "</table>\n",
              "<p>853868 rows × 33 columns</p>\n",
              "</div>"
            ],
            "text/plain": [
              "        label       day  ...  content_id  content_count\n",
              "0           0  20210831  ...   137083455      -0.222168\n",
              "1           0  20210831  ...   162622860       0.111084\n",
              "2           0  20210831  ...   162622860      -0.222168\n",
              "3           0  20210831  ...   149111357       2.333984\n",
              "4           0  20210831  ...   100010275       0.000000\n",
              "...       ...       ...  ...         ...            ...\n",
              "853863      0  20210831  ...   104223605      -0.222168\n",
              "853864      0  20210831  ...   163090225       5.445312\n",
              "853865      0  20210831  ...   146485304       0.666504\n",
              "853866      0  20210831  ...   135412901       0.111084\n",
              "853867      0  20210831  ...   162680260       0.111084\n",
              "\n",
              "[853868 rows x 33 columns]"
            ]
          },
          "metadata": {},
          "execution_count": 10
        }
      ]
    },
    {
      "cell_type": "markdown",
      "metadata": {
        "id": "yWk76kBOgyT5"
      },
      "source": [
        "* day도 드랍할 예정\n",
        "    * 모두 20210831이기 때문에 학습에 필요 없는 feature일 것이다."
      ]
    },
    {
      "cell_type": "code",
      "metadata": {
        "colab": {
          "base_uri": "https://localhost:8080/"
        },
        "id": "y7TkadaamgUF",
        "outputId": "c4a2997a-4bdd-4f3d-dc11-ba69f08126c2"
      },
      "source": [
        "SW_dataset.columns"
      ],
      "execution_count": null,
      "outputs": [
        {
          "output_type": "execute_result",
          "data": {
            "text/plain": [
              "Index(['label', 'day', 'hour', 'c_user_gender', 'c_user_age',\n",
              "       'user_following_count', 'user_pay_count', 'user_parcel_post_count',\n",
              "       'user_transfer_count', 'user_chat_count', 'advertiser_grade',\n",
              "       'advertiser_item_count', 'advertiser_interest_count',\n",
              "       'advertiser_follower_count', 'advertiser_pay_count',\n",
              "       'advertiser_review_count', 'advertiser_parcel_post_count',\n",
              "       'advertiser_transfer_count', 'advertiser_chat_count',\n",
              "       'advertiser_favorite_count', 'advertiser_comment_count',\n",
              "       'content_bid_price', 'content_price', 'c_content_flag_used',\n",
              "       'c_content_category_id_1', 'c_content_category_id_2',\n",
              "       'c_content_category_id_3', 'content_emergency_count',\n",
              "       'content_comment_count', 'content_interest_count',\n",
              "       'content_favorite_count', 'content_id', 'content_count'],\n",
              "      dtype='object')"
            ]
          },
          "metadata": {},
          "execution_count": 11
        }
      ]
    },
    {
      "cell_type": "code",
      "metadata": {
        "id": "ajp43qESzyD9"
      },
      "source": [
        "features = ['day', 'hour', 'c_user_gender', 'c_user_age',\n",
        "       'user_following_count', 'user_pay_count', 'user_parcel_post_count',\n",
        "       'user_transfer_count', 'user_chat_count', 'advertiser_grade',\n",
        "       'advertiser_item_count', 'advertiser_interest_count',\n",
        "       'advertiser_follower_count', 'advertiser_pay_count',\n",
        "       'advertiser_review_count', 'advertiser_parcel_post_count',\n",
        "       'advertiser_transfer_count', 'advertiser_chat_count',\n",
        "       'advertiser_favorite_count', 'advertiser_comment_count',\n",
        "       'content_bid_price', 'content_price', 'c_content_flag_used',\n",
        "       'c_content_category_id_1', 'c_content_category_id_2',\n",
        "       'c_content_category_id_3', 'content_emergency_count',\n",
        "       'content_comment_count', 'content_interest_count',\n",
        "       'content_favorite_count', 'content_id', 'content_count']"
      ],
      "execution_count": null,
      "outputs": []
    },
    {
      "cell_type": "code",
      "metadata": {
        "colab": {
          "base_uri": "https://localhost:8080/",
          "height": 313
        },
        "id": "g6bS4OYwCKiZ",
        "outputId": "fcc77c42-9992-4ee2-be1f-c7b52532d039"
      },
      "source": [
        "# label encoding\n",
        "\n",
        "for feat in features:\n",
        "    lbe = LabelEncoder()\n",
        "    SW_dataset[feat] = lbe.fit_transform(SW_dataset[feat])  \n",
        "\n",
        "dataset.head()"
      ],
      "execution_count": null,
      "outputs": [
        {
          "output_type": "execute_result",
          "data": {
            "text/html": [
              "<div>\n",
              "<style scoped>\n",
              "    .dataframe tbody tr th:only-of-type {\n",
              "        vertical-align: middle;\n",
              "    }\n",
              "\n",
              "    .dataframe tbody tr th {\n",
              "        vertical-align: top;\n",
              "    }\n",
              "\n",
              "    .dataframe thead th {\n",
              "        text-align: right;\n",
              "    }\n",
              "</style>\n",
              "<table border=\"1\" class=\"dataframe\">\n",
              "  <thead>\n",
              "    <tr style=\"text-align: right;\">\n",
              "      <th></th>\n",
              "      <th>label</th>\n",
              "      <th>day</th>\n",
              "      <th>hour</th>\n",
              "      <th>c_user_gender</th>\n",
              "      <th>c_user_age</th>\n",
              "      <th>user_following_count</th>\n",
              "      <th>user_pay_count</th>\n",
              "      <th>user_parcel_post_count</th>\n",
              "      <th>user_transfer_count</th>\n",
              "      <th>user_chat_count</th>\n",
              "      <th>advertiser_grade</th>\n",
              "      <th>advertiser_item_count</th>\n",
              "      <th>advertiser_interest_count</th>\n",
              "      <th>advertiser_follower_count</th>\n",
              "      <th>advertiser_pay_count</th>\n",
              "      <th>advertiser_review_count</th>\n",
              "      <th>advertiser_parcel_post_count</th>\n",
              "      <th>advertiser_transfer_count</th>\n",
              "      <th>advertiser_chat_count</th>\n",
              "      <th>advertiser_favorite_count</th>\n",
              "      <th>advertiser_comment_count</th>\n",
              "      <th>content_bid_price</th>\n",
              "      <th>content_price</th>\n",
              "      <th>c_content_flag_used</th>\n",
              "      <th>c_content_category_id_1</th>\n",
              "      <th>c_content_category_id_2</th>\n",
              "      <th>c_content_category_id_3</th>\n",
              "      <th>content_emergency_count</th>\n",
              "      <th>content_comment_count</th>\n",
              "      <th>content_interest_count</th>\n",
              "      <th>content_favorite_count</th>\n",
              "      <th>content_id</th>\n",
              "      <th>server_time_kst</th>\n",
              "      <th>m_time</th>\n",
              "      <th>content_img_url</th>\n",
              "    </tr>\n",
              "  </thead>\n",
              "  <tbody>\n",
              "    <tr>\n",
              "      <th>0</th>\n",
              "      <td>0</td>\n",
              "      <td>20210831</td>\n",
              "      <td>5</td>\n",
              "      <td>0</td>\n",
              "      <td>0</td>\n",
              "      <td>28</td>\n",
              "      <td>0</td>\n",
              "      <td>0</td>\n",
              "      <td>0</td>\n",
              "      <td>0</td>\n",
              "      <td>5285</td>\n",
              "      <td>246</td>\n",
              "      <td>4521</td>\n",
              "      <td>0</td>\n",
              "      <td>496</td>\n",
              "      <td>542</td>\n",
              "      <td>0</td>\n",
              "      <td>0</td>\n",
              "      <td>11</td>\n",
              "      <td>2131</td>\n",
              "      <td>738</td>\n",
              "      <td>70</td>\n",
              "      <td>310000.0</td>\n",
              "      <td>1.0</td>\n",
              "      <td>600.0</td>\n",
              "      <td>600700.0</td>\n",
              "      <td>600700032.0</td>\n",
              "      <td>1.0</td>\n",
              "      <td>6.0</td>\n",
              "      <td>28595.0</td>\n",
              "      <td>1067.0</td>\n",
              "      <td>137083455</td>\n",
              "      <td>2021-08-31T05:59:24.222+09:00</td>\n",
              "      <td>1629687449</td>\n",
              "      <td>https://media.bunjang.co.kr/product/137083455_...</td>\n",
              "    </tr>\n",
              "    <tr>\n",
              "      <th>1</th>\n",
              "      <td>0</td>\n",
              "      <td>20210831</td>\n",
              "      <td>5</td>\n",
              "      <td>1</td>\n",
              "      <td>46</td>\n",
              "      <td>0</td>\n",
              "      <td>0</td>\n",
              "      <td>0</td>\n",
              "      <td>0</td>\n",
              "      <td>0</td>\n",
              "      <td>0</td>\n",
              "      <td>3940</td>\n",
              "      <td>84</td>\n",
              "      <td>0</td>\n",
              "      <td>0</td>\n",
              "      <td>0</td>\n",
              "      <td>0</td>\n",
              "      <td>0</td>\n",
              "      <td>0</td>\n",
              "      <td>34</td>\n",
              "      <td>0</td>\n",
              "      <td>50</td>\n",
              "      <td>200000.0</td>\n",
              "      <td>1.0</td>\n",
              "      <td>750.0</td>\n",
              "      <td>750610.0</td>\n",
              "      <td>750610112.0</td>\n",
              "      <td>0.0</td>\n",
              "      <td>0.0</td>\n",
              "      <td>179.0</td>\n",
              "      <td>7.0</td>\n",
              "      <td>162622860</td>\n",
              "      <td>2021-08-31T05:05:20.388+09:00</td>\n",
              "      <td>1629786400</td>\n",
              "      <td>https://media.bunjang.co.kr/product/162622860_...</td>\n",
              "    </tr>\n",
              "    <tr>\n",
              "      <th>2</th>\n",
              "      <td>0</td>\n",
              "      <td>20210831</td>\n",
              "      <td>5</td>\n",
              "      <td>1</td>\n",
              "      <td>26</td>\n",
              "      <td>9</td>\n",
              "      <td>0</td>\n",
              "      <td>0</td>\n",
              "      <td>0</td>\n",
              "      <td>0</td>\n",
              "      <td>0</td>\n",
              "      <td>3940</td>\n",
              "      <td>84</td>\n",
              "      <td>0</td>\n",
              "      <td>0</td>\n",
              "      <td>0</td>\n",
              "      <td>0</td>\n",
              "      <td>0</td>\n",
              "      <td>0</td>\n",
              "      <td>34</td>\n",
              "      <td>0</td>\n",
              "      <td>50</td>\n",
              "      <td>200000.0</td>\n",
              "      <td>1.0</td>\n",
              "      <td>750.0</td>\n",
              "      <td>750610.0</td>\n",
              "      <td>750610112.0</td>\n",
              "      <td>0.0</td>\n",
              "      <td>0.0</td>\n",
              "      <td>179.0</td>\n",
              "      <td>7.0</td>\n",
              "      <td>162622860</td>\n",
              "      <td>2021-08-31T05:29:27.712+09:00</td>\n",
              "      <td>1629786400</td>\n",
              "      <td>https://media.bunjang.co.kr/product/162622860_...</td>\n",
              "    </tr>\n",
              "    <tr>\n",
              "      <th>3</th>\n",
              "      <td>0</td>\n",
              "      <td>20210831</td>\n",
              "      <td>5</td>\n",
              "      <td>2</td>\n",
              "      <td>45</td>\n",
              "      <td>3</td>\n",
              "      <td>0</td>\n",
              "      <td>0</td>\n",
              "      <td>0</td>\n",
              "      <td>0</td>\n",
              "      <td>323</td>\n",
              "      <td>557</td>\n",
              "      <td>185</td>\n",
              "      <td>0</td>\n",
              "      <td>20</td>\n",
              "      <td>33</td>\n",
              "      <td>0</td>\n",
              "      <td>0</td>\n",
              "      <td>0</td>\n",
              "      <td>177</td>\n",
              "      <td>1</td>\n",
              "      <td>55</td>\n",
              "      <td>32000.0</td>\n",
              "      <td>2.0</td>\n",
              "      <td>810.0</td>\n",
              "      <td>810200.0</td>\n",
              "      <td>810200320.0</td>\n",
              "      <td>0.0</td>\n",
              "      <td>0.0</td>\n",
              "      <td>1653.0</td>\n",
              "      <td>122.0</td>\n",
              "      <td>149111357</td>\n",
              "      <td>2021-08-31T05:30:35.883+09:00</td>\n",
              "      <td>1630373220</td>\n",
              "      <td>https://media.bunjang.co.kr/product/149111357_...</td>\n",
              "    </tr>\n",
              "    <tr>\n",
              "      <th>4</th>\n",
              "      <td>0</td>\n",
              "      <td>20210831</td>\n",
              "      <td>5</td>\n",
              "      <td>1</td>\n",
              "      <td>34</td>\n",
              "      <td>1</td>\n",
              "      <td>0</td>\n",
              "      <td>0</td>\n",
              "      <td>0</td>\n",
              "      <td>0</td>\n",
              "      <td>7673</td>\n",
              "      <td>431</td>\n",
              "      <td>31681</td>\n",
              "      <td>0</td>\n",
              "      <td>575</td>\n",
              "      <td>775</td>\n",
              "      <td>0</td>\n",
              "      <td>35</td>\n",
              "      <td>130</td>\n",
              "      <td>1900</td>\n",
              "      <td>529</td>\n",
              "      <td>80</td>\n",
              "      <td>699000.0</td>\n",
              "      <td>1.0</td>\n",
              "      <td>600.0</td>\n",
              "      <td>600100.0</td>\n",
              "      <td>600100032.0</td>\n",
              "      <td>8.0</td>\n",
              "      <td>2.0</td>\n",
              "      <td>40601.0</td>\n",
              "      <td>689.0</td>\n",
              "      <td>100010275</td>\n",
              "      <td>2021-08-31T05:15:15.906+09:00</td>\n",
              "      <td>1630518932</td>\n",
              "      <td>https://media.bunjang.co.kr/product/100010275_...</td>\n",
              "    </tr>\n",
              "  </tbody>\n",
              "</table>\n",
              "</div>"
            ],
            "text/plain": [
              "   label  ...                                    content_img_url\n",
              "0      0  ...  https://media.bunjang.co.kr/product/137083455_...\n",
              "1      0  ...  https://media.bunjang.co.kr/product/162622860_...\n",
              "2      0  ...  https://media.bunjang.co.kr/product/162622860_...\n",
              "3      0  ...  https://media.bunjang.co.kr/product/149111357_...\n",
              "4      0  ...  https://media.bunjang.co.kr/product/100010275_...\n",
              "\n",
              "[5 rows x 35 columns]"
            ]
          },
          "metadata": {},
          "execution_count": 13
        }
      ]
    },
    {
      "cell_type": "markdown",
      "metadata": {
        "id": "ZGKxBlbdhBeU"
      },
      "source": [
        "* 우리가 학습에 사용할 데이터는 대부분이 numerical 한데 왜 레이블 인코딩을 했는가?\n",
        "    * 레이블 인코딩은 학습을 돌릴 때 문자열이 들어올 수 없기 때문에 문자열을 숫자로 바꿔주는 기법이다.\n",
        "    * 근데, 오픈 소스 구성 상 레이블 인코딩을 하지 않으면 에러가 난다. 그래서 레이블 인코딩을 했다.  \n",
        "    (오픈 소스 예제 코드에 사용된 데이터의 컬럼은 대부분이 이산형 변수였기 때문에 레이블 인코딩이 진행되었다.)\n",
        "* 우리 데이터에 레이블 인코딩을 하면 데이터의 numerical한 성질이 사라지지 않나?\n",
        "    * 그럴 것이라 생각해서 다른 방안을 모색해야하나 싶었는데, 성능이 준수하게 나왔다.  \n",
        "        (아래에서 확인하겠지만, 동일 데이터셋으로 xgboost에서 0.083가 나왔고, deepfm에서 0.088이 나왔다. deepfm 등의 SOTA 모델보다 gradient boosting 모델이 더 좋은 성능을 냈다는 기술블로그의 연구 결과와도 일치한다.)"
      ]
    },
    {
      "cell_type": "code",
      "metadata": {
        "id": "xYleArKczyG8"
      },
      "source": [
        "fixlen_feature_columns = [SparseFeat(feat, SW_dataset[feat].nunique()) for feat in features] \n",
        "\n",
        "dnn_feature_columns = fixlen_feature_columns\n",
        "linear_feature_columns = fixlen_feature_columns"
      ],
      "execution_count": null,
      "outputs": []
    },
    {
      "cell_type": "markdown",
      "metadata": {
        "id": "-ZrY-a4Jhzal"
      },
      "source": [
        "* deepfm은 fm과 dnn 이 서로 같은 인풋 데이터를 공유한다.\n",
        "* 이 cell은 input 데이를 만들기 위한 과정 중 하나다."
      ]
    },
    {
      "cell_type": "code",
      "metadata": {
        "colab": {
          "base_uri": "https://localhost:8080/"
        },
        "id": "il9uBwtIzyKW",
        "outputId": "9388a39f-943e-4012-b57b-d50aaaf86f86"
      },
      "source": [
        "fixlen_feature_columns"
      ],
      "execution_count": null,
      "outputs": [
        {
          "output_type": "execute_result",
          "data": {
            "text/plain": [
              "[SparseFeat(name='day', vocabulary_size=1, embedding_dim=4, use_hash=False, dtype='int32', embedding_name='day', group_name='default_group'),\n",
              " SparseFeat(name='hour', vocabulary_size=24, embedding_dim=4, use_hash=False, dtype='int32', embedding_name='hour', group_name='default_group'),\n",
              " SparseFeat(name='c_user_gender', vocabulary_size=3, embedding_dim=4, use_hash=False, dtype='int32', embedding_name='c_user_gender', group_name='default_group'),\n",
              " SparseFeat(name='c_user_age', vocabulary_size=93, embedding_dim=4, use_hash=False, dtype='int32', embedding_name='c_user_age', group_name='default_group'),\n",
              " SparseFeat(name='user_following_count', vocabulary_size=392, embedding_dim=4, use_hash=False, dtype='int32', embedding_name='user_following_count', group_name='default_group'),\n",
              " SparseFeat(name='user_pay_count', vocabulary_size=162, embedding_dim=4, use_hash=False, dtype='int32', embedding_name='user_pay_count', group_name='default_group'),\n",
              " SparseFeat(name='user_parcel_post_count', vocabulary_size=317, embedding_dim=4, use_hash=False, dtype='int32', embedding_name='user_parcel_post_count', group_name='default_group'),\n",
              " SparseFeat(name='user_transfer_count', vocabulary_size=53, embedding_dim=4, use_hash=False, dtype='int32', embedding_name='user_transfer_count', group_name='default_group'),\n",
              " SparseFeat(name='user_chat_count', vocabulary_size=74, embedding_dim=4, use_hash=False, dtype='int32', embedding_name='user_chat_count', group_name='default_group'),\n",
              " SparseFeat(name='advertiser_grade', vocabulary_size=258, embedding_dim=4, use_hash=False, dtype='int32', embedding_name='advertiser_grade', group_name='default_group'),\n",
              " SparseFeat(name='advertiser_item_count', vocabulary_size=222, embedding_dim=4, use_hash=False, dtype='int32', embedding_name='advertiser_item_count', group_name='default_group'),\n",
              " SparseFeat(name='advertiser_interest_count', vocabulary_size=295, embedding_dim=4, use_hash=False, dtype='int32', embedding_name='advertiser_interest_count', group_name='default_group'),\n",
              " SparseFeat(name='advertiser_follower_count', vocabulary_size=1, embedding_dim=4, use_hash=False, dtype='int32', embedding_name='advertiser_follower_count', group_name='default_group'),\n",
              " SparseFeat(name='advertiser_pay_count', vocabulary_size=132, embedding_dim=4, use_hash=False, dtype='int32', embedding_name='advertiser_pay_count', group_name='default_group'),\n",
              " SparseFeat(name='advertiser_review_count', vocabulary_size=180, embedding_dim=4, use_hash=False, dtype='int32', embedding_name='advertiser_review_count', group_name='default_group'),\n",
              " SparseFeat(name='advertiser_parcel_post_count', vocabulary_size=63, embedding_dim=4, use_hash=False, dtype='int32', embedding_name='advertiser_parcel_post_count', group_name='default_group'),\n",
              " SparseFeat(name='advertiser_transfer_count', vocabulary_size=40, embedding_dim=4, use_hash=False, dtype='int32', embedding_name='advertiser_transfer_count', group_name='default_group'),\n",
              " SparseFeat(name='advertiser_chat_count', vocabulary_size=55, embedding_dim=4, use_hash=False, dtype='int32', embedding_name='advertiser_chat_count', group_name='default_group'),\n",
              " SparseFeat(name='advertiser_favorite_count', vocabulary_size=224, embedding_dim=4, use_hash=False, dtype='int32', embedding_name='advertiser_favorite_count', group_name='default_group'),\n",
              " SparseFeat(name='advertiser_comment_count', vocabulary_size=179, embedding_dim=4, use_hash=False, dtype='int32', embedding_name='advertiser_comment_count', group_name='default_group'),\n",
              " SparseFeat(name='content_bid_price', vocabulary_size=65, embedding_dim=4, use_hash=False, dtype='int32', embedding_name='content_bid_price', group_name='default_group'),\n",
              " SparseFeat(name='content_price', vocabulary_size=407, embedding_dim=4, use_hash=False, dtype='int32', embedding_name='content_price', group_name='default_group'),\n",
              " SparseFeat(name='c_content_flag_used', vocabulary_size=4, embedding_dim=4, use_hash=False, dtype='int32', embedding_name='c_content_flag_used', group_name='default_group'),\n",
              " SparseFeat(name='c_content_category_id_1', vocabulary_size=22, embedding_dim=4, use_hash=False, dtype='int32', embedding_name='c_content_category_id_1', group_name='default_group'),\n",
              " SparseFeat(name='c_content_category_id_2', vocabulary_size=96, embedding_dim=4, use_hash=False, dtype='int32', embedding_name='c_content_category_id_2', group_name='default_group'),\n",
              " SparseFeat(name='c_content_category_id_3', vocabulary_size=171, embedding_dim=4, use_hash=False, dtype='int32', embedding_name='c_content_category_id_3', group_name='default_group'),\n",
              " SparseFeat(name='content_emergency_count', vocabulary_size=23, embedding_dim=4, use_hash=False, dtype='int32', embedding_name='content_emergency_count', group_name='default_group'),\n",
              " SparseFeat(name='content_comment_count', vocabulary_size=52, embedding_dim=4, use_hash=False, dtype='int32', embedding_name='content_comment_count', group_name='default_group'),\n",
              " SparseFeat(name='content_interest_count', vocabulary_size=1014, embedding_dim=4, use_hash=False, dtype='int32', embedding_name='content_interest_count', group_name='default_group'),\n",
              " SparseFeat(name='content_favorite_count', vocabulary_size=313, embedding_dim=4, use_hash=False, dtype='int32', embedding_name='content_favorite_count', group_name='default_group'),\n",
              " SparseFeat(name='content_id', vocabulary_size=1539, embedding_dim=4, use_hash=False, dtype='int32', embedding_name='content_id', group_name='default_group'),\n",
              " SparseFeat(name='content_count', vocabulary_size=142, embedding_dim=4, use_hash=False, dtype='int32', embedding_name='content_count', group_name='default_group')]"
            ]
          },
          "metadata": {},
          "execution_count": 15
        }
      ]
    },
    {
      "cell_type": "markdown",
      "metadata": {
        "id": "8ZsGH6wimmNL"
      },
      "source": [
        ""
      ]
    },
    {
      "cell_type": "code",
      "metadata": {
        "colab": {
          "base_uri": "https://localhost:8080/"
        },
        "id": "R322IuDjzyNt",
        "outputId": "c278baf5-b4c6-4333-93f6-3a11bce75333"
      },
      "source": [
        "feature_names = get_feature_names(dnn_feature_columns + linear_feature_columns)\n",
        "feature_names"
      ],
      "execution_count": null,
      "outputs": [
        {
          "output_type": "execute_result",
          "data": {
            "text/plain": [
              "['day',\n",
              " 'hour',\n",
              " 'c_user_gender',\n",
              " 'c_user_age',\n",
              " 'user_following_count',\n",
              " 'user_pay_count',\n",
              " 'user_parcel_post_count',\n",
              " 'user_transfer_count',\n",
              " 'user_chat_count',\n",
              " 'advertiser_grade',\n",
              " 'advertiser_item_count',\n",
              " 'advertiser_interest_count',\n",
              " 'advertiser_follower_count',\n",
              " 'advertiser_pay_count',\n",
              " 'advertiser_review_count',\n",
              " 'advertiser_parcel_post_count',\n",
              " 'advertiser_transfer_count',\n",
              " 'advertiser_chat_count',\n",
              " 'advertiser_favorite_count',\n",
              " 'advertiser_comment_count',\n",
              " 'content_bid_price',\n",
              " 'content_price',\n",
              " 'c_content_flag_used',\n",
              " 'c_content_category_id_1',\n",
              " 'c_content_category_id_2',\n",
              " 'c_content_category_id_3',\n",
              " 'content_emergency_count',\n",
              " 'content_comment_count',\n",
              " 'content_interest_count',\n",
              " 'content_favorite_count',\n",
              " 'content_id',\n",
              " 'content_count']"
            ]
          },
          "metadata": {},
          "execution_count": 16
        }
      ]
    },
    {
      "cell_type": "code",
      "metadata": {
        "colab": {
          "base_uri": "https://localhost:8080/"
        },
        "id": "CPnr26hXzyQb",
        "outputId": "ae9b45f4-cf6a-442a-e1cc-b38258a61fae"
      },
      "source": [
        "train, test = train_test_split(SW_dataset, test_size = 0.2, random_state = 42)\n",
        "target = ['label']\n",
        "print(train.shape)\n",
        "print(test.shape)"
      ],
      "execution_count": null,
      "outputs": [
        {
          "output_type": "stream",
          "name": "stdout",
          "text": [
            "(683094, 33)\n",
            "(170774, 33)\n"
          ]
        }
      ]
    },
    {
      "cell_type": "code",
      "source": [
        "train"
      ],
      "metadata": {
        "id": "_eIvCFskFFjM",
        "outputId": "643b4710-3022-4ce4-d389-5f9c6b955d77",
        "colab": {
          "base_uri": "https://localhost:8080/",
          "height": 443
        }
      },
      "execution_count": null,
      "outputs": [
        {
          "output_type": "execute_result",
          "data": {
            "text/html": [
              "<div>\n",
              "<style scoped>\n",
              "    .dataframe tbody tr th:only-of-type {\n",
              "        vertical-align: middle;\n",
              "    }\n",
              "\n",
              "    .dataframe tbody tr th {\n",
              "        vertical-align: top;\n",
              "    }\n",
              "\n",
              "    .dataframe thead th {\n",
              "        text-align: right;\n",
              "    }\n",
              "</style>\n",
              "<table border=\"1\" class=\"dataframe\">\n",
              "  <thead>\n",
              "    <tr style=\"text-align: right;\">\n",
              "      <th></th>\n",
              "      <th>label</th>\n",
              "      <th>day</th>\n",
              "      <th>hour</th>\n",
              "      <th>c_user_gender</th>\n",
              "      <th>c_user_age</th>\n",
              "      <th>user_following_count</th>\n",
              "      <th>user_pay_count</th>\n",
              "      <th>user_parcel_post_count</th>\n",
              "      <th>user_transfer_count</th>\n",
              "      <th>user_chat_count</th>\n",
              "      <th>advertiser_grade</th>\n",
              "      <th>advertiser_item_count</th>\n",
              "      <th>advertiser_interest_count</th>\n",
              "      <th>advertiser_follower_count</th>\n",
              "      <th>advertiser_pay_count</th>\n",
              "      <th>advertiser_review_count</th>\n",
              "      <th>advertiser_parcel_post_count</th>\n",
              "      <th>advertiser_transfer_count</th>\n",
              "      <th>advertiser_chat_count</th>\n",
              "      <th>advertiser_favorite_count</th>\n",
              "      <th>advertiser_comment_count</th>\n",
              "      <th>content_bid_price</th>\n",
              "      <th>content_price</th>\n",
              "      <th>c_content_flag_used</th>\n",
              "      <th>c_content_category_id_1</th>\n",
              "      <th>c_content_category_id_2</th>\n",
              "      <th>c_content_category_id_3</th>\n",
              "      <th>content_emergency_count</th>\n",
              "      <th>content_comment_count</th>\n",
              "      <th>content_interest_count</th>\n",
              "      <th>content_favorite_count</th>\n",
              "      <th>content_id</th>\n",
              "      <th>content_count</th>\n",
              "    </tr>\n",
              "  </thead>\n",
              "  <tbody>\n",
              "    <tr>\n",
              "      <th>504937</th>\n",
              "      <td>0</td>\n",
              "      <td>0</td>\n",
              "      <td>11</td>\n",
              "      <td>1</td>\n",
              "      <td>8</td>\n",
              "      <td>0</td>\n",
              "      <td>0</td>\n",
              "      <td>0</td>\n",
              "      <td>0</td>\n",
              "      <td>0</td>\n",
              "      <td>250</td>\n",
              "      <td>40</td>\n",
              "      <td>284</td>\n",
              "      <td>0</td>\n",
              "      <td>85</td>\n",
              "      <td>172</td>\n",
              "      <td>0</td>\n",
              "      <td>1</td>\n",
              "      <td>17</td>\n",
              "      <td>219</td>\n",
              "      <td>176</td>\n",
              "      <td>1</td>\n",
              "      <td>0</td>\n",
              "      <td>0</td>\n",
              "      <td>0</td>\n",
              "      <td>0</td>\n",
              "      <td>0</td>\n",
              "      <td>0</td>\n",
              "      <td>0</td>\n",
              "      <td>0</td>\n",
              "      <td>0</td>\n",
              "      <td>845</td>\n",
              "      <td>0</td>\n",
              "    </tr>\n",
              "    <tr>\n",
              "      <th>653240</th>\n",
              "      <td>0</td>\n",
              "      <td>0</td>\n",
              "      <td>18</td>\n",
              "      <td>1</td>\n",
              "      <td>14</td>\n",
              "      <td>8</td>\n",
              "      <td>0</td>\n",
              "      <td>0</td>\n",
              "      <td>0</td>\n",
              "      <td>1</td>\n",
              "      <td>125</td>\n",
              "      <td>130</td>\n",
              "      <td>99</td>\n",
              "      <td>0</td>\n",
              "      <td>0</td>\n",
              "      <td>61</td>\n",
              "      <td>0</td>\n",
              "      <td>0</td>\n",
              "      <td>0</td>\n",
              "      <td>124</td>\n",
              "      <td>1</td>\n",
              "      <td>1</td>\n",
              "      <td>328</td>\n",
              "      <td>2</td>\n",
              "      <td>10</td>\n",
              "      <td>67</td>\n",
              "      <td>127</td>\n",
              "      <td>0</td>\n",
              "      <td>0</td>\n",
              "      <td>631</td>\n",
              "      <td>31</td>\n",
              "      <td>954</td>\n",
              "      <td>5</td>\n",
              "    </tr>\n",
              "    <tr>\n",
              "      <th>712366</th>\n",
              "      <td>0</td>\n",
              "      <td>0</td>\n",
              "      <td>18</td>\n",
              "      <td>1</td>\n",
              "      <td>4</td>\n",
              "      <td>0</td>\n",
              "      <td>1</td>\n",
              "      <td>1</td>\n",
              "      <td>0</td>\n",
              "      <td>2</td>\n",
              "      <td>160</td>\n",
              "      <td>91</td>\n",
              "      <td>157</td>\n",
              "      <td>0</td>\n",
              "      <td>0</td>\n",
              "      <td>89</td>\n",
              "      <td>0</td>\n",
              "      <td>0</td>\n",
              "      <td>2</td>\n",
              "      <td>172</td>\n",
              "      <td>0</td>\n",
              "      <td>0</td>\n",
              "      <td>141</td>\n",
              "      <td>2</td>\n",
              "      <td>10</td>\n",
              "      <td>67</td>\n",
              "      <td>127</td>\n",
              "      <td>2</td>\n",
              "      <td>0</td>\n",
              "      <td>731</td>\n",
              "      <td>90</td>\n",
              "      <td>1044</td>\n",
              "      <td>1</td>\n",
              "    </tr>\n",
              "    <tr>\n",
              "      <th>288467</th>\n",
              "      <td>0</td>\n",
              "      <td>0</td>\n",
              "      <td>0</td>\n",
              "      <td>2</td>\n",
              "      <td>8</td>\n",
              "      <td>43</td>\n",
              "      <td>1</td>\n",
              "      <td>1</td>\n",
              "      <td>0</td>\n",
              "      <td>0</td>\n",
              "      <td>253</td>\n",
              "      <td>161</td>\n",
              "      <td>210</td>\n",
              "      <td>0</td>\n",
              "      <td>130</td>\n",
              "      <td>175</td>\n",
              "      <td>0</td>\n",
              "      <td>11</td>\n",
              "      <td>53</td>\n",
              "      <td>209</td>\n",
              "      <td>161</td>\n",
              "      <td>0</td>\n",
              "      <td>301</td>\n",
              "      <td>1</td>\n",
              "      <td>10</td>\n",
              "      <td>67</td>\n",
              "      <td>127</td>\n",
              "      <td>0</td>\n",
              "      <td>0</td>\n",
              "      <td>121</td>\n",
              "      <td>3</td>\n",
              "      <td>1299</td>\n",
              "      <td>2</td>\n",
              "    </tr>\n",
              "    <tr>\n",
              "      <th>470793</th>\n",
              "      <td>0</td>\n",
              "      <td>0</td>\n",
              "      <td>22</td>\n",
              "      <td>2</td>\n",
              "      <td>32</td>\n",
              "      <td>83</td>\n",
              "      <td>0</td>\n",
              "      <td>1</td>\n",
              "      <td>0</td>\n",
              "      <td>0</td>\n",
              "      <td>205</td>\n",
              "      <td>122</td>\n",
              "      <td>248</td>\n",
              "      <td>0</td>\n",
              "      <td>65</td>\n",
              "      <td>129</td>\n",
              "      <td>19</td>\n",
              "      <td>4</td>\n",
              "      <td>4</td>\n",
              "      <td>156</td>\n",
              "      <td>147</td>\n",
              "      <td>1</td>\n",
              "      <td>10</td>\n",
              "      <td>2</td>\n",
              "      <td>10</td>\n",
              "      <td>67</td>\n",
              "      <td>127</td>\n",
              "      <td>0</td>\n",
              "      <td>0</td>\n",
              "      <td>554</td>\n",
              "      <td>39</td>\n",
              "      <td>343</td>\n",
              "      <td>12</td>\n",
              "    </tr>\n",
              "    <tr>\n",
              "      <th>...</th>\n",
              "      <td>...</td>\n",
              "      <td>...</td>\n",
              "      <td>...</td>\n",
              "      <td>...</td>\n",
              "      <td>...</td>\n",
              "      <td>...</td>\n",
              "      <td>...</td>\n",
              "      <td>...</td>\n",
              "      <td>...</td>\n",
              "      <td>...</td>\n",
              "      <td>...</td>\n",
              "      <td>...</td>\n",
              "      <td>...</td>\n",
              "      <td>...</td>\n",
              "      <td>...</td>\n",
              "      <td>...</td>\n",
              "      <td>...</td>\n",
              "      <td>...</td>\n",
              "      <td>...</td>\n",
              "      <td>...</td>\n",
              "      <td>...</td>\n",
              "      <td>...</td>\n",
              "      <td>...</td>\n",
              "      <td>...</td>\n",
              "      <td>...</td>\n",
              "      <td>...</td>\n",
              "      <td>...</td>\n",
              "      <td>...</td>\n",
              "      <td>...</td>\n",
              "      <td>...</td>\n",
              "      <td>...</td>\n",
              "      <td>...</td>\n",
              "      <td>...</td>\n",
              "    </tr>\n",
              "    <tr>\n",
              "      <th>259178</th>\n",
              "      <td>0</td>\n",
              "      <td>0</td>\n",
              "      <td>18</td>\n",
              "      <td>1</td>\n",
              "      <td>5</td>\n",
              "      <td>1</td>\n",
              "      <td>1</td>\n",
              "      <td>0</td>\n",
              "      <td>0</td>\n",
              "      <td>0</td>\n",
              "      <td>250</td>\n",
              "      <td>40</td>\n",
              "      <td>284</td>\n",
              "      <td>0</td>\n",
              "      <td>85</td>\n",
              "      <td>172</td>\n",
              "      <td>0</td>\n",
              "      <td>1</td>\n",
              "      <td>17</td>\n",
              "      <td>219</td>\n",
              "      <td>176</td>\n",
              "      <td>10</td>\n",
              "      <td>321</td>\n",
              "      <td>1</td>\n",
              "      <td>10</td>\n",
              "      <td>67</td>\n",
              "      <td>127</td>\n",
              "      <td>0</td>\n",
              "      <td>0</td>\n",
              "      <td>752</td>\n",
              "      <td>99</td>\n",
              "      <td>493</td>\n",
              "      <td>2</td>\n",
              "    </tr>\n",
              "    <tr>\n",
              "      <th>365838</th>\n",
              "      <td>0</td>\n",
              "      <td>0</td>\n",
              "      <td>1</td>\n",
              "      <td>1</td>\n",
              "      <td>28</td>\n",
              "      <td>7</td>\n",
              "      <td>0</td>\n",
              "      <td>0</td>\n",
              "      <td>0</td>\n",
              "      <td>0</td>\n",
              "      <td>216</td>\n",
              "      <td>108</td>\n",
              "      <td>187</td>\n",
              "      <td>0</td>\n",
              "      <td>116</td>\n",
              "      <td>139</td>\n",
              "      <td>0</td>\n",
              "      <td>0</td>\n",
              "      <td>11</td>\n",
              "      <td>187</td>\n",
              "      <td>149</td>\n",
              "      <td>0</td>\n",
              "      <td>293</td>\n",
              "      <td>1</td>\n",
              "      <td>10</td>\n",
              "      <td>67</td>\n",
              "      <td>127</td>\n",
              "      <td>0</td>\n",
              "      <td>0</td>\n",
              "      <td>196</td>\n",
              "      <td>7</td>\n",
              "      <td>1374</td>\n",
              "      <td>1</td>\n",
              "    </tr>\n",
              "    <tr>\n",
              "      <th>131932</th>\n",
              "      <td>0</td>\n",
              "      <td>0</td>\n",
              "      <td>12</td>\n",
              "      <td>1</td>\n",
              "      <td>16</td>\n",
              "      <td>0</td>\n",
              "      <td>0</td>\n",
              "      <td>0</td>\n",
              "      <td>1</td>\n",
              "      <td>0</td>\n",
              "      <td>140</td>\n",
              "      <td>102</td>\n",
              "      <td>104</td>\n",
              "      <td>0</td>\n",
              "      <td>86</td>\n",
              "      <td>73</td>\n",
              "      <td>0</td>\n",
              "      <td>0</td>\n",
              "      <td>9</td>\n",
              "      <td>84</td>\n",
              "      <td>138</td>\n",
              "      <td>0</td>\n",
              "      <td>281</td>\n",
              "      <td>1</td>\n",
              "      <td>10</td>\n",
              "      <td>61</td>\n",
              "      <td>119</td>\n",
              "      <td>1</td>\n",
              "      <td>0</td>\n",
              "      <td>822</td>\n",
              "      <td>117</td>\n",
              "      <td>464</td>\n",
              "      <td>4</td>\n",
              "    </tr>\n",
              "    <tr>\n",
              "      <th>671155</th>\n",
              "      <td>0</td>\n",
              "      <td>0</td>\n",
              "      <td>14</td>\n",
              "      <td>1</td>\n",
              "      <td>25</td>\n",
              "      <td>1</td>\n",
              "      <td>1</td>\n",
              "      <td>0</td>\n",
              "      <td>0</td>\n",
              "      <td>0</td>\n",
              "      <td>253</td>\n",
              "      <td>161</td>\n",
              "      <td>210</td>\n",
              "      <td>0</td>\n",
              "      <td>130</td>\n",
              "      <td>175</td>\n",
              "      <td>0</td>\n",
              "      <td>11</td>\n",
              "      <td>53</td>\n",
              "      <td>209</td>\n",
              "      <td>161</td>\n",
              "      <td>0</td>\n",
              "      <td>305</td>\n",
              "      <td>1</td>\n",
              "      <td>10</td>\n",
              "      <td>67</td>\n",
              "      <td>127</td>\n",
              "      <td>0</td>\n",
              "      <td>0</td>\n",
              "      <td>142</td>\n",
              "      <td>11</td>\n",
              "      <td>1297</td>\n",
              "      <td>1</td>\n",
              "    </tr>\n",
              "    <tr>\n",
              "      <th>121958</th>\n",
              "      <td>0</td>\n",
              "      <td>0</td>\n",
              "      <td>7</td>\n",
              "      <td>1</td>\n",
              "      <td>29</td>\n",
              "      <td>0</td>\n",
              "      <td>50</td>\n",
              "      <td>9</td>\n",
              "      <td>0</td>\n",
              "      <td>1</td>\n",
              "      <td>225</td>\n",
              "      <td>172</td>\n",
              "      <td>177</td>\n",
              "      <td>0</td>\n",
              "      <td>122</td>\n",
              "      <td>146</td>\n",
              "      <td>0</td>\n",
              "      <td>5</td>\n",
              "      <td>49</td>\n",
              "      <td>184</td>\n",
              "      <td>127</td>\n",
              "      <td>0</td>\n",
              "      <td>283</td>\n",
              "      <td>1</td>\n",
              "      <td>10</td>\n",
              "      <td>67</td>\n",
              "      <td>127</td>\n",
              "      <td>0</td>\n",
              "      <td>0</td>\n",
              "      <td>130</td>\n",
              "      <td>4</td>\n",
              "      <td>968</td>\n",
              "      <td>18</td>\n",
              "    </tr>\n",
              "  </tbody>\n",
              "</table>\n",
              "<p>683094 rows × 33 columns</p>\n",
              "</div>"
            ],
            "text/plain": [
              "        label  day  hour  ...  content_favorite_count  content_id  content_count\n",
              "504937      0    0    11  ...                       0         845              0\n",
              "653240      0    0    18  ...                      31         954              5\n",
              "712366      0    0    18  ...                      90        1044              1\n",
              "288467      0    0     0  ...                       3        1299              2\n",
              "470793      0    0    22  ...                      39         343             12\n",
              "...       ...  ...   ...  ...                     ...         ...            ...\n",
              "259178      0    0    18  ...                      99         493              2\n",
              "365838      0    0     1  ...                       7        1374              1\n",
              "131932      0    0    12  ...                     117         464              4\n",
              "671155      0    0    14  ...                      11        1297              1\n",
              "121958      0    0     7  ...                       4         968             18\n",
              "\n",
              "[683094 rows x 33 columns]"
            ]
          },
          "metadata": {},
          "execution_count": 18
        }
      ]
    },
    {
      "cell_type": "code",
      "metadata": {
        "id": "disLGvcPzyUG"
      },
      "source": [
        "train_model_input = {name : train[name] for name in feature_names}  # 위에서 만든 변수들을 사용해서 input이 만들어지는 과정입니다.\n",
        "test_model_input = {name : test[name] for name in feature_names}"
      ],
      "execution_count": null,
      "outputs": []
    },
    {
      "cell_type": "markdown",
      "metadata": {
        "id": "JaomBSZSm14O"
      },
      "source": [
        "* 위의 난해한 과정을 거쳐 해당 cell에서 모델에 사용될 input를 train과 test별로 나누게 된다."
      ]
    },
    {
      "cell_type": "code",
      "metadata": {
        "id": "PrxAN9I4zyW2",
        "colab": {
          "base_uri": "https://localhost:8080/"
        },
        "outputId": "71e42a8b-c55f-4951-f130-dbe6811061cc"
      },
      "source": [
        "device = 'cpu'\n",
        "use_cuda = True\n",
        "\n",
        "if use_cuda and torch.cuda.is_available():\n",
        "    print('GPU')\n",
        "    device = 'cuda:0'"
      ],
      "execution_count": null,
      "outputs": [
        {
          "output_type": "stream",
          "name": "stdout",
          "text": [
            "GPU\n"
          ]
        }
      ]
    },
    {
      "cell_type": "code",
      "metadata": {
        "colab": {
          "base_uri": "https://localhost:8080/"
        },
        "id": "b-5q-j7tzyZ7",
        "outputId": "836fb4a7-7e13-4ed1-d3bb-d34c87a4f794"
      },
      "source": [
        "model = DeepFM(linear_feature_columns = linear_feature_columns, # 위에서 만든 변수가 하이퍼파라미터로 들어가는 부분입니다.\n",
        "               dnn_feature_columns = dnn_feature_columns, \n",
        "               task = 'binary',\n",
        "               device = device,\n",
        "            #    l2_reg_embedding = 1e-5, \n",
        "            #    dnn_dropout = 0.6,           # deepfm 논문상 0.6~0.9가 최고 성능이었습니다.\n",
        "               )\n",
        "\n",
        "model.compile('adagrad', \n",
        "              'binary_crossentropy',\n",
        "              metrics = ['binary_crossentropy', 'auc']\n",
        "              )\n",
        "\n",
        "history = model.fit(x = train_model_input,  # \n",
        "                    y = train[target].values,\n",
        "                    batch_size = 512, # 디폴트 값이 256입니다.\n",
        "                    epochs = 30,\n",
        "                    verbose = 1,\n",
        "                    validation_split = 0.2\n",
        "                    )"
      ],
      "execution_count": null,
      "outputs": [
        {
          "output_type": "stream",
          "name": "stdout",
          "text": [
            "cuda:0\n",
            "Train on 546475 samples, validate on 136619 samples, 1068 steps per epoch\n"
          ]
        },
        {
          "output_type": "stream",
          "name": "stderr",
          "text": [
            "1068it [00:40, 26.60it/s]\n"
          ]
        },
        {
          "output_type": "stream",
          "name": "stdout",
          "text": [
            "Epoch 1/30\n",
            "42s - loss:  0.0922 - binary_crossentropy:  0.0922 - auc:  0.8603 - val_binary_crossentropy:  0.0887 - val_auc:  0.8732\n"
          ]
        },
        {
          "output_type": "stream",
          "name": "stderr",
          "text": [
            "1068it [00:39, 27.16it/s]\n"
          ]
        },
        {
          "output_type": "stream",
          "name": "stdout",
          "text": [
            "Epoch 2/30\n",
            "41s - loss:  0.0868 - binary_crossentropy:  0.0868 - auc:  0.8818 - val_binary_crossentropy:  0.0883 - val_auc:  0.8757\n"
          ]
        },
        {
          "output_type": "stream",
          "name": "stderr",
          "text": [
            "1068it [00:39, 26.95it/s]\n"
          ]
        },
        {
          "output_type": "stream",
          "name": "stdout",
          "text": [
            "Epoch 3/30\n",
            "41s - loss:  0.0859 - binary_crossentropy:  0.0858 - auc:  0.8872 - val_binary_crossentropy:  0.0883 - val_auc:  0.8763\n"
          ]
        },
        {
          "output_type": "stream",
          "name": "stderr",
          "text": [
            "1068it [00:39, 26.72it/s]\n"
          ]
        },
        {
          "output_type": "stream",
          "name": "stdout",
          "text": [
            "Epoch 4/30\n",
            "42s - loss:  0.0853 - binary_crossentropy:  0.0853 - auc:  0.8894 - val_binary_crossentropy:  0.0881 - val_auc:  0.8768\n"
          ]
        },
        {
          "output_type": "stream",
          "name": "stderr",
          "text": [
            "1068it [00:39, 26.76it/s]\n"
          ]
        },
        {
          "output_type": "stream",
          "name": "stdout",
          "text": [
            "Epoch 5/30\n",
            "42s - loss:  0.0849 - binary_crossentropy:  0.0849 - auc:  0.8916 - val_binary_crossentropy:  0.0882 - val_auc:  0.8767\n"
          ]
        },
        {
          "output_type": "stream",
          "name": "stderr",
          "text": [
            "1068it [00:39, 26.77it/s]\n"
          ]
        },
        {
          "output_type": "stream",
          "name": "stdout",
          "text": [
            "Epoch 6/30\n",
            "42s - loss:  0.0845 - binary_crossentropy:  0.0845 - auc:  0.8935 - val_binary_crossentropy:  0.0883 - val_auc:  0.8768\n"
          ]
        },
        {
          "output_type": "stream",
          "name": "stderr",
          "text": [
            "1068it [00:39, 26.77it/s]\n"
          ]
        },
        {
          "output_type": "stream",
          "name": "stdout",
          "text": [
            "Epoch 7/30\n",
            "42s - loss:  0.0842 - binary_crossentropy:  0.0842 - auc:  0.8942 - val_binary_crossentropy:  0.0883 - val_auc:  0.8774\n"
          ]
        },
        {
          "output_type": "stream",
          "name": "stderr",
          "text": [
            "1068it [00:39, 26.77it/s]\n"
          ]
        },
        {
          "output_type": "stream",
          "name": "stdout",
          "text": [
            "Epoch 8/30\n",
            "42s - loss:  0.0840 - binary_crossentropy:  0.0839 - auc:  0.8952 - val_binary_crossentropy:  0.0884 - val_auc:  0.8774\n"
          ]
        },
        {
          "output_type": "stream",
          "name": "stderr",
          "text": [
            "1068it [00:40, 26.48it/s]\n"
          ]
        },
        {
          "output_type": "stream",
          "name": "stdout",
          "text": [
            "Epoch 9/30\n",
            "42s - loss:  0.0837 - binary_crossentropy:  0.0837 - auc:  0.8973 - val_binary_crossentropy:  0.0883 - val_auc:  0.8774\n"
          ]
        },
        {
          "output_type": "stream",
          "name": "stderr",
          "text": [
            "1068it [00:40, 26.65it/s]\n"
          ]
        },
        {
          "output_type": "stream",
          "name": "stdout",
          "text": [
            "Epoch 10/30\n",
            "42s - loss:  0.0834 - binary_crossentropy:  0.0834 - auc:  0.8982 - val_binary_crossentropy:  0.0884 - val_auc:  0.8777\n"
          ]
        },
        {
          "output_type": "stream",
          "name": "stderr",
          "text": [
            "1068it [00:39, 26.88it/s]\n"
          ]
        },
        {
          "output_type": "stream",
          "name": "stdout",
          "text": [
            "Epoch 11/30\n",
            "41s - loss:  0.0832 - binary_crossentropy:  0.0832 - auc:  0.8992 - val_binary_crossentropy:  0.0884 - val_auc:  0.8777\n"
          ]
        },
        {
          "output_type": "stream",
          "name": "stderr",
          "text": [
            "1068it [00:39, 26.73it/s]\n"
          ]
        },
        {
          "output_type": "stream",
          "name": "stdout",
          "text": [
            "Epoch 12/30\n",
            "42s - loss:  0.0830 - binary_crossentropy:  0.0830 - auc:  0.9001 - val_binary_crossentropy:  0.0885 - val_auc:  0.8777\n"
          ]
        },
        {
          "output_type": "stream",
          "name": "stderr",
          "text": [
            "1068it [00:40, 26.63it/s]\n"
          ]
        },
        {
          "output_type": "stream",
          "name": "stdout",
          "text": [
            "Epoch 13/30\n",
            "42s - loss:  0.0828 - binary_crossentropy:  0.0828 - auc:  0.9013 - val_binary_crossentropy:  0.0886 - val_auc:  0.8779\n"
          ]
        },
        {
          "output_type": "stream",
          "name": "stderr",
          "text": [
            "1068it [00:39, 26.73it/s]\n"
          ]
        },
        {
          "output_type": "stream",
          "name": "stdout",
          "text": [
            "Epoch 14/30\n",
            "42s - loss:  0.0826 - binary_crossentropy:  0.0826 - auc:  0.9017 - val_binary_crossentropy:  0.0886 - val_auc:  0.8782\n"
          ]
        },
        {
          "output_type": "stream",
          "name": "stderr",
          "text": [
            "1068it [00:39, 26.73it/s]\n"
          ]
        },
        {
          "output_type": "stream",
          "name": "stdout",
          "text": [
            "Epoch 15/30\n",
            "42s - loss:  0.0824 - binary_crossentropy:  0.0824 - auc:  0.9024 - val_binary_crossentropy:  0.0886 - val_auc:  0.8781\n"
          ]
        },
        {
          "output_type": "stream",
          "name": "stderr",
          "text": [
            "1068it [00:40, 26.58it/s]\n"
          ]
        },
        {
          "output_type": "stream",
          "name": "stdout",
          "text": [
            "Epoch 16/30\n",
            "42s - loss:  0.0822 - binary_crossentropy:  0.0822 - auc:  0.9028 - val_binary_crossentropy:  0.0888 - val_auc:  0.8779\n"
          ]
        },
        {
          "output_type": "stream",
          "name": "stderr",
          "text": [
            "1068it [00:40, 26.49it/s]\n"
          ]
        },
        {
          "output_type": "stream",
          "name": "stdout",
          "text": [
            "Epoch 17/30\n",
            "42s - loss:  0.0821 - binary_crossentropy:  0.0821 - auc:  0.9033 - val_binary_crossentropy:  0.0891 - val_auc:  0.8779\n"
          ]
        },
        {
          "output_type": "stream",
          "name": "stderr",
          "text": [
            "1068it [00:39, 26.72it/s]\n"
          ]
        },
        {
          "output_type": "stream",
          "name": "stdout",
          "text": [
            "Epoch 18/30\n",
            "42s - loss:  0.0820 - binary_crossentropy:  0.0820 - auc:  0.9041 - val_binary_crossentropy:  0.0890 - val_auc:  0.8780\n"
          ]
        },
        {
          "output_type": "stream",
          "name": "stderr",
          "text": [
            "1068it [00:40, 26.40it/s]\n"
          ]
        },
        {
          "output_type": "stream",
          "name": "stdout",
          "text": [
            "Epoch 19/30\n",
            "42s - loss:  0.0819 - binary_crossentropy:  0.0819 - auc:  0.9045 - val_binary_crossentropy:  0.0891 - val_auc:  0.8781\n"
          ]
        },
        {
          "output_type": "stream",
          "name": "stderr",
          "text": [
            "1068it [00:40, 26.30it/s]\n"
          ]
        },
        {
          "output_type": "stream",
          "name": "stdout",
          "text": [
            "Epoch 20/30\n",
            "42s - loss:  0.0817 - binary_crossentropy:  0.0817 - auc:  0.9049 - val_binary_crossentropy:  0.0892 - val_auc:  0.8780\n"
          ]
        },
        {
          "output_type": "stream",
          "name": "stderr",
          "text": [
            "1068it [00:40, 26.47it/s]\n"
          ]
        },
        {
          "output_type": "stream",
          "name": "stdout",
          "text": [
            "Epoch 21/30\n",
            "42s - loss:  0.0816 - binary_crossentropy:  0.0816 - auc:  0.9057 - val_binary_crossentropy:  0.0894 - val_auc:  0.8779\n"
          ]
        },
        {
          "output_type": "stream",
          "name": "stderr",
          "text": [
            "1068it [00:40, 26.44it/s]\n"
          ]
        },
        {
          "output_type": "stream",
          "name": "stdout",
          "text": [
            "Epoch 22/30\n",
            "42s - loss:  0.0815 - binary_crossentropy:  0.0815 - auc:  0.9055 - val_binary_crossentropy:  0.0894 - val_auc:  0.8778\n"
          ]
        },
        {
          "output_type": "stream",
          "name": "stderr",
          "text": [
            "1068it [00:40, 26.36it/s]\n"
          ]
        },
        {
          "output_type": "stream",
          "name": "stdout",
          "text": [
            "Epoch 23/30\n",
            "42s - loss:  0.0814 - binary_crossentropy:  0.0814 - auc:  0.9064 - val_binary_crossentropy:  0.0895 - val_auc:  0.8776\n"
          ]
        },
        {
          "output_type": "stream",
          "name": "stderr",
          "text": [
            "129it [00:04, 28.06it/s]"
          ]
        }
      ]
    },
    {
      "cell_type": "markdown",
      "metadata": {
        "id": "GYG0fcz3nIc0"
      },
      "source": [
        "* 모델이 짜여지고 학습이 이루어진다.\n",
        "* 현재는 하이퍼파라미터 튜닝을 안 한 상태이며 하이퍼파라미터 종류를 확인하고 시간이 남으면 진행해볼 예정이다."
      ]
    },
    {
      "cell_type": "code",
      "metadata": {
        "colab": {
          "base_uri": "https://localhost:8080/"
        },
        "id": "JOBVlRL7zydX",
        "outputId": "c6c12848-ba0c-4bc0-c9af-00ff8754828e"
      },
      "source": [
        "pred = model.predict(x = test_model_input,\n",
        "                     batch_size = 512)\n",
        "\n",
        "print(\"\")\n",
        "print('test log loss : ', round(log_loss(test[target].values, pred), 4))\n",
        "print('test AUC : ', round(roc_auc_score(test[target].values, pred), 4))"
      ],
      "execution_count": null,
      "outputs": [
        {
          "output_type": "stream",
          "name": "stdout",
          "text": [
            "\n",
            "test log loss :  0.0889\n",
            "test AUC :  0.8748\n"
          ]
        }
      ]
    },
    {
      "cell_type": "markdown",
      "metadata": {
        "id": "8MQj7Mtfne8i"
      },
      "source": [
        "* test 데이터셋에도 정상적으로 돌아가며 준수한 loss가 찍힌다.\n",
        "* 다만 문제점이 하나 있다.\n",
        "    * 추천을 해주려면 각 클래스(클릭한다 안한다)에 속할 확률을 리턴해줘서 확률 값을 내림차순으로 top-k를 뽑을 수 있어야 하는데, deepfm에는 확률값 리턴 메소드인 predict_proba가 없다."
      ]
    },
    {
      "cell_type": "code",
      "metadata": {
        "id": "eKGgQ_hVzygo"
      },
      "source": [
        "torch.save(model, '/content/drive/MyDrive/deepfm.h5')\n",
        "# model = torch.load(PATH)"
      ],
      "execution_count": null,
      "outputs": []
    },
    {
      "cell_type": "code",
      "source": [
        "pd.DataFrame(pred)"
      ],
      "metadata": {
        "colab": {
          "base_uri": "https://localhost:8080/",
          "height": 423
        },
        "id": "DhwR8PLwwbhN",
        "outputId": "7cd972e7-82d8-4214-944c-50c1a467af1b"
      },
      "execution_count": null,
      "outputs": [
        {
          "output_type": "execute_result",
          "data": {
            "text/html": [
              "<div>\n",
              "<style scoped>\n",
              "    .dataframe tbody tr th:only-of-type {\n",
              "        vertical-align: middle;\n",
              "    }\n",
              "\n",
              "    .dataframe tbody tr th {\n",
              "        vertical-align: top;\n",
              "    }\n",
              "\n",
              "    .dataframe thead th {\n",
              "        text-align: right;\n",
              "    }\n",
              "</style>\n",
              "<table border=\"1\" class=\"dataframe\">\n",
              "  <thead>\n",
              "    <tr style=\"text-align: right;\">\n",
              "      <th></th>\n",
              "      <th>0</th>\n",
              "    </tr>\n",
              "  </thead>\n",
              "  <tbody>\n",
              "    <tr>\n",
              "      <th>0</th>\n",
              "      <td>6.898328e-04</td>\n",
              "    </tr>\n",
              "    <tr>\n",
              "      <th>1</th>\n",
              "      <td>7.020306e-03</td>\n",
              "    </tr>\n",
              "    <tr>\n",
              "      <th>2</th>\n",
              "      <td>1.626103e-09</td>\n",
              "    </tr>\n",
              "    <tr>\n",
              "      <th>3</th>\n",
              "      <td>2.318446e-02</td>\n",
              "    </tr>\n",
              "    <tr>\n",
              "      <th>4</th>\n",
              "      <td>6.927109e-02</td>\n",
              "    </tr>\n",
              "    <tr>\n",
              "      <th>...</th>\n",
              "      <td>...</td>\n",
              "    </tr>\n",
              "    <tr>\n",
              "      <th>170769</th>\n",
              "      <td>1.730059e-02</td>\n",
              "    </tr>\n",
              "    <tr>\n",
              "      <th>170770</th>\n",
              "      <td>6.885687e-08</td>\n",
              "    </tr>\n",
              "    <tr>\n",
              "      <th>170771</th>\n",
              "      <td>1.158793e-06</td>\n",
              "    </tr>\n",
              "    <tr>\n",
              "      <th>170772</th>\n",
              "      <td>7.382467e-10</td>\n",
              "    </tr>\n",
              "    <tr>\n",
              "      <th>170773</th>\n",
              "      <td>8.859111e-06</td>\n",
              "    </tr>\n",
              "  </tbody>\n",
              "</table>\n",
              "<p>170774 rows × 1 columns</p>\n",
              "</div>"
            ],
            "text/plain": [
              "                   0\n",
              "0       6.898328e-04\n",
              "1       7.020306e-03\n",
              "2       1.626103e-09\n",
              "3       2.318446e-02\n",
              "4       6.927109e-02\n",
              "...              ...\n",
              "170769  1.730059e-02\n",
              "170770  6.885687e-08\n",
              "170771  1.158793e-06\n",
              "170772  7.382467e-10\n",
              "170773  8.859111e-06\n",
              "\n",
              "[170774 rows x 1 columns]"
            ]
          },
          "metadata": {},
          "execution_count": 39
        }
      ]
    },
    {
      "cell_type": "code",
      "metadata": {
        "id": "Me7Kw-JhzykV"
      },
      "source": [
        ""
      ],
      "execution_count": null,
      "outputs": []
    },
    {
      "cell_type": "code",
      "metadata": {
        "id": "ulJ6Wk2gzynh"
      },
      "source": [
        ""
      ],
      "execution_count": null,
      "outputs": []
    },
    {
      "cell_type": "code",
      "metadata": {
        "id": "SUVcsrgPzyrM"
      },
      "source": [
        ""
      ],
      "execution_count": null,
      "outputs": []
    },
    {
      "cell_type": "code",
      "metadata": {
        "id": "kjJX-0eMzyuI"
      },
      "source": [
        ""
      ],
      "execution_count": null,
      "outputs": []
    }
  ]
}